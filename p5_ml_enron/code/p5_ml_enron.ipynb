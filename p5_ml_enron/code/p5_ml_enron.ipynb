{
 "cells": [
  {
   "cell_type": "markdown",
   "metadata": {
    "collapsed": false,
    "deletable": true,
    "editable": true
   },
   "source": [
    "# Intro to Machine Learning: Identifying Fraud from Enron Email\n",
    "\n",
    "> Udacity Data Analyst Nanodegree: _Project 5_\n",
    ">\n",
    "> Author: _Ke Zhang_\n",
    ">\n",
    "> Submission Date: _2017-04-12_ (Revision 2)"
   ]
  },
  {
   "cell_type": "markdown",
   "metadata": {
    "deletable": true,
    "editable": true
   },
   "source": [
    "## Abstract\n",
    "\n",
    "In 2000, Enron was one of the largest companies in the United States. By 2002, it had collapsed into bankruptcy due to widespread corporate fraud. In the resulting Federal investigation, there was a significant amount of typically confidential information entered into public record, including tens of thousands of emails and detailed financial data for top executives."
   ]
  },
  {
   "cell_type": "markdown",
   "metadata": {
    "deletable": true,
    "editable": true
   },
   "source": [
    "## Content\n",
    "\n",
    "- [Question 1: Explore Dataset & Define Questions](#Question-1:-Explore-Dataset-&-Define-Questions)\n",
    "    - [Data Preparation and Preview](#Data-Preparation-and-Preview)\n",
    "    - [Outlier Investigation](#Outlier-Investigation)\n",
    "- [Question 2: Select & Engineer Features](#Question-2:-Select-&-Engineer-Features)\n",
    "    - [Feature Creation](#Feature-Creation)\n",
    "    - [Feature Exploration](#Feature-Exploration)\n",
    "    - [Feature Selection](#Feature-Selection)\n",
    "    - [Feature Scaling](#Feature-Scaling)\n",
    "- [Question 3: Pick & Test Algorithms](#Question-3:-Pick-&-Test-Algorithms)\n",
    "    - [Algorithm Research & Selection](#Algorithm-Research-&-Selection)\n",
    "    - [Algorithm Pipelines](#Algorithm-Pipelines)\n",
    "    - [Performance Comparison](#Performance-Comparison)\n",
    "    - [Final Pick](#Final-Pick)\n",
    "- [Question 4: Tune Parameters](#Question-4:-Tune-Parameters)\n",
    "- [Question 5: Validate Algorithm](#Question-5:-Validate-Algorithm)\n",
    "- [Question 6: Evaluate Algorithm](#Question-6:-Evaluate-Algorithm)\n",
    "- [Dump Tester Results](#Dump-Tester-Results)\n",
    "- [Conclusion](#Conclusion)"
   ]
  },
  {
   "cell_type": "markdown",
   "metadata": {
    "deletable": true,
    "editable": true
   },
   "source": [
    "## Question 1: Explore Dataset & Define Questions\n",
    "\n",
    "**Question 1**: Summarize for us the goal of this project and how machine learning is useful in trying to accomplish it. As part of your answer, give some background on the dataset and how it can be used to answer the project question. Were there any outliers in the data when you got it, and how did you handle those?\n",
    "\n",
    "> In this project, we'll try to identify person of interest (POI) in this fraud case using  machine learning methods and financial and email data publicly available after the Enron scandal. The enron dataset consists 146 personal records which on its own is divided into 20 features (14 financial and 6 email features) and 1 target label. 18 of them are identified as POI. From the features only *email_address* is of string type. The others are all numeric.\n",
    ">\n",
    "> **Missing values investigation**: In the provided dataset, all features contain _NaN_ values. Following the \"payments to insiders\" PDF file, most of the _NaN_ in the financial features could be actually zero values. In the email data there are almost 60 persons who had no emails at all. (Which is strange, but not impossible.) Hence in the subsequent analysis the _NaN_ values are interpreted as _0_. \n",
    ">\n",
    "> **Outliers investigation**: Three types of outliers were detected in the dataset. All detected outliers were non-POI and were dropped to avoid misleading conclusions. We also removed the *email_address* because it was unused in later analysis.\n",
    "* record without any financial values, e.g. 'LOCKHART EUGENE E'\n",
    "* record which does not represent a person, e.g. 'TOTAL'\n",
    "* corrupted records (negative values in positive columns), e.g. 'BELFER ROBERT'\n",
    ">\n",
    "> Here a summary table of basic numbers and statistics:\n",
    "\n",
    "|                               | **_Value_** |\n",
    "|-------------------------------|-------------|\n",
    "| Number of persons/records:    | **146**     |\n",
    "| ... # of POI                  | 18 (12.3%)  |\n",
    "| ... # of non-POI              | 128 (87.7%) |\n",
    "| Number of features:           | **20**      |\n",
    "| ... # of financial features   | 19          |\n",
    "| ... # of email features       | 1           |\n",
    "| Number of NaN values          | **1358**    |\n",
    "| Outliers:                     |             |         \n",
    "| ... empty feature values      | 'LOCKHART EUGENE E' |\n",
    "| ... total sum                 | 'TOTAL'     |\n",
    "| ... agency name               | 'THE TRAVEL AGENCY IN THE PARK' |\n",
    "| ... corrupted records:        |             |\n",
    "|                               | 'BELFER ROBERT' |\n",
    "|                               | 'BHATNAGAR SANJAY' |\n"
   ]
  },
  {
   "cell_type": "markdown",
   "metadata": {
    "deletable": true,
    "editable": true
   },
   "source": [
    "### Data Preparation and Preview"
   ]
  },
  {
   "cell_type": "code",
   "execution_count": 1,
   "metadata": {
    "collapsed": false,
    "deletable": true,
    "editable": true,
    "scrolled": true
   },
   "outputs": [
    {
     "name": "stderr",
     "output_type": "stream",
     "text": [
      "C:\\dev\\anaconda\\lib\\site-packages\\sklearn\\cross_validation.py:44: DeprecationWarning: This module was deprecated in version 0.18 in favor of the model_selection module into which all the refactored classes and functions are moved. Also note that the interface of the new CV iterators are different from that of this module. This module will be removed in 0.20.\n",
      "  \"This module will be removed in 0.20.\", DeprecationWarning)\n"
     ]
    }
   ],
   "source": [
    "# enable auto reloading modules\n",
    "%load_ext autoreload\n",
    "%autoreload 2\n",
    "%matplotlib inline\n",
    "\n",
    "# load libraries\n",
    "import p5_ml_enron as prj\n",
    "import pandas as pd\n",
    "import numpy as np\n",
    "import seaborn as sns\n",
    "\n",
    "# initialize global imports and settings\n",
    "PROJECT_PKL_FILE = 'final_project_dataset.pkl'"
   ]
  },
  {
   "cell_type": "code",
   "execution_count": 2,
   "metadata": {
    "collapsed": false,
    "deletable": true,
    "editable": true,
    "scrolled": true
   },
   "outputs": [
    {
     "name": "stdout",
     "output_type": "stream",
     "text": [
      "<class 'pandas.core.frame.DataFrame'>\n",
      "Index: 146 entries, ALLEN PHILLIP K to YEAP SOON\n",
      "Data columns (total 21 columns):\n",
      "salary                       95 non-null float64\n",
      "to_messages                  86 non-null float64\n",
      "deferral_payments            39 non-null float64\n",
      "total_payments               125 non-null float64\n",
      "exercised_stock_options      102 non-null float64\n",
      "bonus                        82 non-null float64\n",
      "restricted_stock             110 non-null float64\n",
      "shared_receipt_with_poi      86 non-null float64\n",
      "restricted_stock_deferred    18 non-null float64\n",
      "total_stock_value            126 non-null float64\n",
      "expenses                     95 non-null float64\n",
      "loan_advances                4 non-null float64\n",
      "from_messages                86 non-null float64\n",
      "other                        93 non-null float64\n",
      "from_this_person_to_poi      86 non-null float64\n",
      "poi                          146 non-null bool\n",
      "director_fees                17 non-null float64\n",
      "deferred_income              49 non-null float64\n",
      "long_term_incentive          66 non-null float64\n",
      "email_address                111 non-null object\n",
      "from_poi_to_this_person      86 non-null float64\n",
      "dtypes: bool(1), float64(19), object(1)\n",
      "memory usage: 23.0+ KB\n"
     ]
    }
   ],
   "source": [
    "# load project data from pickle\n",
    "df = prj.pkl_to_df(PROJECT_PKL_FILE)\n",
    "\n",
    "# display column types and show possible null values\n",
    "df.info()"
   ]
  },
  {
   "cell_type": "code",
   "execution_count": 3,
   "metadata": {
    "collapsed": false,
    "deletable": true,
    "editable": true
   },
   "outputs": [
    {
     "data": {
      "text/html": [
       "<div>\n",
       "<table border=\"1\" class=\"dataframe\">\n",
       "  <thead>\n",
       "    <tr style=\"text-align: right;\">\n",
       "      <th></th>\n",
       "      <th>salary</th>\n",
       "      <th>to_messages</th>\n",
       "      <th>deferral_payments</th>\n",
       "      <th>total_payments</th>\n",
       "      <th>exercised_stock_options</th>\n",
       "      <th>bonus</th>\n",
       "      <th>restricted_stock</th>\n",
       "      <th>shared_receipt_with_poi</th>\n",
       "      <th>restricted_stock_deferred</th>\n",
       "      <th>total_stock_value</th>\n",
       "      <th>expenses</th>\n",
       "      <th>loan_advances</th>\n",
       "      <th>from_messages</th>\n",
       "      <th>other</th>\n",
       "      <th>from_this_person_to_poi</th>\n",
       "      <th>director_fees</th>\n",
       "      <th>deferred_income</th>\n",
       "      <th>long_term_incentive</th>\n",
       "      <th>from_poi_to_this_person</th>\n",
       "    </tr>\n",
       "  </thead>\n",
       "  <tbody>\n",
       "    <tr>\n",
       "      <th>count</th>\n",
       "      <td>9.500000e+01</td>\n",
       "      <td>86.000000</td>\n",
       "      <td>3.900000e+01</td>\n",
       "      <td>1.250000e+02</td>\n",
       "      <td>1.020000e+02</td>\n",
       "      <td>8.200000e+01</td>\n",
       "      <td>1.100000e+02</td>\n",
       "      <td>86.000000</td>\n",
       "      <td>1.800000e+01</td>\n",
       "      <td>1.260000e+02</td>\n",
       "      <td>9.500000e+01</td>\n",
       "      <td>4.000000e+00</td>\n",
       "      <td>86.000000</td>\n",
       "      <td>9.300000e+01</td>\n",
       "      <td>86.000000</td>\n",
       "      <td>1.700000e+01</td>\n",
       "      <td>4.900000e+01</td>\n",
       "      <td>6.600000e+01</td>\n",
       "      <td>86.000000</td>\n",
       "    </tr>\n",
       "    <tr>\n",
       "      <th>mean</th>\n",
       "      <td>5.621943e+05</td>\n",
       "      <td>2073.860465</td>\n",
       "      <td>1.642674e+06</td>\n",
       "      <td>5.081526e+06</td>\n",
       "      <td>5.987054e+06</td>\n",
       "      <td>2.374235e+06</td>\n",
       "      <td>2.321741e+06</td>\n",
       "      <td>1176.465116</td>\n",
       "      <td>1.664106e+05</td>\n",
       "      <td>6.773957e+06</td>\n",
       "      <td>1.087289e+05</td>\n",
       "      <td>4.196250e+07</td>\n",
       "      <td>608.790698</td>\n",
       "      <td>9.190650e+05</td>\n",
       "      <td>41.232558</td>\n",
       "      <td>1.668049e+05</td>\n",
       "      <td>-1.140475e+06</td>\n",
       "      <td>1.470361e+06</td>\n",
       "      <td>64.895349</td>\n",
       "    </tr>\n",
       "    <tr>\n",
       "      <th>std</th>\n",
       "      <td>2.716369e+06</td>\n",
       "      <td>2582.700981</td>\n",
       "      <td>5.161930e+06</td>\n",
       "      <td>2.906172e+07</td>\n",
       "      <td>3.106201e+07</td>\n",
       "      <td>1.071333e+07</td>\n",
       "      <td>1.251828e+07</td>\n",
       "      <td>1178.317641</td>\n",
       "      <td>4.201494e+06</td>\n",
       "      <td>3.895777e+07</td>\n",
       "      <td>5.335348e+05</td>\n",
       "      <td>4.708321e+07</td>\n",
       "      <td>1841.033949</td>\n",
       "      <td>4.589253e+06</td>\n",
       "      <td>100.073111</td>\n",
       "      <td>3.198914e+05</td>\n",
       "      <td>4.025406e+06</td>\n",
       "      <td>5.942759e+06</td>\n",
       "      <td>86.979244</td>\n",
       "    </tr>\n",
       "    <tr>\n",
       "      <th>min</th>\n",
       "      <td>4.770000e+02</td>\n",
       "      <td>57.000000</td>\n",
       "      <td>-1.025000e+05</td>\n",
       "      <td>1.480000e+02</td>\n",
       "      <td>3.285000e+03</td>\n",
       "      <td>7.000000e+04</td>\n",
       "      <td>-2.604490e+06</td>\n",
       "      <td>2.000000</td>\n",
       "      <td>-7.576788e+06</td>\n",
       "      <td>-4.409300e+04</td>\n",
       "      <td>1.480000e+02</td>\n",
       "      <td>4.000000e+05</td>\n",
       "      <td>12.000000</td>\n",
       "      <td>2.000000e+00</td>\n",
       "      <td>0.000000</td>\n",
       "      <td>3.285000e+03</td>\n",
       "      <td>-2.799289e+07</td>\n",
       "      <td>6.922300e+04</td>\n",
       "      <td>0.000000</td>\n",
       "    </tr>\n",
       "    <tr>\n",
       "      <th>25%</th>\n",
       "      <td>2.118160e+05</td>\n",
       "      <td>541.250000</td>\n",
       "      <td>8.157300e+04</td>\n",
       "      <td>3.944750e+05</td>\n",
       "      <td>5.278862e+05</td>\n",
       "      <td>4.312500e+05</td>\n",
       "      <td>2.540180e+05</td>\n",
       "      <td>249.750000</td>\n",
       "      <td>-3.896218e+05</td>\n",
       "      <td>4.945102e+05</td>\n",
       "      <td>2.261400e+04</td>\n",
       "      <td>1.600000e+06</td>\n",
       "      <td>22.750000</td>\n",
       "      <td>1.215000e+03</td>\n",
       "      <td>1.000000</td>\n",
       "      <td>9.878400e+04</td>\n",
       "      <td>-6.948620e+05</td>\n",
       "      <td>2.812500e+05</td>\n",
       "      <td>10.000000</td>\n",
       "    </tr>\n",
       "    <tr>\n",
       "      <th>50%</th>\n",
       "      <td>2.599960e+05</td>\n",
       "      <td>1211.000000</td>\n",
       "      <td>2.274490e+05</td>\n",
       "      <td>1.101393e+06</td>\n",
       "      <td>1.310814e+06</td>\n",
       "      <td>7.693750e+05</td>\n",
       "      <td>4.517400e+05</td>\n",
       "      <td>740.500000</td>\n",
       "      <td>-1.469750e+05</td>\n",
       "      <td>1.102872e+06</td>\n",
       "      <td>4.695000e+04</td>\n",
       "      <td>4.176250e+07</td>\n",
       "      <td>41.000000</td>\n",
       "      <td>5.238200e+04</td>\n",
       "      <td>8.000000</td>\n",
       "      <td>1.085790e+05</td>\n",
       "      <td>-1.597920e+05</td>\n",
       "      <td>4.420350e+05</td>\n",
       "      <td>35.000000</td>\n",
       "    </tr>\n",
       "    <tr>\n",
       "      <th>75%</th>\n",
       "      <td>3.121170e+05</td>\n",
       "      <td>2634.750000</td>\n",
       "      <td>1.002672e+06</td>\n",
       "      <td>2.093263e+06</td>\n",
       "      <td>2.547724e+06</td>\n",
       "      <td>1.200000e+06</td>\n",
       "      <td>1.002370e+06</td>\n",
       "      <td>1888.250000</td>\n",
       "      <td>-7.500975e+04</td>\n",
       "      <td>2.949847e+06</td>\n",
       "      <td>7.995250e+04</td>\n",
       "      <td>8.212500e+07</td>\n",
       "      <td>145.500000</td>\n",
       "      <td>3.620960e+05</td>\n",
       "      <td>24.750000</td>\n",
       "      <td>1.137840e+05</td>\n",
       "      <td>-3.834600e+04</td>\n",
       "      <td>9.386720e+05</td>\n",
       "      <td>72.250000</td>\n",
       "    </tr>\n",
       "    <tr>\n",
       "      <th>max</th>\n",
       "      <td>2.670423e+07</td>\n",
       "      <td>15149.000000</td>\n",
       "      <td>3.208340e+07</td>\n",
       "      <td>3.098866e+08</td>\n",
       "      <td>3.117640e+08</td>\n",
       "      <td>9.734362e+07</td>\n",
       "      <td>1.303223e+08</td>\n",
       "      <td>5521.000000</td>\n",
       "      <td>1.545629e+07</td>\n",
       "      <td>4.345095e+08</td>\n",
       "      <td>5.235198e+06</td>\n",
       "      <td>8.392500e+07</td>\n",
       "      <td>14368.000000</td>\n",
       "      <td>4.266759e+07</td>\n",
       "      <td>609.000000</td>\n",
       "      <td>1.398517e+06</td>\n",
       "      <td>-8.330000e+02</td>\n",
       "      <td>4.852193e+07</td>\n",
       "      <td>528.000000</td>\n",
       "    </tr>\n",
       "  </tbody>\n",
       "</table>\n",
       "</div>"
      ],
      "text/plain": [
       "             salary   to_messages  deferral_payments  total_payments  \\\n",
       "count  9.500000e+01     86.000000       3.900000e+01    1.250000e+02   \n",
       "mean   5.621943e+05   2073.860465       1.642674e+06    5.081526e+06   \n",
       "std    2.716369e+06   2582.700981       5.161930e+06    2.906172e+07   \n",
       "min    4.770000e+02     57.000000      -1.025000e+05    1.480000e+02   \n",
       "25%    2.118160e+05    541.250000       8.157300e+04    3.944750e+05   \n",
       "50%    2.599960e+05   1211.000000       2.274490e+05    1.101393e+06   \n",
       "75%    3.121170e+05   2634.750000       1.002672e+06    2.093263e+06   \n",
       "max    2.670423e+07  15149.000000       3.208340e+07    3.098866e+08   \n",
       "\n",
       "       exercised_stock_options         bonus  restricted_stock  \\\n",
       "count             1.020000e+02  8.200000e+01      1.100000e+02   \n",
       "mean              5.987054e+06  2.374235e+06      2.321741e+06   \n",
       "std               3.106201e+07  1.071333e+07      1.251828e+07   \n",
       "min               3.285000e+03  7.000000e+04     -2.604490e+06   \n",
       "25%               5.278862e+05  4.312500e+05      2.540180e+05   \n",
       "50%               1.310814e+06  7.693750e+05      4.517400e+05   \n",
       "75%               2.547724e+06  1.200000e+06      1.002370e+06   \n",
       "max               3.117640e+08  9.734362e+07      1.303223e+08   \n",
       "\n",
       "       shared_receipt_with_poi  restricted_stock_deferred  total_stock_value  \\\n",
       "count                86.000000               1.800000e+01       1.260000e+02   \n",
       "mean               1176.465116               1.664106e+05       6.773957e+06   \n",
       "std                1178.317641               4.201494e+06       3.895777e+07   \n",
       "min                   2.000000              -7.576788e+06      -4.409300e+04   \n",
       "25%                 249.750000              -3.896218e+05       4.945102e+05   \n",
       "50%                 740.500000              -1.469750e+05       1.102872e+06   \n",
       "75%                1888.250000              -7.500975e+04       2.949847e+06   \n",
       "max                5521.000000               1.545629e+07       4.345095e+08   \n",
       "\n",
       "           expenses  loan_advances  from_messages         other  \\\n",
       "count  9.500000e+01   4.000000e+00      86.000000  9.300000e+01   \n",
       "mean   1.087289e+05   4.196250e+07     608.790698  9.190650e+05   \n",
       "std    5.335348e+05   4.708321e+07    1841.033949  4.589253e+06   \n",
       "min    1.480000e+02   4.000000e+05      12.000000  2.000000e+00   \n",
       "25%    2.261400e+04   1.600000e+06      22.750000  1.215000e+03   \n",
       "50%    4.695000e+04   4.176250e+07      41.000000  5.238200e+04   \n",
       "75%    7.995250e+04   8.212500e+07     145.500000  3.620960e+05   \n",
       "max    5.235198e+06   8.392500e+07   14368.000000  4.266759e+07   \n",
       "\n",
       "       from_this_person_to_poi  director_fees  deferred_income  \\\n",
       "count                86.000000   1.700000e+01     4.900000e+01   \n",
       "mean                 41.232558   1.668049e+05    -1.140475e+06   \n",
       "std                 100.073111   3.198914e+05     4.025406e+06   \n",
       "min                   0.000000   3.285000e+03    -2.799289e+07   \n",
       "25%                   1.000000   9.878400e+04    -6.948620e+05   \n",
       "50%                   8.000000   1.085790e+05    -1.597920e+05   \n",
       "75%                  24.750000   1.137840e+05    -3.834600e+04   \n",
       "max                 609.000000   1.398517e+06    -8.330000e+02   \n",
       "\n",
       "       long_term_incentive  from_poi_to_this_person  \n",
       "count         6.600000e+01                86.000000  \n",
       "mean          1.470361e+06                64.895349  \n",
       "std           5.942759e+06                86.979244  \n",
       "min           6.922300e+04                 0.000000  \n",
       "25%           2.812500e+05                10.000000  \n",
       "50%           4.420350e+05                35.000000  \n",
       "75%           9.386720e+05                72.250000  \n",
       "max           4.852193e+07               528.000000  "
      ]
     },
     "execution_count": 3,
     "metadata": {},
     "output_type": "execute_result"
    }
   ],
   "source": [
    "# print descriptive statistics\n",
    "df.describe()"
   ]
  },
  {
   "cell_type": "code",
   "execution_count": 4,
   "metadata": {
    "collapsed": false,
    "deletable": true,
    "editable": true
   },
   "outputs": [
    {
     "data": {
      "text/plain": [
       "salary                        51\n",
       "to_messages                   60\n",
       "deferral_payments            107\n",
       "total_payments                21\n",
       "exercised_stock_options       44\n",
       "bonus                         64\n",
       "restricted_stock              36\n",
       "shared_receipt_with_poi       60\n",
       "restricted_stock_deferred    128\n",
       "total_stock_value             20\n",
       "expenses                      51\n",
       "loan_advances                142\n",
       "from_messages                 60\n",
       "other                         53\n",
       "from_this_person_to_poi       60\n",
       "poi                            0\n",
       "director_fees                129\n",
       "deferred_income               97\n",
       "long_term_incentive           80\n",
       "email_address                 35\n",
       "from_poi_to_this_person       60\n",
       "dtype: int64"
      ]
     },
     "execution_count": 4,
     "metadata": {},
     "output_type": "execute_result"
    }
   ],
   "source": [
    "# list null values\n",
    "df.isnull().sum()"
   ]
  },
  {
   "cell_type": "code",
   "execution_count": 5,
   "metadata": {
    "collapsed": false,
    "deletable": true,
    "editable": true,
    "scrolled": true
   },
   "outputs": [
    {
     "name": "stdout",
     "output_type": "stream",
     "text": [
      "negative deferral payments (corrupted):\n",
      "               deferral_payments    poi\n",
      "BELFER ROBERT          -102500.0  False\n",
      "\n",
      "positive restricted stock deferred (corrupted):\n",
      "                  restricted_stock_deferred    poi\n",
      "BELFER ROBERT                       44093.0  False\n",
      "BHATNAGAR SANJAY                 15456290.0  False\n",
      "\n",
      "negative total stock values (corrupted):\n",
      "               total_stock_value    poi\n",
      "BELFER ROBERT           -44093.0  False\n",
      "\n"
     ]
    }
   ],
   "source": [
    "# wrong/impossible values in min / max values\n",
    "print('negative deferral payments (corrupted):\\n{}\\n'.format(\n",
    "    df[df['deferral_payments'] < 0][['deferral_payments', 'poi']]\n",
    "))\n",
    "print('positive restricted stock deferred (corrupted):\\n{}\\n'.format(\n",
    "    df[df['restricted_stock_deferred'] > 0][['restricted_stock_deferred', 'poi']]\n",
    "))\n",
    "print('negative total stock values (corrupted):\\n{}\\n'.format(\n",
    "    df[df['total_stock_value'] < 0][['total_stock_value', 'poi']]\n",
    "))"
   ]
  },
  {
   "cell_type": "code",
   "execution_count": 6,
   "metadata": {
    "collapsed": false,
    "deletable": true,
    "editable": true
   },
   "outputs": [
    {
     "name": "stdout",
     "output_type": "stream",
     "text": [
      "# total: 146\n",
      "# poi: 18\n",
      "# non-poi: 128\n",
      "# features: 21\n",
      "poi-total ratio: 12.33%\n",
      "poi-non-poi ratio: 14.06%\n",
      "\n",
      "top 5 total payments:\n",
      "TOTAL               309886585.0\n",
      "LAY KENNETH L       103559793.0\n",
      "FREVERT MARK A       17252530.0\n",
      "BHATNAGAR SANJAY     15456290.0\n",
      "LAVORATO JOHN J      10425757.0\n",
      "Name: total_payments, dtype: float64\n",
      "\n",
      "top 5 total stock values:\n",
      "TOTAL                 434509511.0\n",
      "LAY KENNETH L          49110078.0\n",
      "HIRKO JOSEPH           30766064.0\n",
      "SKILLING JEFFREY K     26093672.0\n",
      "PAI LOU L              23817930.0\n",
      "Name: total_stock_value, dtype: float64\n",
      "\n",
      "top 5 from messages:\n",
      "KAMINSKI WINCENTY J    14368.0\n",
      "KEAN STEVEN J           6759.0\n",
      "BECK SALLY W            4343.0\n",
      "DELAINEY DAVID W        3069.0\n",
      "MCCONNELL MICHAEL S     2742.0\n",
      "Name: from_messages, dtype: float64\n",
      "\n",
      "top 5 from other payments:\n",
      "TOTAL              42667589.0\n",
      "LAY KENNETH L      10359729.0\n",
      "FREVERT MARK A      7427621.0\n",
      "MARTIN AMANDA K     2818454.0\n",
      "BAXTER JOHN C       2660303.0\n",
      "Name: other, dtype: float64\n",
      "\n",
      "top 5 having null values:\n",
      "LOCKHART EUGENE E                20\n",
      "GRAMM WENDY L                    18\n",
      "WROBEL BRUCE                     18\n",
      "WHALEY DAVID A                   18\n",
      "THE TRAVEL AGENCY IN THE PARK    18\n",
      "dtype: int64\n"
     ]
    }
   ],
   "source": [
    "# print basic numbers and tops\n",
    "prj.print_summary(df)"
   ]
  },
  {
   "cell_type": "markdown",
   "metadata": {
    "deletable": true,
    "editable": true
   },
   "source": [
    "### Outlier Investigation"
   ]
  },
  {
   "cell_type": "code",
   "execution_count": 7,
   "metadata": {
    "collapsed": false,
    "deletable": true,
    "editable": true
   },
   "outputs": [],
   "source": [
    "# drop outliers\n",
    "# reason: empty feature values\n",
    "df = df.drop(['LOCKHART EUGENE E'])\n",
    "# reason: total sum, not a person\n",
    "df = df.drop(['TOTAL'])\n",
    "# reason: agency name, not a person\n",
    "df = df.drop(['THE TRAVEL AGENCY IN THE PARK'])\n",
    "# reason: corrupted data, no poi\n",
    "df = df.drop(['BELFER ROBERT'])\n",
    "df = df.drop(['BHATNAGAR SANJAY'])"
   ]
  },
  {
   "cell_type": "code",
   "execution_count": 8,
   "metadata": {
    "collapsed": true,
    "deletable": true,
    "editable": true
   },
   "outputs": [],
   "source": [
    "# drop unused email address column\n",
    "df = df.drop('email_address', axis=1)"
   ]
  },
  {
   "cell_type": "code",
   "execution_count": 9,
   "metadata": {
    "collapsed": false,
    "deletable": true,
    "editable": true
   },
   "outputs": [
    {
     "data": {
      "text/html": [
       "<div>\n",
       "<table border=\"1\" class=\"dataframe\">\n",
       "  <thead>\n",
       "    <tr style=\"text-align: right;\">\n",
       "      <th></th>\n",
       "      <th>salary</th>\n",
       "      <th>to_messages</th>\n",
       "      <th>deferral_payments</th>\n",
       "      <th>total_payments</th>\n",
       "      <th>exercised_stock_options</th>\n",
       "      <th>bonus</th>\n",
       "      <th>restricted_stock</th>\n",
       "      <th>shared_receipt_with_poi</th>\n",
       "      <th>restricted_stock_deferred</th>\n",
       "      <th>total_stock_value</th>\n",
       "      <th>expenses</th>\n",
       "      <th>loan_advances</th>\n",
       "      <th>from_messages</th>\n",
       "      <th>other</th>\n",
       "      <th>from_this_person_to_poi</th>\n",
       "      <th>director_fees</th>\n",
       "      <th>deferred_income</th>\n",
       "      <th>long_term_incentive</th>\n",
       "      <th>from_poi_to_this_person</th>\n",
       "    </tr>\n",
       "  </thead>\n",
       "  <tbody>\n",
       "    <tr>\n",
       "      <th>count</th>\n",
       "      <td>9.400000e+01</td>\n",
       "      <td>85.000000</td>\n",
       "      <td>3.700000e+01</td>\n",
       "      <td>1.210000e+02</td>\n",
       "      <td>9.900000e+01</td>\n",
       "      <td>8.100000e+01</td>\n",
       "      <td>1.080000e+02</td>\n",
       "      <td>85.000000</td>\n",
       "      <td>1.500000e+01</td>\n",
       "      <td>1.240000e+02</td>\n",
       "      <td>94.000000</td>\n",
       "      <td>3.000000e+00</td>\n",
       "      <td>85.000000</td>\n",
       "      <td>9.000000e+01</td>\n",
       "      <td>85.000000</td>\n",
       "      <td>14.000000</td>\n",
       "      <td>4.800000e+01</td>\n",
       "      <td>6.500000e+01</td>\n",
       "      <td>85.000000</td>\n",
       "    </tr>\n",
       "    <tr>\n",
       "      <th>mean</th>\n",
       "      <td>2.840875e+05</td>\n",
       "      <td>2092.105882</td>\n",
       "      <td>8.671188e+05</td>\n",
       "      <td>2.556887e+06</td>\n",
       "      <td>2.993007e+06</td>\n",
       "      <td>1.201773e+06</td>\n",
       "      <td>1.182164e+06</td>\n",
       "      <td>1184.858824</td>\n",
       "      <td>-3.285470e+05</td>\n",
       "      <td>3.379461e+06</td>\n",
       "      <td>54192.010638</td>\n",
       "      <td>2.797500e+07</td>\n",
       "      <td>615.611765</td>\n",
       "      <td>4.700610e+05</td>\n",
       "      <td>41.705882</td>\n",
       "      <td>92572.642857</td>\n",
       "      <td>-5.810498e+05</td>\n",
       "      <td>7.464912e+05</td>\n",
       "      <td>65.658824</td>\n",
       "    </tr>\n",
       "    <tr>\n",
       "      <th>std</th>\n",
       "      <td>1.771311e+05</td>\n",
       "      <td>2592.447378</td>\n",
       "      <td>1.297344e+06</td>\n",
       "      <td>9.529027e+06</td>\n",
       "      <td>5.547033e+06</td>\n",
       "      <td>1.441679e+06</td>\n",
       "      <td>2.230693e+06</td>\n",
       "      <td>1182.721530</td>\n",
       "      <td>4.363962e+05</td>\n",
       "      <td>6.552176e+06</td>\n",
       "      <td>46108.377454</td>\n",
       "      <td>4.638256e+07</td>\n",
       "      <td>1850.866587</td>\n",
       "      <td>1.404768e+06</td>\n",
       "      <td>100.570139</td>\n",
       "      <td>34475.411304</td>\n",
       "      <td>9.420764e+05</td>\n",
       "      <td>8.629174e+05</td>\n",
       "      <td>87.205088</td>\n",
       "    </tr>\n",
       "    <tr>\n",
       "      <th>min</th>\n",
       "      <td>4.770000e+02</td>\n",
       "      <td>57.000000</td>\n",
       "      <td>7.961000e+03</td>\n",
       "      <td>1.480000e+02</td>\n",
       "      <td>9.803000e+03</td>\n",
       "      <td>7.000000e+04</td>\n",
       "      <td>3.246000e+04</td>\n",
       "      <td>2.000000</td>\n",
       "      <td>-1.787380e+06</td>\n",
       "      <td>2.879800e+04</td>\n",
       "      <td>148.000000</td>\n",
       "      <td>4.000000e+05</td>\n",
       "      <td>12.000000</td>\n",
       "      <td>2.000000e+00</td>\n",
       "      <td>0.000000</td>\n",
       "      <td>17500.000000</td>\n",
       "      <td>-3.504386e+06</td>\n",
       "      <td>6.922300e+04</td>\n",
       "      <td>0.000000</td>\n",
       "    </tr>\n",
       "    <tr>\n",
       "      <th>25%</th>\n",
       "      <td>2.118020e+05</td>\n",
       "      <td>566.000000</td>\n",
       "      <td>8.543000e+04</td>\n",
       "      <td>3.993930e+05</td>\n",
       "      <td>5.490075e+05</td>\n",
       "      <td>4.250000e+05</td>\n",
       "      <td>2.579440e+05</td>\n",
       "      <td>233.000000</td>\n",
       "      <td>-3.696895e+05</td>\n",
       "      <td>4.952588e+05</td>\n",
       "      <td>22479.000000</td>\n",
       "      <td>1.200000e+06</td>\n",
       "      <td>22.000000</td>\n",
       "      <td>1.197000e+03</td>\n",
       "      <td>1.000000</td>\n",
       "      <td>99400.500000</td>\n",
       "      <td>-6.112092e+05</td>\n",
       "      <td>2.750000e+05</td>\n",
       "      <td>10.000000</td>\n",
       "    </tr>\n",
       "    <tr>\n",
       "      <th>50%</th>\n",
       "      <td>2.587410e+05</td>\n",
       "      <td>1238.000000</td>\n",
       "      <td>2.274490e+05</td>\n",
       "      <td>1.101393e+06</td>\n",
       "      <td>1.297049e+06</td>\n",
       "      <td>7.500000e+05</td>\n",
       "      <td>4.517400e+05</td>\n",
       "      <td>742.000000</td>\n",
       "      <td>-1.536860e+05</td>\n",
       "      <td>1.102872e+06</td>\n",
       "      <td>46547.500000</td>\n",
       "      <td>2.000000e+06</td>\n",
       "      <td>41.000000</td>\n",
       "      <td>3.857000e+04</td>\n",
       "      <td>8.000000</td>\n",
       "      <td>106164.500000</td>\n",
       "      <td>-1.519270e+05</td>\n",
       "      <td>4.221580e+05</td>\n",
       "      <td>35.000000</td>\n",
       "    </tr>\n",
       "    <tr>\n",
       "      <th>75%</th>\n",
       "      <td>3.086065e+05</td>\n",
       "      <td>2647.000000</td>\n",
       "      <td>8.753070e+05</td>\n",
       "      <td>2.081796e+06</td>\n",
       "      <td>2.416963e+06</td>\n",
       "      <td>1.200000e+06</td>\n",
       "      <td>9.908112e+05</td>\n",
       "      <td>1902.000000</td>\n",
       "      <td>-8.866900e+04</td>\n",
       "      <td>2.721124e+06</td>\n",
       "      <td>78408.500000</td>\n",
       "      <td>4.176250e+07</td>\n",
       "      <td>146.000000</td>\n",
       "      <td>3.440270e+05</td>\n",
       "      <td>25.000000</td>\n",
       "      <td>111693.500000</td>\n",
       "      <td>-3.792600e+04</td>\n",
       "      <td>8.318090e+05</td>\n",
       "      <td>74.000000</td>\n",
       "    </tr>\n",
       "    <tr>\n",
       "      <th>max</th>\n",
       "      <td>1.111258e+06</td>\n",
       "      <td>15149.000000</td>\n",
       "      <td>6.426990e+06</td>\n",
       "      <td>1.035598e+08</td>\n",
       "      <td>3.434838e+07</td>\n",
       "      <td>8.000000e+06</td>\n",
       "      <td>1.476169e+07</td>\n",
       "      <td>5521.000000</td>\n",
       "      <td>-3.246000e+04</td>\n",
       "      <td>4.911008e+07</td>\n",
       "      <td>228763.000000</td>\n",
       "      <td>8.152500e+07</td>\n",
       "      <td>14368.000000</td>\n",
       "      <td>1.035973e+07</td>\n",
       "      <td>609.000000</td>\n",
       "      <td>125034.000000</td>\n",
       "      <td>-8.330000e+02</td>\n",
       "      <td>5.145434e+06</td>\n",
       "      <td>528.000000</td>\n",
       "    </tr>\n",
       "  </tbody>\n",
       "</table>\n",
       "</div>"
      ],
      "text/plain": [
       "             salary   to_messages  deferral_payments  total_payments  \\\n",
       "count  9.400000e+01     85.000000       3.700000e+01    1.210000e+02   \n",
       "mean   2.840875e+05   2092.105882       8.671188e+05    2.556887e+06   \n",
       "std    1.771311e+05   2592.447378       1.297344e+06    9.529027e+06   \n",
       "min    4.770000e+02     57.000000       7.961000e+03    1.480000e+02   \n",
       "25%    2.118020e+05    566.000000       8.543000e+04    3.993930e+05   \n",
       "50%    2.587410e+05   1238.000000       2.274490e+05    1.101393e+06   \n",
       "75%    3.086065e+05   2647.000000       8.753070e+05    2.081796e+06   \n",
       "max    1.111258e+06  15149.000000       6.426990e+06    1.035598e+08   \n",
       "\n",
       "       exercised_stock_options         bonus  restricted_stock  \\\n",
       "count             9.900000e+01  8.100000e+01      1.080000e+02   \n",
       "mean              2.993007e+06  1.201773e+06      1.182164e+06   \n",
       "std               5.547033e+06  1.441679e+06      2.230693e+06   \n",
       "min               9.803000e+03  7.000000e+04      3.246000e+04   \n",
       "25%               5.490075e+05  4.250000e+05      2.579440e+05   \n",
       "50%               1.297049e+06  7.500000e+05      4.517400e+05   \n",
       "75%               2.416963e+06  1.200000e+06      9.908112e+05   \n",
       "max               3.434838e+07  8.000000e+06      1.476169e+07   \n",
       "\n",
       "       shared_receipt_with_poi  restricted_stock_deferred  total_stock_value  \\\n",
       "count                85.000000               1.500000e+01       1.240000e+02   \n",
       "mean               1184.858824              -3.285470e+05       3.379461e+06   \n",
       "std                1182.721530               4.363962e+05       6.552176e+06   \n",
       "min                   2.000000              -1.787380e+06       2.879800e+04   \n",
       "25%                 233.000000              -3.696895e+05       4.952588e+05   \n",
       "50%                 742.000000              -1.536860e+05       1.102872e+06   \n",
       "75%                1902.000000              -8.866900e+04       2.721124e+06   \n",
       "max                5521.000000              -3.246000e+04       4.911008e+07   \n",
       "\n",
       "            expenses  loan_advances  from_messages         other  \\\n",
       "count      94.000000   3.000000e+00      85.000000  9.000000e+01   \n",
       "mean    54192.010638   2.797500e+07     615.611765  4.700610e+05   \n",
       "std     46108.377454   4.638256e+07    1850.866587  1.404768e+06   \n",
       "min       148.000000   4.000000e+05      12.000000  2.000000e+00   \n",
       "25%     22479.000000   1.200000e+06      22.000000  1.197000e+03   \n",
       "50%     46547.500000   2.000000e+06      41.000000  3.857000e+04   \n",
       "75%     78408.500000   4.176250e+07     146.000000  3.440270e+05   \n",
       "max    228763.000000   8.152500e+07   14368.000000  1.035973e+07   \n",
       "\n",
       "       from_this_person_to_poi  director_fees  deferred_income  \\\n",
       "count                85.000000      14.000000     4.800000e+01   \n",
       "mean                 41.705882   92572.642857    -5.810498e+05   \n",
       "std                 100.570139   34475.411304     9.420764e+05   \n",
       "min                   0.000000   17500.000000    -3.504386e+06   \n",
       "25%                   1.000000   99400.500000    -6.112092e+05   \n",
       "50%                   8.000000  106164.500000    -1.519270e+05   \n",
       "75%                  25.000000  111693.500000    -3.792600e+04   \n",
       "max                 609.000000  125034.000000    -8.330000e+02   \n",
       "\n",
       "       long_term_incentive  from_poi_to_this_person  \n",
       "count         6.500000e+01                85.000000  \n",
       "mean          7.464912e+05                65.658824  \n",
       "std           8.629174e+05                87.205088  \n",
       "min           6.922300e+04                 0.000000  \n",
       "25%           2.750000e+05                10.000000  \n",
       "50%           4.221580e+05                35.000000  \n",
       "75%           8.318090e+05                74.000000  \n",
       "max           5.145434e+06               528.000000  "
      ]
     },
     "execution_count": 9,
     "metadata": {},
     "output_type": "execute_result"
    }
   ],
   "source": [
    "# statistics after removing outliers and correcting missing values\n",
    "df.describe()"
   ]
  },
  {
   "cell_type": "markdown",
   "metadata": {
    "deletable": true,
    "editable": true
   },
   "source": [
    "## Question 2: Select & Engineer Features\n",
    "\n",
    "**Question 2**: What features did you end up using in your POI identifier, and what selection process did you use to pick them? Did you have to do any scaling? Why or why not? As part of the assignment, you should attempt to engineer your own feature that does not come ready-made in the dataset -- explain what feature you tried to make, and the rationale behind it. (You do not necessarily have to use it in the final analysis, only engineer and test it.) In your feature selection step, if you used an algorithm like a decision tree, please also give the feature importances of the features that you use, and if you used an automated feature selection function like SelectKBest, please report the feature scores and reasons for your choice of parameter values. \n",
    "\n",
    "> **Feature Creation**: We engineered three own features before selecting the most important ones to be used to identify POI:\n",
    ">\n",
    "| **_New Feature_**     | **_Derivation_**    | **_Rationale_** |\n",
    "|-----------------------|---------------------|-----------------|\n",
    "| *total_assets*        | *total_payments + total_stock_value* | POI tends to receive more money. Money can be in form of either payments or stocks or both. |\n",
    "| *stock_payments_ratio* | *total_stock_value / total_payments* |  The stock to payment ratio of POI may be different than of other employees. |\n",
    "| *other_payments_ratio* | *other / total_payments* |  Redemptions to POI as other payments as ratio to their total payments may be higher compared to others. |\n",
    "| *poi_messages_ratio*  | *(from_this_person_to_poi + from_poi_to_this_person) / (to_messages + from_messages)* |  POI may have their own communication circle and thus a higher ratio of poi messages to total messages. |\n",
    ">\n",
    "* Note: Ratios were only calculated when none of the derivation values were NaN. Mean values were used for missing ratios where applicable.\n",
    ">\n",
    "> **Feature Scaling**: Features are scaled using _MinMaxScaler_ because some of them varied significantly by several orders of magnitude and different scales between email and financial features. The scaler transforms the data onto unit scale, which ensures the optimal performance of the machine learning algorithms applied later.\n",
    ">\n",
    "> **Feature Selection**: In the feature selection process we tried the automated feature selection _SelectKBest_ to evaluate feature importances and select the most relevant features for identifying POI of the fraud case. The new created *total_assets* feature was under the top 5. Between the fifth the sixth feature was a big gap.  (_deferred_income_ had only a score of 11.) So we decided only to take the top five features here. Another observation was that none of the email features made their way to the top list. \n",
    ">\n",
    ">**Top 5 Features by SelectKBest (with new features)**:\n",
    ">\n",
    "| **_Feature_**           | **_Score_**       |\n",
    "|-------------------------|-------------------|\n",
    "| exercised_stock_options | 24.43             |\n",
    "| total_stock_value       | 23.61             |\n",
    "| bonus                   | 20.26             |\n",
    "| salary                  | 17.72             |\n",
    "| total_assets            | 17.41             |\n",
    ">\n",
    "> *Note*: After some further analysis it seemed that the optimal features didn't remain consistent for all classifiers. The rankings of other feature selection methods such as RFE, PCA, NMA, decision tree or SelectKBest using other parameters varied from each other slightly. For this reason we decided to use feature selection as part of a pipeline combined with GridSearchCV to choose the best selection method and number of features using an exhaustive search over specified parameter values and use it as a pre-processing step before doing the actual training.\n",
    ">\n",
    ">** Evaluation of the original feature set**: \n",
    ">\n",
    "* By using the original list the SelectKBest contained the feature with the next highest score which was _deferred_income_ with a score of _11.18_ as expected. The effect on the final algorithm is evaluated in the next question."
   ]
  },
  {
   "cell_type": "markdown",
   "metadata": {
    "deletable": true,
    "editable": true
   },
   "source": [
    "### Feature Creation"
   ]
  },
  {
   "cell_type": "code",
   "execution_count": 10,
   "metadata": {
    "collapsed": true
   },
   "outputs": [],
   "source": [
    "# backup original features\n",
    "original_df = df.copy()"
   ]
  },
  {
   "cell_type": "code",
   "execution_count": 11,
   "metadata": {
    "collapsed": false,
    "deletable": true,
    "editable": true
   },
   "outputs": [
    {
     "name": "stdout",
     "output_type": "stream",
     "text": [
      "<class 'pandas.core.frame.DataFrame'>\n",
      "Index: 141 entries, ALLEN PHILLIP K to YEAP SOON\n",
      "Data columns (total 24 columns):\n",
      "salary                       94 non-null float64\n",
      "to_messages                  85 non-null float64\n",
      "deferral_payments            37 non-null float64\n",
      "total_payments               121 non-null float64\n",
      "exercised_stock_options      99 non-null float64\n",
      "bonus                        81 non-null float64\n",
      "restricted_stock             108 non-null float64\n",
      "shared_receipt_with_poi      85 non-null float64\n",
      "restricted_stock_deferred    15 non-null float64\n",
      "total_stock_value            124 non-null float64\n",
      "expenses                     94 non-null float64\n",
      "loan_advances                3 non-null float64\n",
      "from_messages                85 non-null float64\n",
      "other                        90 non-null float64\n",
      "from_this_person_to_poi      85 non-null float64\n",
      "poi                          141 non-null bool\n",
      "director_fees                14 non-null float64\n",
      "deferred_income              48 non-null float64\n",
      "long_term_incentive          65 non-null float64\n",
      "from_poi_to_this_person      85 non-null float64\n",
      "total_assets                 106 non-null float64\n",
      "stock_payments_ratio         106 non-null float64\n",
      "other_payments_ratio         90 non-null float64\n",
      "poi_messages_ratio           76 non-null float64\n",
      "dtypes: bool(1), float64(23)\n",
      "memory usage: 26.0+ KB\n"
     ]
    }
   ],
   "source": [
    "### create intuitive features\n",
    "\n",
    "# total amount of money of a person\n",
    "# - rationale: POI tends to receive more money. Money can be in form of either payments or stocks or both.\n",
    "df['total_assets'] = df['total_payments'] + df['total_stock_value']\n",
    "\n",
    "# total stock value vs total payments ratio\n",
    "# -rationale: the stock to payment ratio of POI may be different than of other employees.\n",
    "df['stock_payments_ratio'] = prj.get_ratio(\n",
    "    df['total_stock_value'],\n",
    "    df['total_payments']\n",
    ")\n",
    "\n",
    "# other vs total payments ratio\n",
    "# - rationale: redemptions to POI as other payments as ratio to their total payments may be higher compared to others.\n",
    "df['other_payments_ratio'] = prj.get_ratio(\n",
    "    df['other'],\n",
    "    df['total_payments']\n",
    ")\n",
    "\n",
    "# messages sent to vs received from a poi ratio\n",
    "# - rationale: POI may have their own communication circle and thus a higher ratio of poi messages to total messages.\n",
    "df['poi_messages_ratio'] = prj.get_ratio(\n",
    "    df['from_this_person_to_poi'] + df['from_poi_to_this_person'],\n",
    "    df['to_messages'] + df['from_messages']\n",
    ")\n",
    "df.info()"
   ]
  },
  {
   "cell_type": "markdown",
   "metadata": {
    "deletable": true,
    "editable": true
   },
   "source": [
    "### Feature Exploration"
   ]
  },
  {
   "cell_type": "code",
   "execution_count": 12,
   "metadata": {
    "collapsed": false,
    "deletable": true,
    "editable": true
   },
   "outputs": [],
   "source": [
    "### handle null values (required for classifiers)\n",
    "# replace missing ratios with median\n",
    "prj.fillna_by_median(df['stock_payments_ratio'])\n",
    "prj.fillna_by_median(df['other_payments_ratio'])\n",
    "prj.fillna_by_median(df['poi_messages_ratio'])\n",
    "\n",
    "# set other missing numbers to with 0\n",
    "df = df.fillna(0)"
   ]
  },
  {
   "cell_type": "code",
   "execution_count": 13,
   "metadata": {
    "collapsed": false,
    "deletable": true,
    "editable": true
   },
   "outputs": [
    {
     "data": {
      "text/html": [
       "<div>\n",
       "<table border=\"1\" class=\"dataframe\">\n",
       "  <thead>\n",
       "    <tr style=\"text-align: right;\">\n",
       "      <th></th>\n",
       "      <th>salary</th>\n",
       "      <th>to_messages</th>\n",
       "      <th>deferral_payments</th>\n",
       "      <th>total_payments</th>\n",
       "      <th>exercised_stock_options</th>\n",
       "      <th>bonus</th>\n",
       "      <th>restricted_stock</th>\n",
       "      <th>shared_receipt_with_poi</th>\n",
       "      <th>restricted_stock_deferred</th>\n",
       "      <th>total_stock_value</th>\n",
       "      <th>...</th>\n",
       "      <th>other</th>\n",
       "      <th>from_this_person_to_poi</th>\n",
       "      <th>director_fees</th>\n",
       "      <th>deferred_income</th>\n",
       "      <th>long_term_incentive</th>\n",
       "      <th>from_poi_to_this_person</th>\n",
       "      <th>total_assets</th>\n",
       "      <th>stock_payments_ratio</th>\n",
       "      <th>other_payments_ratio</th>\n",
       "      <th>poi_messages_ratio</th>\n",
       "    </tr>\n",
       "  </thead>\n",
       "  <tbody>\n",
       "    <tr>\n",
       "      <th>count</th>\n",
       "      <td>1.410000e+02</td>\n",
       "      <td>141.000000</td>\n",
       "      <td>1.410000e+02</td>\n",
       "      <td>1.410000e+02</td>\n",
       "      <td>1.410000e+02</td>\n",
       "      <td>1.410000e+02</td>\n",
       "      <td>1.410000e+02</td>\n",
       "      <td>141.000000</td>\n",
       "      <td>1.410000e+02</td>\n",
       "      <td>1.410000e+02</td>\n",
       "      <td>...</td>\n",
       "      <td>1.410000e+02</td>\n",
       "      <td>141.000000</td>\n",
       "      <td>141.000000</td>\n",
       "      <td>1.410000e+02</td>\n",
       "      <td>1.410000e+02</td>\n",
       "      <td>141.000000</td>\n",
       "      <td>1.410000e+02</td>\n",
       "      <td>141.000000</td>\n",
       "      <td>141.000000</td>\n",
       "      <td>141.000000</td>\n",
       "    </tr>\n",
       "    <tr>\n",
       "      <th>mean</th>\n",
       "      <td>1.893917e+05</td>\n",
       "      <td>1261.198582</td>\n",
       "      <td>2.275418e+05</td>\n",
       "      <td>2.194208e+06</td>\n",
       "      <td>2.101473e+06</td>\n",
       "      <td>6.903803e+05</td>\n",
       "      <td>9.054873e+05</td>\n",
       "      <td>714.276596</td>\n",
       "      <td>-3.495181e+04</td>\n",
       "      <td>2.972009e+06</td>\n",
       "      <td>...</td>\n",
       "      <td>3.000390e+05</td>\n",
       "      <td>25.141844</td>\n",
       "      <td>9191.609929</td>\n",
       "      <td>-1.978042e+05</td>\n",
       "      <td>3.441271e+05</td>\n",
       "      <td>39.581560</td>\n",
       "      <td>4.999887e+06</td>\n",
       "      <td>38.869568</td>\n",
       "      <td>0.114277</td>\n",
       "      <td>0.047561</td>\n",
       "    </tr>\n",
       "    <tr>\n",
       "      <th>std</th>\n",
       "      <td>1.972434e+05</td>\n",
       "      <td>2255.636148</td>\n",
       "      <td>7.611619e+05</td>\n",
       "      <td>8.867473e+06</td>\n",
       "      <td>4.840002e+06</td>\n",
       "      <td>1.242279e+06</td>\n",
       "      <td>2.013802e+06</td>\n",
       "      <td>1085.276417</td>\n",
       "      <td>1.714034e+05</td>\n",
       "      <td>6.239997e+06</td>\n",
       "      <td>...</td>\n",
       "      <td>1.142750e+06</td>\n",
       "      <td>80.548351</td>\n",
       "      <td>29702.625900</td>\n",
       "      <td>6.117991e+05</td>\n",
       "      <td>6.927150e+05</td>\n",
       "      <td>74.849101</td>\n",
       "      <td>1.390117e+07</td>\n",
       "      <td>393.728932</td>\n",
       "      <td>0.205261</td>\n",
       "      <td>0.034292</td>\n",
       "    </tr>\n",
       "    <tr>\n",
       "      <th>min</th>\n",
       "      <td>0.000000e+00</td>\n",
       "      <td>0.000000</td>\n",
       "      <td>0.000000e+00</td>\n",
       "      <td>0.000000e+00</td>\n",
       "      <td>0.000000e+00</td>\n",
       "      <td>0.000000e+00</td>\n",
       "      <td>0.000000e+00</td>\n",
       "      <td>0.000000</td>\n",
       "      <td>-1.787380e+06</td>\n",
       "      <td>0.000000e+00</td>\n",
       "      <td>...</td>\n",
       "      <td>0.000000e+00</td>\n",
       "      <td>0.000000</td>\n",
       "      <td>0.000000</td>\n",
       "      <td>-3.504386e+06</td>\n",
       "      <td>0.000000e+00</td>\n",
       "      <td>0.000000</td>\n",
       "      <td>0.000000e+00</td>\n",
       "      <td>0.020767</td>\n",
       "      <td>0.000001</td>\n",
       "      <td>0.004566</td>\n",
       "    </tr>\n",
       "    <tr>\n",
       "      <th>25%</th>\n",
       "      <td>0.000000e+00</td>\n",
       "      <td>0.000000</td>\n",
       "      <td>0.000000e+00</td>\n",
       "      <td>9.109300e+04</td>\n",
       "      <td>0.000000e+00</td>\n",
       "      <td>0.000000e+00</td>\n",
       "      <td>4.730400e+04</td>\n",
       "      <td>0.000000</td>\n",
       "      <td>0.000000e+00</td>\n",
       "      <td>3.186070e+05</td>\n",
       "      <td>...</td>\n",
       "      <td>0.000000e+00</td>\n",
       "      <td>0.000000</td>\n",
       "      <td>0.000000</td>\n",
       "      <td>-3.834600e+04</td>\n",
       "      <td>0.000000e+00</td>\n",
       "      <td>0.000000</td>\n",
       "      <td>1.593790e+05</td>\n",
       "      <td>0.550996</td>\n",
       "      <td>0.002419</td>\n",
       "      <td>0.034956</td>\n",
       "    </tr>\n",
       "    <tr>\n",
       "      <th>50%</th>\n",
       "      <td>2.117880e+05</td>\n",
       "      <td>383.000000</td>\n",
       "      <td>0.000000e+00</td>\n",
       "      <td>9.665220e+05</td>\n",
       "      <td>6.087500e+05</td>\n",
       "      <td>3.000000e+05</td>\n",
       "      <td>3.634280e+05</td>\n",
       "      <td>114.000000</td>\n",
       "      <td>0.000000e+00</td>\n",
       "      <td>9.850320e+05</td>\n",
       "      <td>...</td>\n",
       "      <td>9.470000e+02</td>\n",
       "      <td>0.000000</td>\n",
       "      <td>0.000000</td>\n",
       "      <td>0.000000e+00</td>\n",
       "      <td>0.000000e+00</td>\n",
       "      <td>7.000000</td>\n",
       "      <td>2.070647e+06</td>\n",
       "      <td>1.105573</td>\n",
       "      <td>0.029206</td>\n",
       "      <td>0.040075</td>\n",
       "    </tr>\n",
       "    <tr>\n",
       "      <th>75%</th>\n",
       "      <td>2.714420e+05</td>\n",
       "      <td>1671.000000</td>\n",
       "      <td>1.025900e+04</td>\n",
       "      <td>1.934359e+06</td>\n",
       "      <td>1.668260e+06</td>\n",
       "      <td>8.000000e+05</td>\n",
       "      <td>8.530640e+05</td>\n",
       "      <td>1035.000000</td>\n",
       "      <td>0.000000e+00</td>\n",
       "      <td>2.332399e+06</td>\n",
       "      <td>...</td>\n",
       "      <td>1.504580e+05</td>\n",
       "      <td>14.000000</td>\n",
       "      <td>0.000000</td>\n",
       "      <td>0.000000e+00</td>\n",
       "      <td>3.753040e+05</td>\n",
       "      <td>42.000000</td>\n",
       "      <td>4.662159e+06</td>\n",
       "      <td>1.889544</td>\n",
       "      <td>0.072529</td>\n",
       "      <td>0.043841</td>\n",
       "    </tr>\n",
       "    <tr>\n",
       "      <th>max</th>\n",
       "      <td>1.111258e+06</td>\n",
       "      <td>15149.000000</td>\n",
       "      <td>6.426990e+06</td>\n",
       "      <td>1.035598e+08</td>\n",
       "      <td>3.434838e+07</td>\n",
       "      <td>8.000000e+06</td>\n",
       "      <td>1.476169e+07</td>\n",
       "      <td>5521.000000</td>\n",
       "      <td>0.000000e+00</td>\n",
       "      <td>4.911008e+07</td>\n",
       "      <td>...</td>\n",
       "      <td>1.035973e+07</td>\n",
       "      <td>609.000000</td>\n",
       "      <td>125034.000000</td>\n",
       "      <td>0.000000e+00</td>\n",
       "      <td>5.145434e+06</td>\n",
       "      <td>528.000000</td>\n",
       "      <td>1.526699e+08</td>\n",
       "      <td>4667.997895</td>\n",
       "      <td>1.000000</td>\n",
       "      <td>0.224352</td>\n",
       "    </tr>\n",
       "  </tbody>\n",
       "</table>\n",
       "<p>8 rows × 23 columns</p>\n",
       "</div>"
      ],
      "text/plain": [
       "             salary   to_messages  deferral_payments  total_payments  \\\n",
       "count  1.410000e+02    141.000000       1.410000e+02    1.410000e+02   \n",
       "mean   1.893917e+05   1261.198582       2.275418e+05    2.194208e+06   \n",
       "std    1.972434e+05   2255.636148       7.611619e+05    8.867473e+06   \n",
       "min    0.000000e+00      0.000000       0.000000e+00    0.000000e+00   \n",
       "25%    0.000000e+00      0.000000       0.000000e+00    9.109300e+04   \n",
       "50%    2.117880e+05    383.000000       0.000000e+00    9.665220e+05   \n",
       "75%    2.714420e+05   1671.000000       1.025900e+04    1.934359e+06   \n",
       "max    1.111258e+06  15149.000000       6.426990e+06    1.035598e+08   \n",
       "\n",
       "       exercised_stock_options         bonus  restricted_stock  \\\n",
       "count             1.410000e+02  1.410000e+02      1.410000e+02   \n",
       "mean              2.101473e+06  6.903803e+05      9.054873e+05   \n",
       "std               4.840002e+06  1.242279e+06      2.013802e+06   \n",
       "min               0.000000e+00  0.000000e+00      0.000000e+00   \n",
       "25%               0.000000e+00  0.000000e+00      4.730400e+04   \n",
       "50%               6.087500e+05  3.000000e+05      3.634280e+05   \n",
       "75%               1.668260e+06  8.000000e+05      8.530640e+05   \n",
       "max               3.434838e+07  8.000000e+06      1.476169e+07   \n",
       "\n",
       "       shared_receipt_with_poi  restricted_stock_deferred  total_stock_value  \\\n",
       "count               141.000000               1.410000e+02       1.410000e+02   \n",
       "mean                714.276596              -3.495181e+04       2.972009e+06   \n",
       "std                1085.276417               1.714034e+05       6.239997e+06   \n",
       "min                   0.000000              -1.787380e+06       0.000000e+00   \n",
       "25%                   0.000000               0.000000e+00       3.186070e+05   \n",
       "50%                 114.000000               0.000000e+00       9.850320e+05   \n",
       "75%                1035.000000               0.000000e+00       2.332399e+06   \n",
       "max                5521.000000               0.000000e+00       4.911008e+07   \n",
       "\n",
       "              ...                 other  from_this_person_to_poi  \\\n",
       "count         ...          1.410000e+02               141.000000   \n",
       "mean          ...          3.000390e+05                25.141844   \n",
       "std           ...          1.142750e+06                80.548351   \n",
       "min           ...          0.000000e+00                 0.000000   \n",
       "25%           ...          0.000000e+00                 0.000000   \n",
       "50%           ...          9.470000e+02                 0.000000   \n",
       "75%           ...          1.504580e+05                14.000000   \n",
       "max           ...          1.035973e+07               609.000000   \n",
       "\n",
       "       director_fees  deferred_income  long_term_incentive  \\\n",
       "count     141.000000     1.410000e+02         1.410000e+02   \n",
       "mean     9191.609929    -1.978042e+05         3.441271e+05   \n",
       "std     29702.625900     6.117991e+05         6.927150e+05   \n",
       "min         0.000000    -3.504386e+06         0.000000e+00   \n",
       "25%         0.000000    -3.834600e+04         0.000000e+00   \n",
       "50%         0.000000     0.000000e+00         0.000000e+00   \n",
       "75%         0.000000     0.000000e+00         3.753040e+05   \n",
       "max    125034.000000     0.000000e+00         5.145434e+06   \n",
       "\n",
       "       from_poi_to_this_person  total_assets  stock_payments_ratio  \\\n",
       "count               141.000000  1.410000e+02            141.000000   \n",
       "mean                 39.581560  4.999887e+06             38.869568   \n",
       "std                  74.849101  1.390117e+07            393.728932   \n",
       "min                   0.000000  0.000000e+00              0.020767   \n",
       "25%                   0.000000  1.593790e+05              0.550996   \n",
       "50%                   7.000000  2.070647e+06              1.105573   \n",
       "75%                  42.000000  4.662159e+06              1.889544   \n",
       "max                 528.000000  1.526699e+08           4667.997895   \n",
       "\n",
       "       other_payments_ratio  poi_messages_ratio  \n",
       "count            141.000000          141.000000  \n",
       "mean               0.114277            0.047561  \n",
       "std                0.205261            0.034292  \n",
       "min                0.000001            0.004566  \n",
       "25%                0.002419            0.034956  \n",
       "50%                0.029206            0.040075  \n",
       "75%                0.072529            0.043841  \n",
       "max                1.000000            0.224352  \n",
       "\n",
       "[8 rows x 23 columns]"
      ]
     },
     "execution_count": 13,
     "metadata": {},
     "output_type": "execute_result"
    }
   ],
   "source": [
    "# display descriptive statistics for the modified data\n",
    "df.describe()"
   ]
  },
  {
   "cell_type": "code",
   "execution_count": 14,
   "metadata": {
    "collapsed": false,
    "deletable": true,
    "editable": true
   },
   "outputs": [
    {
     "name": "stdout",
     "output_type": "stream",
     "text": [
      "poi vs non-poi: differences of means [%]:\n",
      "loan_advances                23112.0\n",
      "total_payments                 483.0\n",
      "total_assets                   428.0\n",
      "exercised_stock_options        403.0\n",
      "deferred_income                372.0\n",
      "total_stock_value              344.0\n",
      "other                          255.0\n",
      "bonus                          254.0\n",
      "restricted_stock               205.0\n",
      "long_term_incentive            190.0\n",
      "from_this_person_to_poi        144.0\n",
      "shared_receipt_with_poi        125.0\n",
      "from_poi_to_this_person        122.0\n",
      "salary                         121.0\n",
      "expenses                        83.0\n",
      "to_messages                     61.0\n",
      "other_payments_ratio            37.0\n",
      "poi_messages_ratio              29.0\n",
      "stock_payments_ratio           -39.0\n",
      "from_messages                  -40.0\n",
      "deferral_payments              -40.0\n",
      "restricted_stock_deferred     -100.0\n",
      "director_fees                 -100.0\n",
      "dtype: float64\n"
     ]
    }
   ],
   "source": [
    "# split poi and non-poi\n",
    "poi_df, npoi_df = prj.split_by(df, 'poi')\n",
    "\n",
    "# print differences of means between poi and non-poi in percent\n",
    "poi_mean = poi_df.mean()\n",
    "npoi_mean = npoi_df.mean()\n",
    "\n",
    "print('poi vs non-poi: differences of means [%]:\\n{}'.format(\n",
    "    np.round(\n",
    "        prj.get_ratio(poi_mean - npoi_mean, npoi_mean) * 100.0\n",
    "    ).sort_values(ascending = False)\n",
    "))"
   ]
  },
  {
   "cell_type": "code",
   "execution_count": 15,
   "metadata": {
    "collapsed": false,
    "deletable": true,
    "editable": true
   },
   "outputs": [
    {
     "data": {
      "image/png": "[encoded data removed]",
      "text/plain": [
       "<matplotlib.figure.Figure at 0xa8ebf90>"
      ]
     },
     "metadata": {},
     "output_type": "display_data"
    }
   ],
   "source": [
    "prj.plot_correlation_matrix(df)"
   ]
  },
  {
   "cell_type": "code",
   "execution_count": 16,
   "metadata": {
    "collapsed": false,
    "deletable": true,
    "editable": true
   },
   "outputs": [
    {
     "data": {
      "text/plain": [
       "exercised_stock_options    0.386637\n",
       "total_stock_value          0.381059\n",
       "bonus                      0.356648\n",
       "salary                     0.336238\n",
       "total_assets               0.333597\n",
       "deferred_income            0.272896\n",
       "long_term_incentive        0.254446\n",
       "total_payments             0.247616\n",
       "restricted_stock           0.244842\n",
       "shared_receipt_with_poi    0.237893\n",
       "Name: poi, dtype: float64"
      ]
     },
     "execution_count": 16,
     "metadata": {},
     "output_type": "execute_result"
    }
   ],
   "source": [
    "# top 10 correlations between poi and other features\n",
    "df.corr()['poi'].abs().sort_values(ascending=False)[1:][:10]"
   ]
  },
  {
   "cell_type": "markdown",
   "metadata": {
    "deletable": true,
    "editable": true
   },
   "source": [
    "### Feature Selection"
   ]
  },
  {
   "cell_type": "code",
   "execution_count": 17,
   "metadata": {
    "collapsed": false,
    "deletable": true,
    "editable": true
   },
   "outputs": [],
   "source": [
    "# split features and target labels\n",
    "features, labels = prj.split_features_labels(df)"
   ]
  },
  {
   "cell_type": "code",
   "execution_count": 18,
   "metadata": {
    "collapsed": false,
    "deletable": true,
    "editable": true
   },
   "outputs": [
    {
     "data": {
      "text/plain": [
       "[['exercised_stock_options', 24.431067695915822],\n",
       " ['total_stock_value', 23.612288926893026],\n",
       " ['bonus', 20.25718499812395],\n",
       " ['salary', 17.717873579243289],\n",
       " ['total_assets', 17.405962336723121],\n",
       " ['deferred_income', 11.184580251839124],\n",
       " ['long_term_incentive', 9.6222121643046794],\n",
       " ['total_payments', 9.079275477352267],\n",
       " ['restricted_stock', 8.8641107260620533],\n",
       " ['shared_receipt_with_poi', 8.3383403168813857]]"
      ]
     },
     "execution_count": 18,
     "metadata": {},
     "output_type": "execute_result"
    }
   ],
   "source": [
    "# top 10 SelectKBest feature scores\n",
    "prj.select_features_by_kbest(features, labels)"
   ]
  },
  {
   "cell_type": "code",
   "execution_count": 19,
   "metadata": {
    "collapsed": false,
    "deletable": true,
    "editable": true
   },
   "outputs": [
    {
     "data": {
      "text/plain": [
       "[['exercised_stock_options', 0.19951338199513408],\n",
       " ['other', 0.13922732620960848],\n",
       " ['restricted_stock', 0.12067655716988449],\n",
       " ['total_payments', 0.11321890996687742],\n",
       " ['bonus', 0.10847765543158015],\n",
       " ['from_this_person_to_poi', 0.087437855730538777],\n",
       " ['expenses', 0.06475598369429085],\n",
       " ['shared_receipt_with_poi', 0.057896033505789611],\n",
       " ['from_poi_to_this_person', 0.055724932249322498],\n",
       " ['poi_messages_ratio', 0.053071364046973803]]"
      ]
     },
     "execution_count": 19,
     "metadata": {},
     "output_type": "execute_result"
    }
   ],
   "source": [
    "# Decision Tree: features selection by feature importances\n",
    "prj.select_features_by_decision_tree(features, labels)"
   ]
  },
  {
   "cell_type": "code",
   "execution_count": 20,
   "metadata": {
    "collapsed": false,
    "deletable": true,
    "editable": true
   },
   "outputs": [
    {
     "data": {
      "text/plain": [
       "[['salary', 0.90388757995391666],\n",
       " ['to_messages', 0.076694971042350693],\n",
       " ['deferral_payments', 0.0084153702819643409],\n",
       " ['total_payments', 0.0060339585665983818],\n",
       " ['exercised_stock_options', 0.0022743437413857751],\n",
       " ['bonus', 0.00111177268221296],\n",
       " ['restricted_stock', 0.0006882693846297762],\n",
       " ['shared_receipt_with_poi', 0.00040861921594994872],\n",
       " ['restricted_stock_deferred', 0.00033977659995395757],\n",
       " ['total_stock_value', 9.731850425790688e-05]]"
      ]
     },
     "execution_count": 20,
     "metadata": {},
     "output_type": "execute_result"
    }
   ],
   "source": [
    "# PCA: features selection by principal component analysis\n",
    "prj.select_features_by_pca(features, labels)"
   ]
  },
  {
   "cell_type": "code",
   "execution_count": 21,
   "metadata": {
    "collapsed": false,
    "deletable": true,
    "editable": true
   },
   "outputs": [
    {
     "data": {
      "text/plain": [
       "[['to_messages', 1],\n",
       " ['total_payments', 1],\n",
       " ['exercised_stock_options', 1],\n",
       " ['restricted_stock', 1],\n",
       " ['shared_receipt_with_poi', 1],\n",
       " ['restricted_stock_deferred', 1],\n",
       " ['total_stock_value', 1],\n",
       " ['from_this_person_to_poi', 1],\n",
       " ['director_fees', 1],\n",
       " ['total_assets', 1]]"
      ]
     },
     "execution_count": 21,
     "metadata": {},
     "output_type": "execute_result"
    }
   ],
   "source": [
    "# RFE: feature ranking with recursive feature elimination\n",
    "# using logistic regression\n",
    "prj.select_features_by_rfe(features, labels)"
   ]
  },
  {
   "cell_type": "code",
   "execution_count": 22,
   "metadata": {
    "collapsed": false
   },
   "outputs": [
    {
     "data": {
      "text/plain": [
       "[['exercised_stock_options', 24.431067695915822],\n",
       " ['total_stock_value', 23.612288926893026],\n",
       " ['bonus', 20.25718499812395],\n",
       " ['salary', 17.717873579243289],\n",
       " ['deferred_income', 11.184580251839124],\n",
       " ['long_term_incentive', 9.6222121643046794],\n",
       " ['total_payments', 9.079275477352267],\n",
       " ['restricted_stock', 8.8641107260620533],\n",
       " ['shared_receipt_with_poi', 8.3383403168813857],\n",
       " ['loan_advances', 7.0667108613197493]]"
      ]
     },
     "execution_count": 22,
     "metadata": {},
     "output_type": "execute_result"
    }
   ],
   "source": [
    "### check and compare feature selection of the original feature set\n",
    "# clean df\n",
    "original_df = original_df.fillna(0)\n",
    "\n",
    "# split features and target labels\n",
    "features, labels = prj.split_features_labels(original_df)\n",
    "\n",
    "# top 10 SelectKBest feature scores\n",
    "prj.select_features_by_kbest(features, labels)"
   ]
  },
  {
   "cell_type": "markdown",
   "metadata": {
    "deletable": true,
    "editable": true
   },
   "source": [
    "### Feature Scaling"
   ]
  },
  {
   "cell_type": "code",
   "execution_count": 23,
   "metadata": {
    "collapsed": false,
    "deletable": true,
    "editable": true
   },
   "outputs": [
    {
     "name": "stderr",
     "output_type": "stream",
     "text": [
      "C:\\dev\\anaconda\\lib\\site-packages\\sklearn\\utils\\validation.py:429: DataConversionWarning: Data with input dtype object was converted to float64 by MinMaxScaler.\n",
      "  warnings.warn(msg, _DataConversionWarning)\n"
     ]
    },
    {
     "data": {
      "text/html": [
       "<div>\n",
       "<table border=\"1\" class=\"dataframe\">\n",
       "  <thead>\n",
       "    <tr style=\"text-align: right;\">\n",
       "      <th></th>\n",
       "      <th>exercised_stock_options</th>\n",
       "      <th>total_stock_value</th>\n",
       "      <th>bonus</th>\n",
       "      <th>salary</th>\n",
       "      <th>total_assets</th>\n",
       "      <th>poi</th>\n",
       "    </tr>\n",
       "  </thead>\n",
       "  <tbody>\n",
       "    <tr>\n",
       "      <th>count</th>\n",
       "      <td>141.000000</td>\n",
       "      <td>141.000000</td>\n",
       "      <td>141.000000</td>\n",
       "      <td>141.000000</td>\n",
       "      <td>141.000000</td>\n",
       "      <td>141.00000</td>\n",
       "    </tr>\n",
       "    <tr>\n",
       "      <th>mean</th>\n",
       "      <td>0.061181</td>\n",
       "      <td>0.060517</td>\n",
       "      <td>0.086298</td>\n",
       "      <td>0.170430</td>\n",
       "      <td>0.032750</td>\n",
       "      <td>0.12766</td>\n",
       "    </tr>\n",
       "    <tr>\n",
       "      <th>std</th>\n",
       "      <td>0.140909</td>\n",
       "      <td>0.127061</td>\n",
       "      <td>0.155285</td>\n",
       "      <td>0.177496</td>\n",
       "      <td>0.091054</td>\n",
       "      <td>0.33490</td>\n",
       "    </tr>\n",
       "    <tr>\n",
       "      <th>min</th>\n",
       "      <td>0.000000</td>\n",
       "      <td>0.000000</td>\n",
       "      <td>0.000000</td>\n",
       "      <td>0.000000</td>\n",
       "      <td>0.000000</td>\n",
       "      <td>0.00000</td>\n",
       "    </tr>\n",
       "    <tr>\n",
       "      <th>25%</th>\n",
       "      <td>0.000000</td>\n",
       "      <td>0.006488</td>\n",
       "      <td>0.000000</td>\n",
       "      <td>0.000000</td>\n",
       "      <td>0.001044</td>\n",
       "      <td>0.00000</td>\n",
       "    </tr>\n",
       "    <tr>\n",
       "      <th>50%</th>\n",
       "      <td>0.017723</td>\n",
       "      <td>0.020058</td>\n",
       "      <td>0.037500</td>\n",
       "      <td>0.190584</td>\n",
       "      <td>0.013563</td>\n",
       "      <td>0.00000</td>\n",
       "    </tr>\n",
       "    <tr>\n",
       "      <th>75%</th>\n",
       "      <td>0.048569</td>\n",
       "      <td>0.047493</td>\n",
       "      <td>0.100000</td>\n",
       "      <td>0.244266</td>\n",
       "      <td>0.030538</td>\n",
       "      <td>0.00000</td>\n",
       "    </tr>\n",
       "    <tr>\n",
       "      <th>max</th>\n",
       "      <td>1.000000</td>\n",
       "      <td>1.000000</td>\n",
       "      <td>1.000000</td>\n",
       "      <td>1.000000</td>\n",
       "      <td>1.000000</td>\n",
       "      <td>1.00000</td>\n",
       "    </tr>\n",
       "  </tbody>\n",
       "</table>\n",
       "</div>"
      ],
      "text/plain": [
       "       exercised_stock_options  total_stock_value       bonus      salary  \\\n",
       "count               141.000000         141.000000  141.000000  141.000000   \n",
       "mean                  0.061181           0.060517    0.086298    0.170430   \n",
       "std                   0.140909           0.127061    0.155285    0.177496   \n",
       "min                   0.000000           0.000000    0.000000    0.000000   \n",
       "25%                   0.000000           0.006488    0.000000    0.000000   \n",
       "50%                   0.017723           0.020058    0.037500    0.190584   \n",
       "75%                   0.048569           0.047493    0.100000    0.244266   \n",
       "max                   1.000000           1.000000    1.000000    1.000000   \n",
       "\n",
       "       total_assets        poi  \n",
       "count    141.000000  141.00000  \n",
       "mean       0.032750    0.12766  \n",
       "std        0.091054    0.33490  \n",
       "min        0.000000    0.00000  \n",
       "25%        0.001044    0.00000  \n",
       "50%        0.013563    0.00000  \n",
       "75%        0.030538    0.00000  \n",
       "max        1.000000    1.00000  "
      ]
     },
     "execution_count": 23,
     "metadata": {},
     "output_type": "execute_result"
    }
   ],
   "source": [
    "# scaled top 5 kbest features using MinMaxScaler\n",
    "scaled_df = prj.normalize(df)\n",
    "top5_df = scaled_df[[\n",
    "    'exercised_stock_options',\n",
    "    'total_stock_value',\n",
    "    'bonus',\n",
    "    'salary',\n",
    "    'total_assets',\n",
    "    'poi'\n",
    "]]\n",
    "top5_df.describe()"
   ]
  },
  {
   "cell_type": "code",
   "execution_count": 24,
   "metadata": {
    "collapsed": false,
    "deletable": true,
    "editable": true
   },
   "outputs": [
    {
     "data": {
      "text/plain": [
       "<seaborn.axisgrid.PairGrid at 0xab61e70>"
      ]
     },
     "execution_count": 24,
     "metadata": {},
     "output_type": "execute_result"
    },
    {
     "data": {
      "image/png": "[encoded data removed]",
      "text/plain": [
       "<matplotlib.figure.Figure at 0xab61710>"
      ]
     },
     "metadata": {},
     "output_type": "display_data"
    }
   ],
   "source": [
    "# get a deeper touch of feature dependencies and distributions after scaling\n",
    "sns.pairplot(data=top5_df, hue='poi')"
   ]
  },
  {
   "cell_type": "markdown",
   "metadata": {
    "deletable": true,
    "editable": true
   },
   "source": [
    "## Question 3: Pick & Test Algorithms\n",
    "\n",
    "**Question 3**: What algorithm did you end up using? What other one(s) did you try? How did model performance differ between algorithms?\n",
    "\n",
    "> To pick the right algorithm we built a generic _pipeline_ function combined with parameter estimation using _grid search with cross-validation_ and _f1_ scoring. We compared different classfication algorithms using the following steps:\n",
    "* **Create Pipeline**: Each feature was scaled at the beginning using the _MinMaxScaler_, then a parameterized number of features were selected by SelectKBest, PCA or RFE and eventually run under different classifiers using an exhaustive search over specified parameter values.\n",
    "* **Train Pipeline**: In the next step we used _StratifiedShuffleSplit_ to randomly split (with *n_splits* = 10, *test_size* = .3 and *train_size* = .7) the pipeline into train and test partitions and then fitted it using _GridSearchCV_.\n",
    "* **Evaluate Pipeline**: The best classifier and parameters of each pipeline was then passed to the evaluation function to test its performance metrics such as accuracy, precision, recall and f1. The records were additionaly splitted and evaluated with the same parameters like used in the _tester.py_ to guarantee the best results.\n",
    "> \n",
    "**Final Algorithm**: **_LogisticRegression_** was the best algorithm to identify POI and provided the best validation results.\n",
    "> \n",
    "**Algorithms Tried**: The other algorithms tested were _DecisionTreeClassifier_, _RandomForestClassifier_, _KNeighborsClassifier_, _LogisticRegression_, _GaussianNB_, _AdaBoostClassifier_ and _SVC_. All of them performed adequately in one aspect or another. We picked _LogisticRegression_ because it had the highest **_recall_** and **_precision_** scores. (Note: Rationale for this is explained in _Question 6_.)\n",
    "> \n",
    "**Comparison of Performance Metrics**:\n",
    ">\n",
    "| **_Estimator_** | **_accuracy_** | **_precision_** | **_recall_** | **_f1_** | **_f2_** |\n",
    "|-----------------|----------------|-----------------|--------------|----------|----------|\n",
    "| **LogisticRegression**     | .76 | .31 | .62 | .41 | .52 |\n",
    "| RandomForestClassifier | .86 | .50 | .27 | .35 | .30 |\n",
    "| GaussianNB             | .84 | .39 | .30 | .34 | .32 |\n",
    "| DecisionTreeClassifier | .78 | .27 | .38 | .31 | .35 |\n",
    "| KNeighborsClassifier   | .87 | .61 | .15 | .24 | .17 |\n",
    "| SVC                    | .84 | .30 | .19 | .23 | .20 |\n",
    "| AdaBoostClassifier     | .81 | .21 | .15 | .18 | .16 |\n",
    ">\n",
    "**Evaluation using the Original Feature Set** (without new features): When the _LogisticRegression_ algorithm was trained using the the original feature set, it showed far worse performance metrics. The _recall_ had a value below the required 0.3 limit. Then we evaluated the final algorithm with the original feature set. This time the metrics were slightly better than the features list containing new features. The reason was that the PCA had another composition and somewhat different explained variances when using the complete features set. Therefore in the final output the original feature list is used instead.\n",
    "> \n",
    "| **_Estimator_** | **_accuracy_** | **_precision_** | **_recall_** | **_f1_** | **_f2_** |\n",
    "|-----------------|----------------|-----------------|--------------|----------|----------|\n",
    "| LogisticRegression (final algorithm)    | .76 | .31 | .62 | .41 | .52 |\n",
    "| LogisticRegression (trained with original features)    | .87 | .55 | .16 | .25 | .19 |\n",
    "| LogisticRegression (final algorithm on original features)    | .77 | **.32** | **.63** | .42 | .52 |\n"
   ]
  },
  {
   "cell_type": "markdown",
   "metadata": {
    "deletable": true,
    "editable": true
   },
   "source": [
    "### Algorithm Research & Selection\n",
    "\n",
    "* Scikit-learn algorithms for supervised with non-ordered or discrete data:\n",
    "    * Decision Tree\n",
    "    * Naive Bayes\n",
    "    * SVM\n",
    "    * kNN\n",
    "    * LDA\n",
    "    * Logistic Regression"
   ]
  },
  {
   "cell_type": "markdown",
   "metadata": {
    "deletable": true,
    "editable": true
   },
   "source": [
    "### Algorithm Pipelines\n",
    "\n",
    "- Pipeline Construction:\n",
    "\n",
    "> Pipeline(steps=[\n",
    ">\n",
    ">     ('scale', scaler),\n",
    ">\n",
    ">     ('reduce', reducer),\n",
    ">\n",
    ">     ('classify', classifier)\n",
    ">\n",
    "> ])\n",
    "\n",
    "- Pipeline and GridSearchCV parameters:\n",
    "    * **Scaler**:\n",
    "        * MinMaxScaler\n",
    "    * **Reducer** (Feature Selector): \n",
    "        * SelectKBest:\n",
    "            * score_func: [f_classif, chi2, f_regression]\n",
    "            * k: range(1, 5)\n",
    "        * PCA:\n",
    "            * n_components: range(1, 5)\n",
    "        * RFE:        \n",
    "            * n_features_to_select: range(1, 5)\n",
    "    * **Classifier**:\n",
    "        * DecisionTreeClassifier:\n",
    "            * max_depth: range(2, 8)\n",
    "            * min_samples_leaf: range(1, 5)\n",
    "            * class_weight: ['balanced']\n",
    "            * criterion: ['gini', 'entropy']\n",
    "        * RandomForestClassifier:\n",
    "            * n_estimators: range(2, 20, 5)\n",
    "            * min_samples_split: range(2, 12, 3)\n",
    "            * max_depth: range(2, 5)\n",
    "            * criterion: ['gini', 'entropy']\n",
    "        * KNeighborsClassifier:\n",
    "            * n_neighbors: range(1, 10)\n",
    "            * leaf_size: range(1, 30, 5)\n",
    "            * algorithm: ['auto', 'ball_tree', 'kd_tree', 'brute']\n",
    "        * LogisticRegression\n",
    "            * class_weight: [None, 'balanced']\n",
    "            * solver: ['liblinear', 'sag']\n",
    "            * C: range(1, 5)\n",
    "        * GaussianNB\n",
    "        * AdaBoostClassifier (decision tree):\n",
    "            * n_estimators: range(10, 50, 10)\n",
    "            * algorithm: ['SAMME', 'SAMME.R']\n",
    "            * learning_rate: [.8, 1.0, 1.2, 1.5]\n",
    "        * SVC:\n",
    "            * kernel: ['rbf', 'linear']\n",
    "            * C: [1.0, 2.0, 10.0, 100.0]\n",
    "            * gamma: ['auto', 2.0, 10.0]"
   ]
  },
  {
   "cell_type": "code",
   "execution_count": 25,
   "metadata": {
    "collapsed": false,
    "deletable": true,
    "editable": true
   },
   "outputs": [
    {
     "name": "stdout",
     "output_type": "stream",
     "text": [
      "==============\n",
      "Estimator: SVC\n",
      "==============\n",
      "> selected features: ['salary', 'to_messages', 'deferral_payments', 'total_payments', 'exercised_stock_options', 'bonus', 'restricted_stock', 'shared_receipt_with_poi', 'restricted_stock_deferred', 'total_stock_value']\n",
      "> scaler params:\n",
      "    scale=MinMaxScaler(copy=True, feature_range=(0, 1))\n",
      "> dimension reducer params:\n",
      "    reduce__n_components=20\n",
      "    reduce=PCA(copy=True, iterated_power='auto', n_components=20, random_state=42,\n",
      "  svd_solver='auto', tol=0.0, whiten=False)\n",
      "> estimator params:\n",
      "    classify__C=1000\n",
      "    classify__gamma=auto\n",
      "    classify__kernel=linear\n",
      "\n",
      "Performance metrics (train):\n",
      "> accuracy=0.92, precision=0.89, recall=0.44, f1=0.59\n",
      "\n",
      "Performance metrics (tester.py):\n",
      "Pipeline(steps=[('scale', MinMaxScaler(copy=True, feature_range=(0, 1))), ('reduce', PCA(copy=True, iterated_power='auto', n_components=20, random_state=42,\n",
      "  svd_solver='auto', tol=0.0, whiten=False)), ('classify', SVC(C=1000, cache_size=200, class_weight=None, coef0=0.0,\n",
      "  decision_function_shape=None, degree=3, gamma='auto', kernel='linear',\n",
      "  max_iter=-1, probability=False, random_state=42, shrinking=True,\n",
      "  tol=0.001, verbose=False))])\n",
      "\tAccuracy: 0.83567\tPrecision: 0.30927\tRecall: 0.18850\tF1: 0.23423\tF2: 0.20447\n",
      "\tTotal predictions: 15000\tTrue positives:  377\tFalse positives:  842\tFalse negatives: 1623\tTrue negatives: 12158\n",
      "\n"
     ]
    }
   ],
   "source": [
    "# create and test pipline using support vector classification\n",
    "from sklearn.svm import SVC\n",
    "pipe = prj.create_pipeline(SVC())\n",
    "params = {\n",
    "    'kernel': ['rbf', 'linear'],\n",
    "    'C': [1, 10, 100, 1000],\n",
    "    'gamma': ['auto', 1.0, 5.0, 10.0]\n",
    "}\n",
    "pipe_result = prj.train_pipeline(df, pipe, params)\n",
    "prj.evaluate_pipeline(df, pipe_result)"
   ]
  },
  {
   "cell_type": "code",
   "execution_count": 25,
   "metadata": {
    "collapsed": false,
    "deletable": true,
    "editable": true
   },
   "outputs": [
    {
     "name": "stdout",
     "output_type": "stream",
     "text": [
      "=================================\n",
      "Estimator: DecisionTreeClassifier\n",
      "=================================\n",
      "> selected features: ['salary', 'to_messages', 'deferral_payments', 'total_payments', 'exercised_stock_options', 'bonus', 'restricted_stock', 'shared_receipt_with_poi', 'restricted_stock_deferred', 'total_stock_value']\n",
      "> scaler params:\n",
      "    scale=MinMaxScaler(copy=True, feature_range=(0, 1))\n",
      "> dimension reducer params:\n",
      "    reduce__n_components=20\n",
      "    reduce=PCA(copy=True, iterated_power='auto', n_components=20, random_state=42,\n",
      "  svd_solver='auto', tol=0.0, whiten=False)\n",
      "> estimator params:\n",
      "    classify__max_depth=5\n",
      "    classify__class_weight=balanced\n",
      "    classify__criterion=gini\n",
      "    classify__min_samples_leaf=1\n",
      "\n",
      "Performance metrics (train):\n",
      "> accuracy=0.96, precision=0.77, recall=0.94, f1=0.85\n",
      "\n",
      "Performance metrics (tester.py):\n",
      "Pipeline(steps=[('scale', MinMaxScaler(copy=True, feature_range=(0, 1))), ('reduce', PCA(copy=True, iterated_power='auto', n_components=20, random_state=42,\n",
      "  svd_solver='auto', tol=0.0, whiten=False)), ('classify', DecisionTreeClassifier(class_weight='balanced', criterion='gini', max_depth=5,\n",
      "            ma...plit=2, min_weight_fraction_leaf=0.0,\n",
      "            presort=False, random_state=42, splitter='best'))])\n",
      "\tAccuracy: 0.77633\tPrecision: 0.26516\tRecall: 0.38250\tF1: 0.31320\tF2: 0.35140\n",
      "\tTotal predictions: 15000\tTrue positives:  765\tFalse positives: 2120\tFalse negatives: 1235\tTrue negatives: 10880\n",
      "\n"
     ]
    }
   ],
   "source": [
    "# create and test pipline using decision tree classifier\n",
    "from sklearn.tree import DecisionTreeClassifier\n",
    "pipe = prj.create_pipeline(DecisionTreeClassifier())\n",
    "params = {\n",
    "    'max_depth': [2, 5, 10],\n",
    "    'min_samples_leaf': [1, 2, 5],\n",
    "    'class_weight': [None, 'balanced'],\n",
    "    'criterion': ['gini', 'entropy']\n",
    "}\n",
    "pipe_result = prj.train_pipeline(df, pipe, params)\n",
    "prj.evaluate_pipeline(df, pipe_result)"
   ]
  },
  {
   "cell_type": "code",
   "execution_count": 26,
   "metadata": {
    "collapsed": false,
    "deletable": true,
    "editable": true
   },
   "outputs": [
    {
     "name": "stdout",
     "output_type": "stream",
     "text": [
      "=================================\n",
      "Estimator: RandomForestClassifier\n",
      "=================================\n",
      "> selected features: ['exercised_stock_options', 'bonus', 'total_stock_value', 'loan_advances']\n",
      "> scaler params:\n",
      "    scale=MinMaxScaler(copy=True, feature_range=(0, 1))\n",
      "> dimension reducer params:\n",
      "    reduce__score_func=<function chi2 at 0x08D221F0>\n",
      "    reduce=SelectKBest(k=4, score_func=<function chi2 at 0x08D221F0>)\n",
      "    reduce__k=4\n",
      "> estimator params:\n",
      "    classify__n_estimators=10\n",
      "    classify__min_samples_split=3\n",
      "    classify__criterion=gini\n",
      "    classify__max_depth=5\n",
      "\n",
      "Performance metrics (train):\n",
      "> accuracy=0.97, precision=1.00, recall=0.78, f1=0.88\n",
      "\n",
      "Performance metrics (tester.py):\n",
      "Pipeline(steps=[('scale', MinMaxScaler(copy=True, feature_range=(0, 1))), ('reduce', SelectKBest(k=4, score_func=<function chi2 at 0x08D221F0>)), ('classify', RandomForestClassifier(bootstrap=True, class_weight=None, criterion='gini',\n",
      "            max_depth=5, max_features='auto', max_leaf_nodes=None,\n",
      "       ...stimators=10, n_jobs=1, oob_score=False, random_state=42,\n",
      "            verbose=0, warm_start=False))])\n",
      "\tAccuracy: 0.86720\tPrecision: 0.50371\tRecall: 0.27150\tF1: 0.35283\tF2: 0.29907\n",
      "\tTotal predictions: 15000\tTrue positives:  543\tFalse positives:  535\tFalse negatives: 1457\tTrue negatives: 12465\n",
      "\n"
     ]
    }
   ],
   "source": [
    "# create and test pipline using decision tree classifier\n",
    "from sklearn.ensemble import RandomForestClassifier\n",
    "pipe = prj.create_pipeline(RandomForestClassifier())\n",
    "params = {\n",
    "    'n_estimators': [2, 5, 10],\n",
    "    'min_samples_split': [2, 3, 5],\n",
    "    'max_depth': [None, 2, 5],\n",
    "    'criterion': ['gini', 'entropy']\n",
    "}\n",
    "pipe_result = prj.train_pipeline(df, pipe, params)\n",
    "prj.evaluate_pipeline(df, pipe_result)"
   ]
  },
  {
   "cell_type": "code",
   "execution_count": 27,
   "metadata": {
    "collapsed": false,
    "deletable": true,
    "editable": true
   },
   "outputs": [
    {
     "name": "stdout",
     "output_type": "stream",
     "text": [
      "===============================\n",
      "Estimator: KNeighborsClassifier\n",
      "===============================\n",
      "> selected features: ['total_payments', 'exercised_stock_options', 'bonus', 'total_stock_value', 'loan_advances', 'total_assets']\n",
      "> scaler params:\n",
      "    scale=MinMaxScaler(copy=True, feature_range=(0, 1))\n",
      "> dimension reducer params:\n",
      "    reduce__score_func=<function chi2 at 0x08D221F0>\n",
      "    reduce=SelectKBest(k=6, score_func=<function chi2 at 0x08D221F0>)\n",
      "    reduce__k=6\n",
      "> estimator params:\n",
      "    classify__n_neighbors=2\n",
      "    classify__algorithm=auto\n",
      "    classify__leaf_size=5\n",
      "\n",
      "Performance metrics (train):\n",
      "> accuracy=0.92, precision=1.00, recall=0.39, f1=0.56\n",
      "\n",
      "Performance metrics (tester.py):\n",
      "Pipeline(steps=[('scale', MinMaxScaler(copy=True, feature_range=(0, 1))), ('reduce', SelectKBest(k=6, score_func=<function chi2 at 0x08D221F0>)), ('classify', KNeighborsClassifier(algorithm='auto', leaf_size=5, metric='minkowski',\n",
      "           metric_params=None, n_jobs=1, n_neighbors=2, p=2,\n",
      "           weights='uniform'))])\n",
      "\tAccuracy: 0.87353\tPrecision: 0.60707\tRecall: 0.14600\tF1: 0.23539\tF2: 0.17215\n",
      "\tTotal predictions: 15000\tTrue positives:  292\tFalse positives:  189\tFalse negatives: 1708\tTrue negatives: 12811\n",
      "\n"
     ]
    }
   ],
   "source": [
    "# create and test pipline using kneighbors classifier\n",
    "from sklearn.neighbors import KNeighborsClassifier\n",
    "pipe = prj.create_pipeline(KNeighborsClassifier())\n",
    "params = {\n",
    "    'n_neighbors': [2, 5, 8],\n",
    "    'leaf_size': [5, 10, 30],\n",
    "    'algorithm': ['auto', 'ball_tree', 'kd_tree']\n",
    "}\n",
    "pipe_result = prj.train_pipeline(df, pipe, params)\n",
    "prj.evaluate_pipeline(df, pipe_result)"
   ]
  },
  {
   "cell_type": "code",
   "execution_count": 25,
   "metadata": {
    "collapsed": false,
    "deletable": true,
    "editable": true
   },
   "outputs": [
    {
     "name": "stdout",
     "output_type": "stream",
     "text": [
      "=============================\n",
      "Estimator: LogisticRegression\n",
      "=============================\n",
      "> selected features: ['salary', 'to_messages']\n",
      "> scaler params:\n",
      "    scale=MinMaxScaler(copy=True, feature_range=(0, 1))\n",
      "> dimension reducer params:\n",
      "    reduce__n_components=2\n",
      "    reduce=PCA(copy=True, iterated_power='auto', n_components=2, random_state=42,\n",
      "  svd_solver='auto', tol=0.0, whiten=False)\n",
      "> estimator params:\n",
      "    classify__C=10\n",
      "    classify__solver=liblinear\n",
      "    classify__class_weight=balanced\n",
      "\n",
      "Performance metrics (train):\n",
      "> accuracy=0.79, precision=0.32, recall=0.61, f1=0.42\n",
      "\n",
      "Performance metrics (tester.py):\n",
      "Pipeline(steps=[('scale', MinMaxScaler(copy=True, feature_range=(0, 1))), ('reduce', PCA(copy=True, iterated_power='auto', n_components=2, random_state=42,\n",
      "  svd_solver='auto', tol=0.0, whiten=False)), ('classify', LogisticRegression(C=10, class_weight='balanced', dual=False,\n",
      "          fit_intercept=True, intercept_scaling=1, max_iter=100,\n",
      "          multi_class='ovr', n_jobs=1, penalty='l2', random_state=42,\n",
      "          solver='liblinear', tol=0.0001, verbose=0, warm_start=False))])\n",
      "\tAccuracy: 0.76427\tPrecision: 0.30905\tRecall: 0.62150\tF1: 0.41282\tF2: 0.51697\n",
      "\tTotal predictions: 15000\tTrue positives: 1243\tFalse positives: 2779\tFalse negatives:  757\tTrue negatives: 10221\n",
      "\n"
     ]
    }
   ],
   "source": [
    "# create and test pipline using logistic regression\n",
    "from sklearn.linear_model import LogisticRegression\n",
    "pipe = prj.create_pipeline(LogisticRegression())\n",
    "params = {\n",
    "    'class_weight': [None, 'balanced'],\n",
    "    'solver': ['liblinear', 'sag'],\n",
    "    'C': [1, 5, 10]\n",
    "}\n",
    "pipe_result = prj.train_pipeline(df, pipe, params)\n",
    "prj.evaluate_pipeline(df, pipe_result)"
   ]
  },
  {
   "cell_type": "code",
   "execution_count": 25,
   "metadata": {
    "collapsed": false,
    "deletable": true,
    "editable": true
   },
   "outputs": [
    {
     "name": "stdout",
     "output_type": "stream",
     "text": [
      "=====================\n",
      "Estimator: GaussianNB\n",
      "=====================\n",
      "> selected features: ['exercised_stock_options', 'bonus', 'total_stock_value', 'expenses', 'deferred_income']\n",
      "> scaler params:\n",
      "    scale=MinMaxScaler(copy=True, feature_range=(0, 1))\n",
      "> dimension reducer params:\n",
      "    reduce__n_features_to_select=5\n",
      "    reduce=RFE(estimator=LogisticRegression(C=1.0, class_weight=None, dual=False, fit_intercept=True,\n",
      "          intercept_scaling=1, max_iter=100, multi_class='ovr', n_jobs=1,\n",
      "          penalty='l2', random_state=None, solver='liblinear', tol=0.0001,\n",
      "          verbose=0, warm_start=False),\n",
      "  n_features_to_select=5, step=1, verbose=0)\n",
      "> estimator params:\n",
      "\n",
      "Performance metrics (train):\n",
      "> accuracy=0.87, precision=0.50, recall=0.39, f1=0.44\n",
      "\n",
      "Performance metrics (tester.py):\n",
      "Pipeline(steps=[('scale', MinMaxScaler(copy=True, feature_range=(0, 1))), ('reduce', RFE(estimator=LogisticRegression(C=1.0, class_weight=None, dual=False, fit_intercept=True,\n",
      "          intercept_scaling=1, max_iter=100, multi_class='ovr', n_jobs=1,\n",
      "          penalty='l2', random_state=None, solver='liblinear', tol=0.0001,\n",
      "          verbose=0, warm_start=False),\n",
      "  n_features_to_select=5, step=1, verbose=0)), ('classify', GaussianNB(priors=None))])\n",
      "\tAccuracy: 0.84320\tPrecision: 0.38776\tRecall: 0.30400\tF1: 0.34081\tF2: 0.31773\n",
      "\tTotal predictions: 15000\tTrue positives:  608\tFalse positives:  960\tFalse negatives: 1392\tTrue negatives: 12040\n",
      "\n"
     ]
    }
   ],
   "source": [
    "# create and test pipline using gaussian naive bayes\n",
    "from sklearn.naive_bayes import GaussianNB\n",
    "pipe = prj.create_pipeline(GaussianNB())\n",
    "params = {}\n",
    "pipe_result = prj.train_pipeline(df, pipe, params)\n",
    "prj.evaluate_pipeline(df, pipe_result)"
   ]
  },
  {
   "cell_type": "code",
   "execution_count": 26,
   "metadata": {
    "collapsed": false,
    "deletable": true,
    "editable": true
   },
   "outputs": [
    {
     "name": "stdout",
     "output_type": "stream",
     "text": [
      "=============================\n",
      "Estimator: AdaBoostClassifier\n",
      "=============================\n",
      "> selected features: ['salary', 'to_messages', 'deferral_payments', 'total_payments', 'exercised_stock_options', 'bonus', 'restricted_stock', 'shared_receipt_with_poi', 'restricted_stock_deferred', 'total_stock_value']\n",
      "> scaler params:\n",
      "    scale=MinMaxScaler(copy=True, feature_range=(0, 1))\n",
      "> dimension reducer params:\n",
      "    reduce__n_components=20\n",
      "    reduce=PCA(copy=True, iterated_power='auto', n_components=20, random_state=42,\n",
      "  svd_solver='auto', tol=0.0, whiten=False)\n",
      "> estimator params:\n",
      "    classify__learning_rate=1.4\n",
      "    classify__n_estimators=2\n",
      "    classify__algorithm=SAMME.R\n",
      "\n",
      "Performance metrics (train):\n",
      "> accuracy=0.89, precision=0.57, recall=0.44, f1=0.50\n",
      "\n",
      "Performance metrics (tester.py):\n",
      "Pipeline(steps=[('scale', MinMaxScaler(copy=True, feature_range=(0, 1))), ('reduce', PCA(copy=True, iterated_power='auto', n_components=20, random_state=42,\n",
      "  svd_solver='auto', tol=0.0, whiten=False)), ('classify', AdaBoostClassifier(algorithm='SAMME.R', base_estimator=None,\n",
      "          learning_rate=1.4, n_estimators=2, random_state=42))])\n",
      "\tAccuracy: 0.81107\tPrecision: 0.21281\tRecall: 0.15450\tF1: 0.17903\tF2: 0.16346\n",
      "\tTotal predictions: 15000\tTrue positives:  309\tFalse positives: 1143\tFalse negatives: 1691\tTrue negatives: 11857\n",
      "\n"
     ]
    }
   ],
   "source": [
    "# create and test pipline using ada boost classifier with the default decision tree base estimator\n",
    "from sklearn.ensemble import AdaBoostClassifier\n",
    "pipe = prj.create_pipeline(AdaBoostClassifier())\n",
    "params = {\n",
    "    'n_estimators': [2, 5, 10, 20],\n",
    "    'algorithm': ['SAMME', 'SAMME.R'],\n",
    "    'learning_rate': [.6, 1.0, 1.4]\n",
    "}\n",
    "pipe_result = prj.train_pipeline(df, pipe, params)\n",
    "prj.evaluate_pipeline(df, pipe_result)"
   ]
  },
  {
   "cell_type": "markdown",
   "metadata": {
    "deletable": true,
    "editable": true
   },
   "source": [
    "### Performance Comparison\n",
    "\n",
    "**Performance Metrics**:\n",
    "\n",
    "| **_Estimator_** | **_accuracy_** | **_precision_** | **_recall_** | **_f1_** | **_f2_** |\n",
    "|-----------------|----------------|-----------------|--------------|----------|----------|\n",
    "| **LogisticRegression**     | .76 | .31 | .62 | .41 | .52 |\n",
    "| RandomForestClassifier | .86 | .50 | .27 | .35 | .30 |\n",
    "| GaussianNB             | .84 | .39 | .30 | .34 | .32 |\n",
    "| DecisionTreeClassifier | .78 | .27 | .38 | .31 | .35 |\n",
    "| KNeighborsClassifier   | .87 | .61 | .15 | .24 | .17 |\n",
    "| SVC                    | .84 | .30 | .19 | .23 | .20 |\n",
    "| AdaBoostClassifier     | .81 | .21 | .15 | .18 | .16 |\n",
    "\n",
    "**Performance of the Original Feature Set** (without new features):\n",
    "\n",
    "| **_Estimator_** | **_accuracy_** | **_precision_** | **_recall_** | **_f1_** | **_f2_** |\n",
    "|-----------------|----------------|-----------------|--------------|----------|----------|\n",
    "| LogisticRegression (final algorithm)    | .76 | .31 | .62 | .41 | .52 |\n",
    "| LogisticRegression (trained with original features)    | .87 | .55 | .16 | .25 | .19 |\n",
    "| LogisticRegression (final algorithm on original features)    | .77 | **.32** | **.63** | .42 | .52 |\n"
   ]
  },
  {
   "cell_type": "code",
   "execution_count": 27,
   "metadata": {
    "collapsed": false
   },
   "outputs": [
    {
     "name": "stdout",
     "output_type": "stream",
     "text": [
      "=============================\n",
      "Estimator: LogisticRegression\n",
      "=============================\n",
      "> selected features: ['salary', 'to_messages', 'deferral_payments', 'exercised_stock_options', 'bonus', 'restricted_stock', 'shared_receipt_with_poi', 'restricted_stock_deferred', 'total_stock_value', 'expenses']\n",
      "> scaler params:\n",
      "    scale=MinMaxScaler(copy=True, feature_range=(0, 1))\n",
      "> dimension reducer params:\n",
      "    reduce__n_features_to_select=17\n",
      "    reduce=RFE(estimator=LogisticRegression(C=1.0, class_weight=None, dual=False, fit_intercept=True,\n",
      "          intercept_scaling=1, max_iter=100, multi_class='ovr', n_jobs=1,\n",
      "          penalty='l2', random_state=None, solver='liblinear', tol=0.0001,\n",
      "          verbose=0, warm_start=False),\n",
      "  n_features_to_select=17, step=1, verbose=0)\n",
      "> estimator params:\n",
      "    classify__C=10\n",
      "    classify__solver=liblinear\n",
      "    classify__class_weight=None\n",
      "\n",
      "Performance metrics (train):\n",
      "> accuracy=0.90, precision=0.83, recall=0.28, f1=0.42\n",
      "\n",
      "Performance metrics (tester.py):\n",
      "Pipeline(steps=[('scale', MinMaxScaler(copy=True, feature_range=(0, 1))), ('reduce', RFE(estimator=LogisticRegression(C=1.0, class_weight=None, dual=False, fit_intercept=True,\n",
      "          intercept_scaling=1, max_iter=100, multi_class='ovr', n_jobs=1,\n",
      "          penalty='l2', random_state=None, solver='liblinea...alty='l2', random_state=42, solver='liblinear', tol=0.0001,\n",
      "          verbose=0, warm_start=False))])\n",
      "\tAccuracy: 0.87087\tPrecision: 0.55385\tRecall: 0.16200\tF1: 0.25068\tF2: 0.18870\n",
      "\tTotal predictions: 15000\tTrue positives:  324\tFalse positives:  261\tFalse negatives: 1676\tTrue negatives: 12739\n",
      "\n"
     ]
    }
   ],
   "source": [
    "### recheck original feature set\n",
    "# evaluation of the final algorithm without new features\n",
    "from sklearn.linear_model import LogisticRegression\n",
    "pipe = prj.create_pipeline(LogisticRegression())\n",
    "params = {\n",
    "    'class_weight': [None, 'balanced'],\n",
    "    'solver': ['liblinear', 'sag'],\n",
    "    'C': [1, 5, 10]\n",
    "}\n",
    "pipe_result = prj.train_pipeline(original_df, pipe, params)\n",
    "prj.evaluate_pipeline(original_df, pipe_result)"
   ]
  },
  {
   "cell_type": "code",
   "execution_count": 31,
   "metadata": {
    "collapsed": false
   },
   "outputs": [
    {
     "name": "stdout",
     "output_type": "stream",
     "text": [
      "Pipeline(steps=[('scale', MinMaxScaler(copy=True, feature_range=(0, 1))), ('reduce', PCA(copy=True, iterated_power='auto', n_components=2, random_state=42,\n",
      "  svd_solver='auto', tol=0.0, whiten=False)), ('classify', LogisticRegression(C=10, class_weight='balanced', dual=False,\n",
      "          fit_intercept=True, intercept_scaling=1, max_iter=100,\n",
      "          multi_class='ovr', n_jobs=1, penalty='l2', random_state=42,\n",
      "          solver='liblinear', tol=0.0001, verbose=0, warm_start=False))])\n",
      "\tAccuracy: 0.77280\tPrecision: 0.32004\tRecall: 0.62600\tF1: 0.42355\tF2: 0.52552\n",
      "\tTotal predictions: 15000\tTrue positives: 1252\tFalse positives: 2660\tFalse negatives:  748\tTrue negatives: 10340\n",
      "\n"
     ]
    }
   ],
   "source": [
    "# use final algorithm with original feature set\n",
    "from sklearn.pipeline import Pipeline\n",
    "from sklearn.preprocessing import MinMaxScaler\n",
    "from sklearn.decomposition import PCA\n",
    "clf = Pipeline(steps=[\n",
    "    ('scale', MinMaxScaler()), \n",
    "    ('reduce', PCA(n_components=2, random_state=42)), \n",
    "    ('classify', LogisticRegression(C=10, class_weight='balanced', random_state=42, solver='liblinear'))\n",
    "])\n",
    "prj.run_tester_check(original_df, clf, list(original_df.drop('poi', axis=1).columns))"
   ]
  },
  {
   "cell_type": "markdown",
   "metadata": {
    "deletable": true,
    "editable": true
   },
   "source": [
    "### Final Pick\n",
    "\n",
    "* Most explained features by PCA: '**salary**', '**to_messages**'\n",
    "* Pipeline: \n",
    "> Pipeline(steps=[\n",
    ">     ('scale', MinMaxScaler()), \n",
    ">     ('reduce', PCA(n_components=2, random_state=42)), \n",
    ">     ('classify', LogisticRegression(C=10, class_weight='balanced', random_state=42, solver='liblinear'))\n",
    "> ])"
   ]
  },
  {
   "cell_type": "markdown",
   "metadata": {
    "deletable": true,
    "editable": true
   },
   "source": [
    "## Question 4: Tune Parameters\n",
    "\n",
    "**Question 4**: What does it mean to tune the parameters of an algorithm, and what can happen if you don’t do this well?  How did you tune the parameters of your particular algorithm? (Some algorithms do not have parameters that you need to tune -- if this is the case for the one you picked, identify and briefly explain how you would have done it for the model that was not your final choice or a different model that does utilize parameter tuning, e.g. a decision tree classifier).\n",
    "\n",
    "> **Parameter Tuning**: Most machine learning algorithms have parameters provided with default values and do work without any fine-tuning. But the best result for a given model is only guaranteed by optimization its parameters. The tuning process also allows us to select the optimal model by comparing the performance scores like recall or f1 and select the best one for use. We used the grid search process with cross-validation to perform the parameter tuning for pre-defined set of parameter values and for the selected algorithms and to evalutate all kind of combinations of those values in order to be assured that the actual best model is selected.\n",
    ">\n",
    "> **Parameters Tuned**: As described in the previous answer the parameters of the pipelines were tuned via GridSearchCV parameter grid. The main work was to pre-define the set of parameters available for the preselection and classification algorithms. For the final algorithm the following parameters were tuned:\n",
    "* [PCA](http://scikit-learn.org/stable/modules/generated/sklearn.decomposition.PCA.html):\n",
    "    * *n_components*: values trained were *range(1, 8)*. *PCA* is a linear dimensionality reduction algortihm to project data to a lower dimensional space. _n_components_ is the number of components to keep.\n",
    "Linear dimensionality reduction using Singular Value Decomposition of the data to project it to a lower dimensional space.\n",
    "        * selected parameter value: **n_components = 2**\n",
    "* [LogisticRegression](http://scikit-learn.org/stable/modules/generated/sklearn.linear_model.LogisticRegression.html):\n",
    "    * *C*: values trained were *[1, 5, 10]*. It represents a regularization strength like in C in the SVM.\n",
    "        * selected parameter value: **C = 10**\n",
    "    * *solver*: values trained were '*liblinear*' and '*sag*'. It's the underlying regularized logistic regression libraries.\n",
    "        * selected parameter value: **solver = 'liblinear'**\n",
    "    * *class_weight*: values trained were *[None, 'balanced']*.\n",
    "        * selected parameter value: **class_weight = 'balanced'**"
   ]
  },
  {
   "cell_type": "markdown",
   "metadata": {
    "deletable": true,
    "editable": true
   },
   "source": [
    "## Question 5: Validate Algorithm\n",
    "\n",
    "**Question** 5: What is validation, and what’s a classic mistake you can make if you do it wrong? How did you validate your analysis?\n",
    "\n",
    "> **Purpose of Validation**: Validation is performed to test how well the algorithm has been trained and to ensure that the trained model generalizes well. A good validation process tries to find a valid compromise between bias and variance.\n",
    "> \n",
    "> **Classic Mistake**: A classic mistake in validation is the [bias-variance tradeoff](https://en.wikipedia.org/wiki/Bias%E2%80%93variance_tradeoff). \n",
    "* Overfitting: Algorithm with high-variance tends to represent the training set well, but is at risk of overfitting to noisy or unrepresentative training data . \n",
    "* Underfitting: Models with high bias in the another hand can produce simpler models which don't tend to overfit, but may miss the relevant relations between features and target outputs (_underfitting_) .\n",
    "> \n",
    "> **Validation Process**: The algorithms analyzed in this report used GridSearchCV combined with StratifiedShuffleSplit to randomly split the data into multiple train and test sets. The test size was 30%, while the training set was set to 70%. The best pipeline of each grid search result was then double validated by the *print_metrics* method from the 'p5_ml_enron.py' script file and at last by the *test_classifier* method provided in the 'tester.py'.\n"
   ]
  },
  {
   "cell_type": "markdown",
   "metadata": {
    "deletable": true,
    "editable": true
   },
   "source": [
    "## Question 6: Evaluate Algorithm\n",
    "\n",
    "\n",
    "**Question 6**: Give at least 2 evaluation metrics and your average performance for each of them.  Explain an interpretation of your metrics that says something human-understandable about your algorithm’s performance.\n",
    "\n",
    "**Evaluation Metrics**: During the evaluation of the algorithms four performance metrics were calculated and compared.\n",
    "* _Accuracy_: Proportion of all predictions that are correct. Accuracy is a measurment of how good a model is.\n",
    "$$accuracy = \\frac{TP+FN}{TP+FN+TP+TN} = \\frac{\\text{correct predictions}}{\\text{all predictions}}$$\n",
    "* _Precision_: Proportion of all positive predictions that are correct. Precision is a measure of how many positive predictions were actual positive observations.\n",
    "$$Precision = \\frac{TP}{TP+FP} = \\frac{\\text{positive predicted correctly}}{\\text{all positive predictions}}$$\n",
    "* _Recall_: Proportion of all real positive observations that are correct. Precision is a measure of how many actual positive observations were predicted correctly.\n",
    "$$Recall = TPR = \\frac{TP}{TP+FN} = \\frac{TP}{P} = \\frac{\\text{predicted to be positive}}{\\text{all positive observations}}$$\n",
    "* _F1 score_: The harmonic mean of precision and recall. F1 score is an 'average' of both precision and recall. We use the harmonic mean because it is the appropriate way to average ratios (while arthmetric mean is appropriate when it conceptually makes sense to add things up).\n",
    "$$F1 = 2\\frac{Precision * Recall}{Precision + Recall}$$\n",
    "\n",
    "**Performance** of the final _LogisticRegression_ algorithm:\n",
    "* _Accuracy_: .76 (76%)\t\t \t\n",
    "* _Precision_: .31 (31%)\n",
    "* _Recall_: .62 (62%)\n",
    "* _f1_: .41 (41%)\n",
    "\n",
    "**Interpretation of the metrics**: The pipelines in the experiment used precision and recall to evaluate the performance in predicting POIs. (F1 score is the combination of both.) The metric _accuracy_ was left out because it's not ideal when dealing with skewed data. With a non-POI ratio of over 87% like in this data set we would get an accuracy of 87% if we would predict that every person was non-POI.\n",
    "* _Precision_ in this project: The final model's precision was approximately 31% and says that from the people classified as POI, 31% of them are true POI.\n",
    "* _Recall_ in this project: However, its recall value is over 62% refering that from the number of all POI in the total data set, the model correctly identifies 62% of them.\n",
    "In a real-world application like in the enron case, a _recall_ being higher than _precision_ score means that more real POI are captured by the algorithm but also more people are mis-identified as a POI. "
   ]
  },
  {
   "cell_type": "markdown",
   "metadata": {
    "deletable": true,
    "editable": true
   },
   "source": [
    "## Dump Tester Results\n",
    "\n",
    "\n",
    "> Performance metrics (tester.py):\n",
    ">\n",
    "> Pipeline(steps=[('scale', MinMaxScaler(copy=True, feature_range=(0, 1))), ('reduce', PCA(copy=True, iterated_power='auto', n_components=2, random_state=42, svd_solver='auto', tol=0.0, whiten=False)), ('classify', LogisticRegression(C=10, class_weight='balanced', dual=False, fit_intercept=True, intercept_scaling=1, max_iter=100, multi_class='ovr', n_jobs=1, penalty='l2', random_state=42, solver='liblinear', tol=0.0001, verbose=0, warm_start=False))])\n",
    ">\n",
    "> Accuracy: 0.77280\tPrecision: 0.32004\tRecall: 0.62600\tF1: 0.42355\tF2: 0.52552\n",
    "> \n",
    "> Total predictions: 15000\tTrue positives: 1252\tFalse positives: 2660\tFalse negatives:  748\tTrue negatives: 10340"
   ]
  },
  {
   "cell_type": "markdown",
   "metadata": {
    "deletable": true,
    "editable": true
   },
   "source": [
    "## References\n",
    "\n",
    "* [Scikit-learn documentation](http://scikit-learn.org/stable)\n",
    "* [Scikit-learn: Feature Selection](http://scikit-learn.org/stable/modules/feature_selection.html)\n",
    "* [Pandas documentation](http://pandas.pydata.org/pandas-docs/version/0.19.2)\n",
    "* [Seaborn documentation](https://seaborn.pydata.org/api.html)\n",
    "* [Wikipedia: Bias-Variance tradeoff](https://en.wikipedia.org/wiki/Bias%E2%80%93variance_tradeoff)"
   ]
  },
  {
   "cell_type": "markdown",
   "metadata": {
    "deletable": true,
    "editable": true
   },
   "source": [
    "## Reproduction Environment"
   ]
  },
  {
   "cell_type": "code",
   "execution_count": null,
   "metadata": {
    "collapsed": false,
    "deletable": true,
    "editable": true
   },
   "outputs": [],
   "source": [
    "import IPython\n",
    "print IPython.sys_info()"
   ]
  },
  {
   "cell_type": "code",
   "execution_count": null,
   "metadata": {
    "collapsed": false,
    "deletable": true,
    "editable": true
   },
   "outputs": [],
   "source": [
    "!pip freeze"
   ]
  },
  {
   "cell_type": "code",
   "execution_count": null,
   "metadata": {
    "collapsed": true,
    "deletable": true,
    "editable": true
   },
   "outputs": [],
   "source": []
  }
 ],
 "metadata": {
  "anaconda-cloud": {},
  "kernelspec": {
   "display_name": "Python 2",
   "language": "python",
   "name": "python2"
  },
  "language_info": {
   "codemirror_mode": {
    "name": "ipython",
    "version": 2
   },
   "file_extension": ".py",
   "mimetype": "text/x-python",
   "name": "python",
   "nbconvert_exporter": "python",
   "pygments_lexer": "ipython2",
   "version": "2.7.13"
  }
 },
 "nbformat": 4,
 "nbformat_minor": 0
}
