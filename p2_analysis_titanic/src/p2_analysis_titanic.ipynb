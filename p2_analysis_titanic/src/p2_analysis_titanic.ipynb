{
 "cells": [
  {
   "cell_type": "markdown",
   "metadata": {
    "deletable": true,
    "editable": true
   },
   "source": [
    "# Data Analysis: Titanic Data Set\n",
    "\n",
    "> Udacity Data Analyst Nanodegree: _Project 2_\n",
    ">\n",
    "> Author: _Ke Zhang_\n",
    ">\n",
    "> Submission Date: _2017-03-30_ (Revision 1)"
   ]
  },
  {
   "cell_type": "markdown",
   "metadata": {
    "deletable": true,
    "editable": true
   },
   "source": [
    "## Abstract\n",
    "\n",
    "The [Titanic Data](https://d17h27t6h515a5.cloudfront.net/topher/2016/September/57e9a84c_titanic-data/titanic-data.csv) contains demographics and passenger information from 891 of the 2224 passengers and crew on board the Titanic. You can view a description of this dataset on the [Kaggle website](https://www.kaggle.com/c/titanic/data), where the data was obtained."
   ]
  },
  {
   "cell_type": "markdown",
   "metadata": {
    "deletable": true,
    "editable": true
   },
   "source": [
    "## Content\n",
    "\n",
    "- [Prepare and preview data](#Prepare-and-preview-data)\n",
    "- [Define questions](#Define-questions)\n",
    "- [Wrangle data](#Wrangle-data)\n",
    "- [Answers](#Answers)\n",
    "- [Conclusion](#Conclusion)\n",
    "- [References](#References)"
   ]
  },
  {
   "cell_type": "markdown",
   "metadata": {
    "deletable": true,
    "editable": true
   },
   "source": [
    "### Prepare and preview data\n",
    "\n",
    "**Summary of the quick exploration**:\n",
    "\n",
    "* There are 891 entries (passengers) in the data set. Overall 342 (about 38%) of them survived.\n",
    "* The data columns 'Cabin', 'Age' and 'Embarked' contain null values.\n",
    "* The passengers' 'Age' varies from 0.42 to 80 years with a median age of 28.\n",
    "* In average female passengers paid higher 'Fare' than male passengers.\n",
    "* In the statistics grouped by 'Pclass' we can see that 'Pclass' and 'Fare' may strongly correlated.\n",
    "\n",
    "**First \"suspicious\" findings**:\n",
    "* The passengers of upper class had a higher mean survival rate. \n",
    "    * --> The socio-economic status may have an effect on the survival chance.\n",
    "* The mean age is smaller in the survived group than in the not-survived group. But the medians are the same in both groups. \n",
    "    * --> Small babies may have more likely survived.\n",
    "    * --> Senior passengers may have less chance to survive.\n",
    "* The mean number of parents/children aboard is greater in the survived group.\n",
    "    * --> Children with parents may have greater chance to survive.\n",
    "* The mean and median of 'Fare' in the survived group are much higher.\n",
    "    * --> Passengers with higher paid fare e.g. in upper class cabins may have easier access to life boats.\n",
    "* While only about 20% of the male passengers survived about 75% of female passengers survived. \n",
    "    * --> Passenger's gender may have a great influence on the survival rate."
   ]
  },
  {
   "cell_type": "code",
   "execution_count": 1,
   "metadata": {
    "collapsed": true,
    "deletable": true,
    "editable": true
   },
   "outputs": [],
   "source": [
    "# import libs used in this project\n",
    "import math\n",
    "from scipy import stats\n",
    "import matplotlib.pyplot as plt\n",
    "import pandas as pd\n",
    "import numpy as np\n",
    "import seaborn as sns\n",
    "\n",
    "# initialize plot context and global configurations\n",
    "%matplotlib inline\n",
    "sns.set(style='white', palette='muted', color_codes=True)\n",
    "sns.set_context('notebook', font_scale=1.2, rc={'lines.linewidth': 1.2})\n",
    "# disable chained assignment warning\n",
    "pd.options.mode.chained_assignment = None\n",
    "\n",
    "# color constants\n",
    "color_survived = '#FCFF77' #yellow\n",
    "color_died = '#FF6060' #red\n"
   ]
  },
  {
   "cell_type": "code",
   "execution_count": 2,
   "metadata": {
    "collapsed": false,
    "deletable": true,
    "editable": true
   },
   "outputs": [
    {
     "data": {
      "text/html": [
       "<div>\n",
       "<table border=\"1\" class=\"dataframe\">\n",
       "  <thead>\n",
       "    <tr style=\"text-align: right;\">\n",
       "      <th></th>\n",
       "      <th>PassengerId</th>\n",
       "      <th>Survived</th>\n",
       "      <th>Pclass</th>\n",
       "      <th>Name</th>\n",
       "      <th>Sex</th>\n",
       "      <th>Age</th>\n",
       "      <th>SibSp</th>\n",
       "      <th>Parch</th>\n",
       "      <th>Ticket</th>\n",
       "      <th>Fare</th>\n",
       "      <th>Cabin</th>\n",
       "      <th>Embarked</th>\n",
       "    </tr>\n",
       "  </thead>\n",
       "  <tbody>\n",
       "    <tr>\n",
       "      <th>0</th>\n",
       "      <td>1</td>\n",
       "      <td>0</td>\n",
       "      <td>3</td>\n",
       "      <td>Braund, Mr. Owen Harris</td>\n",
       "      <td>male</td>\n",
       "      <td>22.0</td>\n",
       "      <td>1</td>\n",
       "      <td>0</td>\n",
       "      <td>A/5 21171</td>\n",
       "      <td>7.2500</td>\n",
       "      <td>NaN</td>\n",
       "      <td>S</td>\n",
       "    </tr>\n",
       "    <tr>\n",
       "      <th>1</th>\n",
       "      <td>2</td>\n",
       "      <td>1</td>\n",
       "      <td>1</td>\n",
       "      <td>Cumings, Mrs. John Bradley (Florence Briggs Th...</td>\n",
       "      <td>female</td>\n",
       "      <td>38.0</td>\n",
       "      <td>1</td>\n",
       "      <td>0</td>\n",
       "      <td>PC 17599</td>\n",
       "      <td>71.2833</td>\n",
       "      <td>C85</td>\n",
       "      <td>C</td>\n",
       "    </tr>\n",
       "    <tr>\n",
       "      <th>2</th>\n",
       "      <td>3</td>\n",
       "      <td>1</td>\n",
       "      <td>3</td>\n",
       "      <td>Heikkinen, Miss. Laina</td>\n",
       "      <td>female</td>\n",
       "      <td>26.0</td>\n",
       "      <td>0</td>\n",
       "      <td>0</td>\n",
       "      <td>STON/O2. 3101282</td>\n",
       "      <td>7.9250</td>\n",
       "      <td>NaN</td>\n",
       "      <td>S</td>\n",
       "    </tr>\n",
       "  </tbody>\n",
       "</table>\n",
       "</div>"
      ],
      "text/plain": [
       "   PassengerId  Survived  Pclass  \\\n",
       "0            1         0       3   \n",
       "1            2         1       1   \n",
       "2            3         1       3   \n",
       "\n",
       "                                                Name     Sex   Age  SibSp  \\\n",
       "0                            Braund, Mr. Owen Harris    male  22.0      1   \n",
       "1  Cumings, Mrs. John Bradley (Florence Briggs Th...  female  38.0      1   \n",
       "2                             Heikkinen, Miss. Laina  female  26.0      0   \n",
       "\n",
       "   Parch            Ticket     Fare Cabin Embarked  \n",
       "0      0         A/5 21171   7.2500   NaN        S  \n",
       "1      0          PC 17599  71.2833   C85        C  \n",
       "2      0  STON/O2. 3101282   7.9250   NaN        S  "
      ]
     },
     "execution_count": 2,
     "metadata": {},
     "output_type": "execute_result"
    }
   ],
   "source": [
    "# read csv data\n",
    "df = pd.read_csv('./titanic-data.csv')\n",
    "\n",
    "# print head entries\n",
    "df.head(3)"
   ]
  },
  {
   "cell_type": "code",
   "execution_count": 3,
   "metadata": {
    "collapsed": false,
    "deletable": true,
    "editable": true
   },
   "outputs": [
    {
     "name": "stdout",
     "output_type": "stream",
     "text": [
      "<class 'pandas.core.frame.DataFrame'>\n",
      "RangeIndex: 891 entries, 0 to 890\n",
      "Data columns (total 12 columns):\n",
      "PassengerId    891 non-null int64\n",
      "Survived       891 non-null int64\n",
      "Pclass         891 non-null int64\n",
      "Name           891 non-null object\n",
      "Sex            891 non-null object\n",
      "Age            714 non-null float64\n",
      "SibSp          891 non-null int64\n",
      "Parch          891 non-null int64\n",
      "Ticket         891 non-null object\n",
      "Fare           891 non-null float64\n",
      "Cabin          204 non-null object\n",
      "Embarked       889 non-null object\n",
      "dtypes: float64(2), int64(5), object(5)\n",
      "memory usage: 66.2+ KB\n"
     ]
    }
   ],
   "source": [
    "# display column types and detect possible null values\n",
    "df.info()"
   ]
  },
  {
   "cell_type": "code",
   "execution_count": 4,
   "metadata": {
    "collapsed": false,
    "deletable": true,
    "editable": true
   },
   "outputs": [
    {
     "name": "stdout",
     "output_type": "stream",
     "text": [
      "Unique values in 'Survived': [0 1]\n",
      "Unique values in 'Pclass': [1 2 3]\n",
      "Unique values in 'Sex': ['female' 'male']\n",
      "Unique values in 'SibSp': [0 1 2 3 4 5 8]\n",
      "Unique values in 'Parch': [0 1 2 3 4 5 6]\n"
     ]
    }
   ],
   "source": [
    "col_check_values = [\n",
    "    'Survived', \n",
    "    'Pclass', \n",
    "    'Sex',\n",
    "    'SibSp', \n",
    "    'Parch'\n",
    "]\n",
    "\n",
    "# print unique values in selected columns\n",
    "for col_name in df:\n",
    "    if col_name in col_check_values:\n",
    "        unique_values = df[col_name].unique()\n",
    "        unique_values.sort()\n",
    "        print(\"Unique values in '{0}': {1}\".format(\n",
    "            col_name,\n",
    "            unique_values\n",
    "        ))"
   ]
  },
  {
   "cell_type": "markdown",
   "metadata": {
    "deletable": true,
    "editable": true
   },
   "source": [
    "**Variable Descriptions** ([source](https://www.kaggle.com/c/titanic/data))\n",
    "\n",
    "| Variable | Definition | Notes | dtype | Has NaN? |\n",
    "|----------|------------|-------|-------|----------|\n",
    "| PassengerId | Passenger id | | int64 | no |\n",
    "| Survived | Survival status:<br/>- 0 = No<br/>- 1 = Yes) | | int64 | no |\n",
    "| Pclass | Ticket class:<br/>- 1 = 1st<br/>- 2 = 2nd<br/>- 3 = 3rd | A proxy for socio-economic status (SES): <br/>- 1st = Upper<br/>- 2nd = Middle<br/>- 3rd = Lower | int64 | no |\n",
    "| Name | Name | | object | no |\n",
    "| Sex |\tSex<br/>- female<br/>- male | | object | no |\n",
    "| Age |\tAge in years | Age is fractional if less than 1. If the age is estimated, is it in the form of xx.5| float64 | yes |\n",
    "| Sibsp | # of siblings / spouses aboard<br/>- Data range: 0 to 8 | The dataset defines family relations in this way... <br/>- Sibling = brother, sister, stepbrother, stepsister<br/>- Spouse = husband, wife (mistresses and fiancés were ignored) | int64 | no |\n",
    "| Parch |\t# of parents / children aboard<br/>- Data range: 0 to 6 | The dataset defines family relations in this way...<br/>- Parent = mother, father<br/>- Child = daughter, son, stepdaughter, stepson<br/>- Some children travelled only with a nanny, therefore parch=0 for them.| int64 | no |\n",
    "| Ticket |\tTicket number | | object | no |\n",
    "| Fare |\tPassenger fare | | float64 | no |\n",
    "| Cabin |\tCabin number | | object | yes |\n",
    "| Embarked | Port of Embarkation<br/>- C = Cherbourg<br/>- Q = Queenstown<br/>- S = Southampton) | | object | yes |"
   ]
  },
  {
   "cell_type": "code",
   "execution_count": 5,
   "metadata": {
    "collapsed": false,
    "deletable": true,
    "editable": true
   },
   "outputs": [
    {
     "data": {
      "text/html": [
       "<div>\n",
       "<table border=\"1\" class=\"dataframe\">\n",
       "  <thead>\n",
       "    <tr style=\"text-align: right;\">\n",
       "      <th></th>\n",
       "      <th>Survived</th>\n",
       "      <th>Pclass</th>\n",
       "      <th>SibSp</th>\n",
       "      <th>Parch</th>\n",
       "      <th>Fare</th>\n",
       "    </tr>\n",
       "  </thead>\n",
       "  <tbody>\n",
       "    <tr>\n",
       "      <th>count</th>\n",
       "      <td>342.0</td>\n",
       "      <td>342.000000</td>\n",
       "      <td>342.000000</td>\n",
       "      <td>342.000000</td>\n",
       "      <td>342.000000</td>\n",
       "    </tr>\n",
       "    <tr>\n",
       "      <th>mean</th>\n",
       "      <td>1.0</td>\n",
       "      <td>1.950292</td>\n",
       "      <td>0.473684</td>\n",
       "      <td>0.464912</td>\n",
       "      <td>48.395408</td>\n",
       "    </tr>\n",
       "    <tr>\n",
       "      <th>std</th>\n",
       "      <td>0.0</td>\n",
       "      <td>0.863321</td>\n",
       "      <td>0.708688</td>\n",
       "      <td>0.771712</td>\n",
       "      <td>66.596998</td>\n",
       "    </tr>\n",
       "    <tr>\n",
       "      <th>min</th>\n",
       "      <td>1.0</td>\n",
       "      <td>1.000000</td>\n",
       "      <td>0.000000</td>\n",
       "      <td>0.000000</td>\n",
       "      <td>0.000000</td>\n",
       "    </tr>\n",
       "    <tr>\n",
       "      <th>25%</th>\n",
       "      <td>1.0</td>\n",
       "      <td>1.000000</td>\n",
       "      <td>0.000000</td>\n",
       "      <td>0.000000</td>\n",
       "      <td>12.475000</td>\n",
       "    </tr>\n",
       "    <tr>\n",
       "      <th>50%</th>\n",
       "      <td>1.0</td>\n",
       "      <td>2.000000</td>\n",
       "      <td>0.000000</td>\n",
       "      <td>0.000000</td>\n",
       "      <td>26.000000</td>\n",
       "    </tr>\n",
       "    <tr>\n",
       "      <th>75%</th>\n",
       "      <td>1.0</td>\n",
       "      <td>3.000000</td>\n",
       "      <td>1.000000</td>\n",
       "      <td>1.000000</td>\n",
       "      <td>57.000000</td>\n",
       "    </tr>\n",
       "    <tr>\n",
       "      <th>max</th>\n",
       "      <td>1.0</td>\n",
       "      <td>3.000000</td>\n",
       "      <td>4.000000</td>\n",
       "      <td>5.000000</td>\n",
       "      <td>512.329200</td>\n",
       "    </tr>\n",
       "  </tbody>\n",
       "</table>\n",
       "</div>"
      ],
      "text/plain": [
       "       Survived      Pclass       SibSp       Parch        Fare\n",
       "count     342.0  342.000000  342.000000  342.000000  342.000000\n",
       "mean        1.0    1.950292    0.473684    0.464912   48.395408\n",
       "std         0.0    0.863321    0.708688    0.771712   66.596998\n",
       "min         1.0    1.000000    0.000000    0.000000    0.000000\n",
       "25%         1.0    1.000000    0.000000    0.000000   12.475000\n",
       "50%         1.0    2.000000    0.000000    0.000000   26.000000\n",
       "75%         1.0    3.000000    1.000000    1.000000   57.000000\n",
       "max         1.0    3.000000    4.000000    5.000000  512.329200"
      ]
     },
     "execution_count": 5,
     "metadata": {},
     "output_type": "execute_result"
    }
   ],
   "source": [
    "col_check_stats = [\n",
    "    'Survived', \n",
    "    'Pclass', \n",
    "    'Sex',\n",
    "    'SibSp', \n",
    "    'Parch',\n",
    "    'Fare'\n",
    "]\n",
    "\n",
    "# descriptive statistics on survived passengers\n",
    "df[df['Survived'] == 1][col_check_stats].describe()"
   ]
  },
  {
   "cell_type": "code",
   "execution_count": 6,
   "metadata": {
    "collapsed": false,
    "deletable": true,
    "editable": true
   },
   "outputs": [
    {
     "data": {
      "text/html": [
       "<div>\n",
       "<table border=\"1\" class=\"dataframe\">\n",
       "  <thead>\n",
       "    <tr style=\"text-align: right;\">\n",
       "      <th></th>\n",
       "      <th>Survived</th>\n",
       "      <th>Pclass</th>\n",
       "      <th>SibSp</th>\n",
       "      <th>Parch</th>\n",
       "      <th>Fare</th>\n",
       "    </tr>\n",
       "  </thead>\n",
       "  <tbody>\n",
       "    <tr>\n",
       "      <th>count</th>\n",
       "      <td>549.0</td>\n",
       "      <td>549.000000</td>\n",
       "      <td>549.000000</td>\n",
       "      <td>549.000000</td>\n",
       "      <td>549.000000</td>\n",
       "    </tr>\n",
       "    <tr>\n",
       "      <th>mean</th>\n",
       "      <td>0.0</td>\n",
       "      <td>2.531876</td>\n",
       "      <td>0.553734</td>\n",
       "      <td>0.329690</td>\n",
       "      <td>22.117887</td>\n",
       "    </tr>\n",
       "    <tr>\n",
       "      <th>std</th>\n",
       "      <td>0.0</td>\n",
       "      <td>0.735805</td>\n",
       "      <td>1.288399</td>\n",
       "      <td>0.823166</td>\n",
       "      <td>31.388207</td>\n",
       "    </tr>\n",
       "    <tr>\n",
       "      <th>min</th>\n",
       "      <td>0.0</td>\n",
       "      <td>1.000000</td>\n",
       "      <td>0.000000</td>\n",
       "      <td>0.000000</td>\n",
       "      <td>0.000000</td>\n",
       "    </tr>\n",
       "    <tr>\n",
       "      <th>25%</th>\n",
       "      <td>0.0</td>\n",
       "      <td>2.000000</td>\n",
       "      <td>0.000000</td>\n",
       "      <td>0.000000</td>\n",
       "      <td>7.854200</td>\n",
       "    </tr>\n",
       "    <tr>\n",
       "      <th>50%</th>\n",
       "      <td>0.0</td>\n",
       "      <td>3.000000</td>\n",
       "      <td>0.000000</td>\n",
       "      <td>0.000000</td>\n",
       "      <td>10.500000</td>\n",
       "    </tr>\n",
       "    <tr>\n",
       "      <th>75%</th>\n",
       "      <td>0.0</td>\n",
       "      <td>3.000000</td>\n",
       "      <td>1.000000</td>\n",
       "      <td>0.000000</td>\n",
       "      <td>26.000000</td>\n",
       "    </tr>\n",
       "    <tr>\n",
       "      <th>max</th>\n",
       "      <td>0.0</td>\n",
       "      <td>3.000000</td>\n",
       "      <td>8.000000</td>\n",
       "      <td>6.000000</td>\n",
       "      <td>263.000000</td>\n",
       "    </tr>\n",
       "  </tbody>\n",
       "</table>\n",
       "</div>"
      ],
      "text/plain": [
       "       Survived      Pclass       SibSp       Parch        Fare\n",
       "count     549.0  549.000000  549.000000  549.000000  549.000000\n",
       "mean        0.0    2.531876    0.553734    0.329690   22.117887\n",
       "std         0.0    0.735805    1.288399    0.823166   31.388207\n",
       "min         0.0    1.000000    0.000000    0.000000    0.000000\n",
       "25%         0.0    2.000000    0.000000    0.000000    7.854200\n",
       "50%         0.0    3.000000    0.000000    0.000000   10.500000\n",
       "75%         0.0    3.000000    1.000000    0.000000   26.000000\n",
       "max         0.0    3.000000    8.000000    6.000000  263.000000"
      ]
     },
     "execution_count": 6,
     "metadata": {},
     "output_type": "execute_result"
    }
   ],
   "source": [
    "# descriptive statistics on passengers not survived\n",
    "df[df['Survived'] == 0][col_check_stats].describe()"
   ]
  },
  {
   "cell_type": "code",
   "execution_count": 7,
   "metadata": {
    "collapsed": false,
    "deletable": true,
    "editable": true
   },
   "outputs": [
    {
     "data": {
      "text/html": [
       "<div>\n",
       "<table border=\"1\" class=\"dataframe\">\n",
       "  <thead>\n",
       "    <tr style=\"text-align: right;\">\n",
       "      <th></th>\n",
       "      <th></th>\n",
       "      <th>Survived</th>\n",
       "      <th>Age</th>\n",
       "      <th>SibSp</th>\n",
       "      <th>Parch</th>\n",
       "      <th>Fare</th>\n",
       "    </tr>\n",
       "    <tr>\n",
       "      <th>Pclass</th>\n",
       "      <th></th>\n",
       "      <th></th>\n",
       "      <th></th>\n",
       "      <th></th>\n",
       "      <th></th>\n",
       "      <th></th>\n",
       "    </tr>\n",
       "  </thead>\n",
       "  <tbody>\n",
       "    <tr>\n",
       "      <th rowspan=\"8\" valign=\"top\">1</th>\n",
       "      <th>count</th>\n",
       "      <td>216.000000</td>\n",
       "      <td>186.000000</td>\n",
       "      <td>216.000000</td>\n",
       "      <td>216.000000</td>\n",
       "      <td>216.000000</td>\n",
       "    </tr>\n",
       "    <tr>\n",
       "      <th>mean</th>\n",
       "      <td>0.629630</td>\n",
       "      <td>38.233441</td>\n",
       "      <td>0.416667</td>\n",
       "      <td>0.356481</td>\n",
       "      <td>84.154687</td>\n",
       "    </tr>\n",
       "    <tr>\n",
       "      <th>std</th>\n",
       "      <td>0.484026</td>\n",
       "      <td>14.802856</td>\n",
       "      <td>0.611898</td>\n",
       "      <td>0.693997</td>\n",
       "      <td>78.380373</td>\n",
       "    </tr>\n",
       "    <tr>\n",
       "      <th>min</th>\n",
       "      <td>0.000000</td>\n",
       "      <td>0.920000</td>\n",
       "      <td>0.000000</td>\n",
       "      <td>0.000000</td>\n",
       "      <td>0.000000</td>\n",
       "    </tr>\n",
       "    <tr>\n",
       "      <th>25%</th>\n",
       "      <td>0.000000</td>\n",
       "      <td>27.000000</td>\n",
       "      <td>0.000000</td>\n",
       "      <td>0.000000</td>\n",
       "      <td>30.923950</td>\n",
       "    </tr>\n",
       "    <tr>\n",
       "      <th>50%</th>\n",
       "      <td>1.000000</td>\n",
       "      <td>37.000000</td>\n",
       "      <td>0.000000</td>\n",
       "      <td>0.000000</td>\n",
       "      <td>60.287500</td>\n",
       "    </tr>\n",
       "    <tr>\n",
       "      <th>75%</th>\n",
       "      <td>1.000000</td>\n",
       "      <td>49.000000</td>\n",
       "      <td>1.000000</td>\n",
       "      <td>0.000000</td>\n",
       "      <td>93.500000</td>\n",
       "    </tr>\n",
       "    <tr>\n",
       "      <th>max</th>\n",
       "      <td>1.000000</td>\n",
       "      <td>80.000000</td>\n",
       "      <td>3.000000</td>\n",
       "      <td>4.000000</td>\n",
       "      <td>512.329200</td>\n",
       "    </tr>\n",
       "    <tr>\n",
       "      <th rowspan=\"8\" valign=\"top\">2</th>\n",
       "      <th>count</th>\n",
       "      <td>184.000000</td>\n",
       "      <td>173.000000</td>\n",
       "      <td>184.000000</td>\n",
       "      <td>184.000000</td>\n",
       "      <td>184.000000</td>\n",
       "    </tr>\n",
       "    <tr>\n",
       "      <th>mean</th>\n",
       "      <td>0.472826</td>\n",
       "      <td>29.877630</td>\n",
       "      <td>0.402174</td>\n",
       "      <td>0.380435</td>\n",
       "      <td>20.662183</td>\n",
       "    </tr>\n",
       "    <tr>\n",
       "      <th>std</th>\n",
       "      <td>0.500623</td>\n",
       "      <td>14.001077</td>\n",
       "      <td>0.601633</td>\n",
       "      <td>0.690963</td>\n",
       "      <td>13.417399</td>\n",
       "    </tr>\n",
       "    <tr>\n",
       "      <th>min</th>\n",
       "      <td>0.000000</td>\n",
       "      <td>0.670000</td>\n",
       "      <td>0.000000</td>\n",
       "      <td>0.000000</td>\n",
       "      <td>0.000000</td>\n",
       "    </tr>\n",
       "    <tr>\n",
       "      <th>25%</th>\n",
       "      <td>0.000000</td>\n",
       "      <td>23.000000</td>\n",
       "      <td>0.000000</td>\n",
       "      <td>0.000000</td>\n",
       "      <td>13.000000</td>\n",
       "    </tr>\n",
       "    <tr>\n",
       "      <th>50%</th>\n",
       "      <td>0.000000</td>\n",
       "      <td>29.000000</td>\n",
       "      <td>0.000000</td>\n",
       "      <td>0.000000</td>\n",
       "      <td>14.250000</td>\n",
       "    </tr>\n",
       "    <tr>\n",
       "      <th>75%</th>\n",
       "      <td>1.000000</td>\n",
       "      <td>36.000000</td>\n",
       "      <td>1.000000</td>\n",
       "      <td>1.000000</td>\n",
       "      <td>26.000000</td>\n",
       "    </tr>\n",
       "    <tr>\n",
       "      <th>max</th>\n",
       "      <td>1.000000</td>\n",
       "      <td>70.000000</td>\n",
       "      <td>3.000000</td>\n",
       "      <td>3.000000</td>\n",
       "      <td>73.500000</td>\n",
       "    </tr>\n",
       "    <tr>\n",
       "      <th rowspan=\"8\" valign=\"top\">3</th>\n",
       "      <th>count</th>\n",
       "      <td>491.000000</td>\n",
       "      <td>355.000000</td>\n",
       "      <td>491.000000</td>\n",
       "      <td>491.000000</td>\n",
       "      <td>491.000000</td>\n",
       "    </tr>\n",
       "    <tr>\n",
       "      <th>mean</th>\n",
       "      <td>0.242363</td>\n",
       "      <td>25.140620</td>\n",
       "      <td>0.615071</td>\n",
       "      <td>0.393075</td>\n",
       "      <td>13.675550</td>\n",
       "    </tr>\n",
       "    <tr>\n",
       "      <th>std</th>\n",
       "      <td>0.428949</td>\n",
       "      <td>12.495398</td>\n",
       "      <td>1.374883</td>\n",
       "      <td>0.888861</td>\n",
       "      <td>11.778142</td>\n",
       "    </tr>\n",
       "    <tr>\n",
       "      <th>min</th>\n",
       "      <td>0.000000</td>\n",
       "      <td>0.420000</td>\n",
       "      <td>0.000000</td>\n",
       "      <td>0.000000</td>\n",
       "      <td>0.000000</td>\n",
       "    </tr>\n",
       "    <tr>\n",
       "      <th>25%</th>\n",
       "      <td>0.000000</td>\n",
       "      <td>18.000000</td>\n",
       "      <td>0.000000</td>\n",
       "      <td>0.000000</td>\n",
       "      <td>7.750000</td>\n",
       "    </tr>\n",
       "    <tr>\n",
       "      <th>50%</th>\n",
       "      <td>0.000000</td>\n",
       "      <td>24.000000</td>\n",
       "      <td>0.000000</td>\n",
       "      <td>0.000000</td>\n",
       "      <td>8.050000</td>\n",
       "    </tr>\n",
       "    <tr>\n",
       "      <th>75%</th>\n",
       "      <td>0.000000</td>\n",
       "      <td>32.000000</td>\n",
       "      <td>1.000000</td>\n",
       "      <td>0.000000</td>\n",
       "      <td>15.500000</td>\n",
       "    </tr>\n",
       "    <tr>\n",
       "      <th>max</th>\n",
       "      <td>1.000000</td>\n",
       "      <td>74.000000</td>\n",
       "      <td>8.000000</td>\n",
       "      <td>6.000000</td>\n",
       "      <td>69.550000</td>\n",
       "    </tr>\n",
       "  </tbody>\n",
       "</table>\n",
       "</div>"
      ],
      "text/plain": [
       "                Survived         Age       SibSp       Parch        Fare\n",
       "Pclass                                                                  \n",
       "1      count  216.000000  186.000000  216.000000  216.000000  216.000000\n",
       "       mean     0.629630   38.233441    0.416667    0.356481   84.154687\n",
       "       std      0.484026   14.802856    0.611898    0.693997   78.380373\n",
       "       min      0.000000    0.920000    0.000000    0.000000    0.000000\n",
       "       25%      0.000000   27.000000    0.000000    0.000000   30.923950\n",
       "       50%      1.000000   37.000000    0.000000    0.000000   60.287500\n",
       "       75%      1.000000   49.000000    1.000000    0.000000   93.500000\n",
       "       max      1.000000   80.000000    3.000000    4.000000  512.329200\n",
       "2      count  184.000000  173.000000  184.000000  184.000000  184.000000\n",
       "       mean     0.472826   29.877630    0.402174    0.380435   20.662183\n",
       "       std      0.500623   14.001077    0.601633    0.690963   13.417399\n",
       "       min      0.000000    0.670000    0.000000    0.000000    0.000000\n",
       "       25%      0.000000   23.000000    0.000000    0.000000   13.000000\n",
       "       50%      0.000000   29.000000    0.000000    0.000000   14.250000\n",
       "       75%      1.000000   36.000000    1.000000    1.000000   26.000000\n",
       "       max      1.000000   70.000000    3.000000    3.000000   73.500000\n",
       "3      count  491.000000  355.000000  491.000000  491.000000  491.000000\n",
       "       mean     0.242363   25.140620    0.615071    0.393075   13.675550\n",
       "       std      0.428949   12.495398    1.374883    0.888861   11.778142\n",
       "       min      0.000000    0.420000    0.000000    0.000000    0.000000\n",
       "       25%      0.000000   18.000000    0.000000    0.000000    7.750000\n",
       "       50%      0.000000   24.000000    0.000000    0.000000    8.050000\n",
       "       75%      0.000000   32.000000    1.000000    0.000000   15.500000\n",
       "       max      1.000000   74.000000    8.000000    6.000000   69.550000"
      ]
     },
     "execution_count": 7,
     "metadata": {},
     "output_type": "execute_result"
    }
   ],
   "source": [
    "col_check_stats_by_pclass = [\n",
    "    'Survived',\n",
    "    'Age', \n",
    "    'SibSp', \n",
    "    'Parch', \n",
    "    'Fare'\n",
    "]\n",
    "\n",
    "# statistics by social class\n",
    "df.groupby(['Pclass'])[col_check_stats_by_pclass].describe()"
   ]
  },
  {
   "cell_type": "code",
   "execution_count": 8,
   "metadata": {
    "collapsed": false,
    "deletable": true,
    "editable": true
   },
   "outputs": [
    {
     "data": {
      "text/plain": [
       "PassengerId                 259\n",
       "Survived                      1\n",
       "Pclass                        1\n",
       "Name           Ward, Miss. Anna\n",
       "Sex                      female\n",
       "Age                          35\n",
       "SibSp                         0\n",
       "Parch                         0\n",
       "Ticket                 PC 17755\n",
       "Fare                    512.329\n",
       "Cabin                       NaN\n",
       "Embarked                      C\n",
       "Name: 258, dtype: object"
      ]
     },
     "execution_count": 8,
     "metadata": {},
     "output_type": "execute_result"
    }
   ],
   "source": [
    "# passenger with the highest fare\n",
    "df.loc[df['Fare'].idxmax()]"
   ]
  },
  {
   "cell_type": "code",
   "execution_count": 9,
   "metadata": {
    "collapsed": false,
    "deletable": true,
    "editable": true
   },
   "outputs": [
    {
     "data": {
      "text/plain": [
       "PassengerId                                     631\n",
       "Survived                                          1\n",
       "Pclass                                            1\n",
       "Name           Barkworth, Mr. Algernon Henry Wilson\n",
       "Sex                                            male\n",
       "Age                                              80\n",
       "SibSp                                             0\n",
       "Parch                                             0\n",
       "Ticket                                        27042\n",
       "Fare                                             30\n",
       "Cabin                                           A23\n",
       "Embarked                                          S\n",
       "Name: 630, dtype: object"
      ]
     },
     "execution_count": 9,
     "metadata": {},
     "output_type": "execute_result"
    }
   ],
   "source": [
    "# passenger with the highest age\n",
    "df.loc[df['Age'].idxmax()]"
   ]
  },
  {
   "cell_type": "code",
   "execution_count": 10,
   "metadata": {
    "collapsed": false,
    "deletable": true,
    "editable": true
   },
   "outputs": [
    {
     "data": {
      "text/html": [
       "<div>\n",
       "<table border=\"1\" class=\"dataframe\">\n",
       "  <thead>\n",
       "    <tr style=\"text-align: right;\">\n",
       "      <th></th>\n",
       "      <th>PassengerId</th>\n",
       "      <th>Survived</th>\n",
       "      <th>Pclass</th>\n",
       "      <th>Name</th>\n",
       "      <th>Sex</th>\n",
       "      <th>Age</th>\n",
       "      <th>SibSp</th>\n",
       "      <th>Parch</th>\n",
       "      <th>Ticket</th>\n",
       "      <th>Fare</th>\n",
       "      <th>Cabin</th>\n",
       "      <th>Embarked</th>\n",
       "    </tr>\n",
       "  </thead>\n",
       "  <tbody>\n",
       "    <tr>\n",
       "      <th>78</th>\n",
       "      <td>79</td>\n",
       "      <td>1</td>\n",
       "      <td>2</td>\n",
       "      <td>Caldwell, Master. Alden Gates</td>\n",
       "      <td>male</td>\n",
       "      <td>0.83</td>\n",
       "      <td>0</td>\n",
       "      <td>2</td>\n",
       "      <td>248738</td>\n",
       "      <td>29.0000</td>\n",
       "      <td>NaN</td>\n",
       "      <td>S</td>\n",
       "    </tr>\n",
       "    <tr>\n",
       "      <th>305</th>\n",
       "      <td>306</td>\n",
       "      <td>1</td>\n",
       "      <td>1</td>\n",
       "      <td>Allison, Master. Hudson Trevor</td>\n",
       "      <td>male</td>\n",
       "      <td>0.92</td>\n",
       "      <td>1</td>\n",
       "      <td>2</td>\n",
       "      <td>113781</td>\n",
       "      <td>151.5500</td>\n",
       "      <td>C22 C26</td>\n",
       "      <td>S</td>\n",
       "    </tr>\n",
       "    <tr>\n",
       "      <th>469</th>\n",
       "      <td>470</td>\n",
       "      <td>1</td>\n",
       "      <td>3</td>\n",
       "      <td>Baclini, Miss. Helene Barbara</td>\n",
       "      <td>female</td>\n",
       "      <td>0.75</td>\n",
       "      <td>2</td>\n",
       "      <td>1</td>\n",
       "      <td>2666</td>\n",
       "      <td>19.2583</td>\n",
       "      <td>NaN</td>\n",
       "      <td>C</td>\n",
       "    </tr>\n",
       "    <tr>\n",
       "      <th>644</th>\n",
       "      <td>645</td>\n",
       "      <td>1</td>\n",
       "      <td>3</td>\n",
       "      <td>Baclini, Miss. Eugenie</td>\n",
       "      <td>female</td>\n",
       "      <td>0.75</td>\n",
       "      <td>2</td>\n",
       "      <td>1</td>\n",
       "      <td>2666</td>\n",
       "      <td>19.2583</td>\n",
       "      <td>NaN</td>\n",
       "      <td>C</td>\n",
       "    </tr>\n",
       "    <tr>\n",
       "      <th>755</th>\n",
       "      <td>756</td>\n",
       "      <td>1</td>\n",
       "      <td>2</td>\n",
       "      <td>Hamalainen, Master. Viljo</td>\n",
       "      <td>male</td>\n",
       "      <td>0.67</td>\n",
       "      <td>1</td>\n",
       "      <td>1</td>\n",
       "      <td>250649</td>\n",
       "      <td>14.5000</td>\n",
       "      <td>NaN</td>\n",
       "      <td>S</td>\n",
       "    </tr>\n",
       "    <tr>\n",
       "      <th>803</th>\n",
       "      <td>804</td>\n",
       "      <td>1</td>\n",
       "      <td>3</td>\n",
       "      <td>Thomas, Master. Assad Alexander</td>\n",
       "      <td>male</td>\n",
       "      <td>0.42</td>\n",
       "      <td>0</td>\n",
       "      <td>1</td>\n",
       "      <td>2625</td>\n",
       "      <td>8.5167</td>\n",
       "      <td>NaN</td>\n",
       "      <td>C</td>\n",
       "    </tr>\n",
       "    <tr>\n",
       "      <th>831</th>\n",
       "      <td>832</td>\n",
       "      <td>1</td>\n",
       "      <td>2</td>\n",
       "      <td>Richards, Master. George Sibley</td>\n",
       "      <td>male</td>\n",
       "      <td>0.83</td>\n",
       "      <td>1</td>\n",
       "      <td>1</td>\n",
       "      <td>29106</td>\n",
       "      <td>18.7500</td>\n",
       "      <td>NaN</td>\n",
       "      <td>S</td>\n",
       "    </tr>\n",
       "  </tbody>\n",
       "</table>\n",
       "</div>"
      ],
      "text/plain": [
       "     PassengerId  Survived  Pclass                             Name     Sex  \\\n",
       "78            79         1       2    Caldwell, Master. Alden Gates    male   \n",
       "305          306         1       1   Allison, Master. Hudson Trevor    male   \n",
       "469          470         1       3    Baclini, Miss. Helene Barbara  female   \n",
       "644          645         1       3           Baclini, Miss. Eugenie  female   \n",
       "755          756         1       2        Hamalainen, Master. Viljo    male   \n",
       "803          804         1       3  Thomas, Master. Assad Alexander    male   \n",
       "831          832         1       2  Richards, Master. George Sibley    male   \n",
       "\n",
       "      Age  SibSp  Parch  Ticket      Fare    Cabin Embarked  \n",
       "78   0.83      0      2  248738   29.0000      NaN        S  \n",
       "305  0.92      1      2  113781  151.5500  C22 C26        S  \n",
       "469  0.75      2      1    2666   19.2583      NaN        C  \n",
       "644  0.75      2      1    2666   19.2583      NaN        C  \n",
       "755  0.67      1      1  250649   14.5000      NaN        S  \n",
       "803  0.42      0      1    2625    8.5167      NaN        C  \n",
       "831  0.83      1      1   29106   18.7500      NaN        S  "
      ]
     },
     "execution_count": 10,
     "metadata": {},
     "output_type": "execute_result"
    }
   ],
   "source": [
    "# all new born babies survived\n",
    "df[df['Age'] < 1.0]"
   ]
  },
  {
   "cell_type": "code",
   "execution_count": 11,
   "metadata": {
    "collapsed": false,
    "deletable": true,
    "editable": true
   },
   "outputs": [
    {
     "data": {
      "text/html": [
       "<div>\n",
       "<table border=\"1\" class=\"dataframe\">\n",
       "  <thead>\n",
       "    <tr style=\"text-align: right;\">\n",
       "      <th></th>\n",
       "      <th>PassengerId</th>\n",
       "      <th>Survived</th>\n",
       "      <th>Pclass</th>\n",
       "      <th>Name</th>\n",
       "      <th>Sex</th>\n",
       "      <th>Age</th>\n",
       "      <th>SibSp</th>\n",
       "      <th>Parch</th>\n",
       "      <th>Ticket</th>\n",
       "      <th>Fare</th>\n",
       "      <th>Cabin</th>\n",
       "      <th>Embarked</th>\n",
       "    </tr>\n",
       "  </thead>\n",
       "  <tbody>\n",
       "    <tr>\n",
       "      <th>33</th>\n",
       "      <td>34</td>\n",
       "      <td>0</td>\n",
       "      <td>2</td>\n",
       "      <td>Wheadon, Mr. Edward H</td>\n",
       "      <td>male</td>\n",
       "      <td>66.0</td>\n",
       "      <td>0</td>\n",
       "      <td>0</td>\n",
       "      <td>C.A. 24579</td>\n",
       "      <td>10.5000</td>\n",
       "      <td>NaN</td>\n",
       "      <td>S</td>\n",
       "    </tr>\n",
       "    <tr>\n",
       "      <th>54</th>\n",
       "      <td>55</td>\n",
       "      <td>0</td>\n",
       "      <td>1</td>\n",
       "      <td>Ostby, Mr. Engelhart Cornelius</td>\n",
       "      <td>male</td>\n",
       "      <td>65.0</td>\n",
       "      <td>0</td>\n",
       "      <td>1</td>\n",
       "      <td>113509</td>\n",
       "      <td>61.9792</td>\n",
       "      <td>B30</td>\n",
       "      <td>C</td>\n",
       "    </tr>\n",
       "    <tr>\n",
       "      <th>96</th>\n",
       "      <td>97</td>\n",
       "      <td>0</td>\n",
       "      <td>1</td>\n",
       "      <td>Goldschmidt, Mr. George B</td>\n",
       "      <td>male</td>\n",
       "      <td>71.0</td>\n",
       "      <td>0</td>\n",
       "      <td>0</td>\n",
       "      <td>PC 17754</td>\n",
       "      <td>34.6542</td>\n",
       "      <td>A5</td>\n",
       "      <td>C</td>\n",
       "    </tr>\n",
       "    <tr>\n",
       "      <th>116</th>\n",
       "      <td>117</td>\n",
       "      <td>0</td>\n",
       "      <td>3</td>\n",
       "      <td>Connors, Mr. Patrick</td>\n",
       "      <td>male</td>\n",
       "      <td>70.5</td>\n",
       "      <td>0</td>\n",
       "      <td>0</td>\n",
       "      <td>370369</td>\n",
       "      <td>7.7500</td>\n",
       "      <td>NaN</td>\n",
       "      <td>Q</td>\n",
       "    </tr>\n",
       "    <tr>\n",
       "      <th>280</th>\n",
       "      <td>281</td>\n",
       "      <td>0</td>\n",
       "      <td>3</td>\n",
       "      <td>Duane, Mr. Frank</td>\n",
       "      <td>male</td>\n",
       "      <td>65.0</td>\n",
       "      <td>0</td>\n",
       "      <td>0</td>\n",
       "      <td>336439</td>\n",
       "      <td>7.7500</td>\n",
       "      <td>NaN</td>\n",
       "      <td>Q</td>\n",
       "    </tr>\n",
       "    <tr>\n",
       "      <th>456</th>\n",
       "      <td>457</td>\n",
       "      <td>0</td>\n",
       "      <td>1</td>\n",
       "      <td>Millet, Mr. Francis Davis</td>\n",
       "      <td>male</td>\n",
       "      <td>65.0</td>\n",
       "      <td>0</td>\n",
       "      <td>0</td>\n",
       "      <td>13509</td>\n",
       "      <td>26.5500</td>\n",
       "      <td>E38</td>\n",
       "      <td>S</td>\n",
       "    </tr>\n",
       "    <tr>\n",
       "      <th>493</th>\n",
       "      <td>494</td>\n",
       "      <td>0</td>\n",
       "      <td>1</td>\n",
       "      <td>Artagaveytia, Mr. Ramon</td>\n",
       "      <td>male</td>\n",
       "      <td>71.0</td>\n",
       "      <td>0</td>\n",
       "      <td>0</td>\n",
       "      <td>PC 17609</td>\n",
       "      <td>49.5042</td>\n",
       "      <td>NaN</td>\n",
       "      <td>C</td>\n",
       "    </tr>\n",
       "    <tr>\n",
       "      <th>630</th>\n",
       "      <td>631</td>\n",
       "      <td>1</td>\n",
       "      <td>1</td>\n",
       "      <td>Barkworth, Mr. Algernon Henry Wilson</td>\n",
       "      <td>male</td>\n",
       "      <td>80.0</td>\n",
       "      <td>0</td>\n",
       "      <td>0</td>\n",
       "      <td>27042</td>\n",
       "      <td>30.0000</td>\n",
       "      <td>A23</td>\n",
       "      <td>S</td>\n",
       "    </tr>\n",
       "    <tr>\n",
       "      <th>672</th>\n",
       "      <td>673</td>\n",
       "      <td>0</td>\n",
       "      <td>2</td>\n",
       "      <td>Mitchell, Mr. Henry Michael</td>\n",
       "      <td>male</td>\n",
       "      <td>70.0</td>\n",
       "      <td>0</td>\n",
       "      <td>0</td>\n",
       "      <td>C.A. 24580</td>\n",
       "      <td>10.5000</td>\n",
       "      <td>NaN</td>\n",
       "      <td>S</td>\n",
       "    </tr>\n",
       "    <tr>\n",
       "      <th>745</th>\n",
       "      <td>746</td>\n",
       "      <td>0</td>\n",
       "      <td>1</td>\n",
       "      <td>Crosby, Capt. Edward Gifford</td>\n",
       "      <td>male</td>\n",
       "      <td>70.0</td>\n",
       "      <td>1</td>\n",
       "      <td>1</td>\n",
       "      <td>WE/P 5735</td>\n",
       "      <td>71.0000</td>\n",
       "      <td>B22</td>\n",
       "      <td>S</td>\n",
       "    </tr>\n",
       "    <tr>\n",
       "      <th>851</th>\n",
       "      <td>852</td>\n",
       "      <td>0</td>\n",
       "      <td>3</td>\n",
       "      <td>Svensson, Mr. Johan</td>\n",
       "      <td>male</td>\n",
       "      <td>74.0</td>\n",
       "      <td>0</td>\n",
       "      <td>0</td>\n",
       "      <td>347060</td>\n",
       "      <td>7.7750</td>\n",
       "      <td>NaN</td>\n",
       "      <td>S</td>\n",
       "    </tr>\n",
       "  </tbody>\n",
       "</table>\n",
       "</div>"
      ],
      "text/plain": [
       "     PassengerId  Survived  Pclass                                  Name  \\\n",
       "33            34         0       2                 Wheadon, Mr. Edward H   \n",
       "54            55         0       1        Ostby, Mr. Engelhart Cornelius   \n",
       "96            97         0       1             Goldschmidt, Mr. George B   \n",
       "116          117         0       3                  Connors, Mr. Patrick   \n",
       "280          281         0       3                      Duane, Mr. Frank   \n",
       "456          457         0       1             Millet, Mr. Francis Davis   \n",
       "493          494         0       1               Artagaveytia, Mr. Ramon   \n",
       "630          631         1       1  Barkworth, Mr. Algernon Henry Wilson   \n",
       "672          673         0       2           Mitchell, Mr. Henry Michael   \n",
       "745          746         0       1          Crosby, Capt. Edward Gifford   \n",
       "851          852         0       3                   Svensson, Mr. Johan   \n",
       "\n",
       "      Sex   Age  SibSp  Parch      Ticket     Fare Cabin Embarked  \n",
       "33   male  66.0      0      0  C.A. 24579  10.5000   NaN        S  \n",
       "54   male  65.0      0      1      113509  61.9792   B30        C  \n",
       "96   male  71.0      0      0    PC 17754  34.6542    A5        C  \n",
       "116  male  70.5      0      0      370369   7.7500   NaN        Q  \n",
       "280  male  65.0      0      0      336439   7.7500   NaN        Q  \n",
       "456  male  65.0      0      0       13509  26.5500   E38        S  \n",
       "493  male  71.0      0      0    PC 17609  49.5042   NaN        C  \n",
       "630  male  80.0      0      0       27042  30.0000   A23        S  \n",
       "672  male  70.0      0      0  C.A. 24580  10.5000   NaN        S  \n",
       "745  male  70.0      1      1   WE/P 5735  71.0000   B22        S  \n",
       "851  male  74.0      0      0      347060   7.7750   NaN        S  "
      ]
     },
     "execution_count": 11,
     "metadata": {},
     "output_type": "execute_result"
    }
   ],
   "source": [
    "# only 1 of the elderly passengers older than 65 years survived\n",
    "df[df['Age'] > 64.0]"
   ]
  },
  {
   "cell_type": "code",
   "execution_count": 12,
   "metadata": {
    "collapsed": false,
    "deletable": true,
    "editable": true
   },
   "outputs": [
    {
     "data": {
      "text/html": [
       "<div>\n",
       "<table border=\"1\" class=\"dataframe\">\n",
       "  <thead>\n",
       "    <tr style=\"text-align: right;\">\n",
       "      <th></th>\n",
       "      <th>PassengerId</th>\n",
       "      <th>Survived</th>\n",
       "      <th>Pclass</th>\n",
       "      <th>Age</th>\n",
       "      <th>SibSp</th>\n",
       "      <th>Parch</th>\n",
       "      <th>Fare</th>\n",
       "    </tr>\n",
       "  </thead>\n",
       "  <tbody>\n",
       "    <tr>\n",
       "      <th>count</th>\n",
       "      <td>314.000000</td>\n",
       "      <td>314.000000</td>\n",
       "      <td>314.000000</td>\n",
       "      <td>261.000000</td>\n",
       "      <td>314.000000</td>\n",
       "      <td>314.000000</td>\n",
       "      <td>314.000000</td>\n",
       "    </tr>\n",
       "    <tr>\n",
       "      <th>mean</th>\n",
       "      <td>431.028662</td>\n",
       "      <td>0.742038</td>\n",
       "      <td>2.159236</td>\n",
       "      <td>27.915709</td>\n",
       "      <td>0.694268</td>\n",
       "      <td>0.649682</td>\n",
       "      <td>44.479818</td>\n",
       "    </tr>\n",
       "    <tr>\n",
       "      <th>std</th>\n",
       "      <td>256.846324</td>\n",
       "      <td>0.438211</td>\n",
       "      <td>0.857290</td>\n",
       "      <td>14.110146</td>\n",
       "      <td>1.156520</td>\n",
       "      <td>1.022846</td>\n",
       "      <td>57.997698</td>\n",
       "    </tr>\n",
       "    <tr>\n",
       "      <th>min</th>\n",
       "      <td>2.000000</td>\n",
       "      <td>0.000000</td>\n",
       "      <td>1.000000</td>\n",
       "      <td>0.750000</td>\n",
       "      <td>0.000000</td>\n",
       "      <td>0.000000</td>\n",
       "      <td>6.750000</td>\n",
       "    </tr>\n",
       "    <tr>\n",
       "      <th>25%</th>\n",
       "      <td>231.750000</td>\n",
       "      <td>0.000000</td>\n",
       "      <td>1.000000</td>\n",
       "      <td>18.000000</td>\n",
       "      <td>0.000000</td>\n",
       "      <td>0.000000</td>\n",
       "      <td>12.071875</td>\n",
       "    </tr>\n",
       "    <tr>\n",
       "      <th>50%</th>\n",
       "      <td>414.500000</td>\n",
       "      <td>1.000000</td>\n",
       "      <td>2.000000</td>\n",
       "      <td>27.000000</td>\n",
       "      <td>0.000000</td>\n",
       "      <td>0.000000</td>\n",
       "      <td>23.000000</td>\n",
       "    </tr>\n",
       "    <tr>\n",
       "      <th>75%</th>\n",
       "      <td>641.250000</td>\n",
       "      <td>1.000000</td>\n",
       "      <td>3.000000</td>\n",
       "      <td>37.000000</td>\n",
       "      <td>1.000000</td>\n",
       "      <td>1.000000</td>\n",
       "      <td>55.000000</td>\n",
       "    </tr>\n",
       "    <tr>\n",
       "      <th>max</th>\n",
       "      <td>889.000000</td>\n",
       "      <td>1.000000</td>\n",
       "      <td>3.000000</td>\n",
       "      <td>63.000000</td>\n",
       "      <td>8.000000</td>\n",
       "      <td>6.000000</td>\n",
       "      <td>512.329200</td>\n",
       "    </tr>\n",
       "  </tbody>\n",
       "</table>\n",
       "</div>"
      ],
      "text/plain": [
       "       PassengerId    Survived      Pclass         Age       SibSp  \\\n",
       "count   314.000000  314.000000  314.000000  261.000000  314.000000   \n",
       "mean    431.028662    0.742038    2.159236   27.915709    0.694268   \n",
       "std     256.846324    0.438211    0.857290   14.110146    1.156520   \n",
       "min       2.000000    0.000000    1.000000    0.750000    0.000000   \n",
       "25%     231.750000    0.000000    1.000000   18.000000    0.000000   \n",
       "50%     414.500000    1.000000    2.000000   27.000000    0.000000   \n",
       "75%     641.250000    1.000000    3.000000   37.000000    1.000000   \n",
       "max     889.000000    1.000000    3.000000   63.000000    8.000000   \n",
       "\n",
       "            Parch        Fare  \n",
       "count  314.000000  314.000000  \n",
       "mean     0.649682   44.479818  \n",
       "std      1.022846   57.997698  \n",
       "min      0.000000    6.750000  \n",
       "25%      0.000000   12.071875  \n",
       "50%      0.000000   23.000000  \n",
       "75%      1.000000   55.000000  \n",
       "max      6.000000  512.329200  "
      ]
     },
     "execution_count": 12,
     "metadata": {},
     "output_type": "execute_result"
    }
   ],
   "source": [
    "# stats on all female passengers\n",
    "df[df['Sex'] == 'female'].describe()"
   ]
  },
  {
   "cell_type": "code",
   "execution_count": 13,
   "metadata": {
    "collapsed": false,
    "deletable": true,
    "editable": true
   },
   "outputs": [
    {
     "data": {
      "text/html": [
       "<div>\n",
       "<table border=\"1\" class=\"dataframe\">\n",
       "  <thead>\n",
       "    <tr style=\"text-align: right;\">\n",
       "      <th></th>\n",
       "      <th>PassengerId</th>\n",
       "      <th>Survived</th>\n",
       "      <th>Pclass</th>\n",
       "      <th>Age</th>\n",
       "      <th>SibSp</th>\n",
       "      <th>Parch</th>\n",
       "      <th>Fare</th>\n",
       "    </tr>\n",
       "  </thead>\n",
       "  <tbody>\n",
       "    <tr>\n",
       "      <th>count</th>\n",
       "      <td>577.000000</td>\n",
       "      <td>577.000000</td>\n",
       "      <td>577.000000</td>\n",
       "      <td>453.000000</td>\n",
       "      <td>577.000000</td>\n",
       "      <td>577.000000</td>\n",
       "      <td>577.000000</td>\n",
       "    </tr>\n",
       "    <tr>\n",
       "      <th>mean</th>\n",
       "      <td>454.147314</td>\n",
       "      <td>0.188908</td>\n",
       "      <td>2.389948</td>\n",
       "      <td>30.726645</td>\n",
       "      <td>0.429809</td>\n",
       "      <td>0.235702</td>\n",
       "      <td>25.523893</td>\n",
       "    </tr>\n",
       "    <tr>\n",
       "      <th>std</th>\n",
       "      <td>257.486139</td>\n",
       "      <td>0.391775</td>\n",
       "      <td>0.813580</td>\n",
       "      <td>14.678201</td>\n",
       "      <td>1.061811</td>\n",
       "      <td>0.612294</td>\n",
       "      <td>43.138263</td>\n",
       "    </tr>\n",
       "    <tr>\n",
       "      <th>min</th>\n",
       "      <td>1.000000</td>\n",
       "      <td>0.000000</td>\n",
       "      <td>1.000000</td>\n",
       "      <td>0.420000</td>\n",
       "      <td>0.000000</td>\n",
       "      <td>0.000000</td>\n",
       "      <td>0.000000</td>\n",
       "    </tr>\n",
       "    <tr>\n",
       "      <th>25%</th>\n",
       "      <td>222.000000</td>\n",
       "      <td>0.000000</td>\n",
       "      <td>2.000000</td>\n",
       "      <td>21.000000</td>\n",
       "      <td>0.000000</td>\n",
       "      <td>0.000000</td>\n",
       "      <td>7.895800</td>\n",
       "    </tr>\n",
       "    <tr>\n",
       "      <th>50%</th>\n",
       "      <td>464.000000</td>\n",
       "      <td>0.000000</td>\n",
       "      <td>3.000000</td>\n",
       "      <td>29.000000</td>\n",
       "      <td>0.000000</td>\n",
       "      <td>0.000000</td>\n",
       "      <td>10.500000</td>\n",
       "    </tr>\n",
       "    <tr>\n",
       "      <th>75%</th>\n",
       "      <td>680.000000</td>\n",
       "      <td>0.000000</td>\n",
       "      <td>3.000000</td>\n",
       "      <td>39.000000</td>\n",
       "      <td>0.000000</td>\n",
       "      <td>0.000000</td>\n",
       "      <td>26.550000</td>\n",
       "    </tr>\n",
       "    <tr>\n",
       "      <th>max</th>\n",
       "      <td>891.000000</td>\n",
       "      <td>1.000000</td>\n",
       "      <td>3.000000</td>\n",
       "      <td>80.000000</td>\n",
       "      <td>8.000000</td>\n",
       "      <td>5.000000</td>\n",
       "      <td>512.329200</td>\n",
       "    </tr>\n",
       "  </tbody>\n",
       "</table>\n",
       "</div>"
      ],
      "text/plain": [
       "       PassengerId    Survived      Pclass         Age       SibSp  \\\n",
       "count   577.000000  577.000000  577.000000  453.000000  577.000000   \n",
       "mean    454.147314    0.188908    2.389948   30.726645    0.429809   \n",
       "std     257.486139    0.391775    0.813580   14.678201    1.061811   \n",
       "min       1.000000    0.000000    1.000000    0.420000    0.000000   \n",
       "25%     222.000000    0.000000    2.000000   21.000000    0.000000   \n",
       "50%     464.000000    0.000000    3.000000   29.000000    0.000000   \n",
       "75%     680.000000    0.000000    3.000000   39.000000    0.000000   \n",
       "max     891.000000    1.000000    3.000000   80.000000    8.000000   \n",
       "\n",
       "            Parch        Fare  \n",
       "count  577.000000  577.000000  \n",
       "mean     0.235702   25.523893  \n",
       "std      0.612294   43.138263  \n",
       "min      0.000000    0.000000  \n",
       "25%      0.000000    7.895800  \n",
       "50%      0.000000   10.500000  \n",
       "75%      0.000000   26.550000  \n",
       "max      5.000000  512.329200  "
      ]
     },
     "execution_count": 13,
     "metadata": {},
     "output_type": "execute_result"
    }
   ],
   "source": [
    "# stats on all male passengers\n",
    "df[df['Sex'] == 'male'].describe()"
   ]
  },
  {
   "cell_type": "markdown",
   "metadata": {
    "deletable": true,
    "editable": true
   },
   "source": [
    "### Define questions\n",
    "\n",
    "These are the questions that we'll answer:\n",
    "\n",
    "* **Question 1**: What factors made people more likely to survive? Which ones are the strongest?\n",
    "* **Question 2**: Were passengers in certain age groups more likely to survive? \n",
    "* **Question 3**: Did passengers with a higher socio-economic status have a greater chance to survive?\n",
    "* **Question 4**: Did the passenger's sex have any effects on the survival rate?\n",
    "* **Question 5**: Could the gender effect also observed among different ticket classes, age groups or person classes?"
   ]
  },
  {
   "cell_type": "markdown",
   "metadata": {
    "deletable": true,
    "editable": true
   },
   "source": [
    "### Wrangle data\n",
    "\n",
    "**Summary of the wrangle phase**:\n",
    "* Check for duplicate entries:\n",
    "> no duplicated entries found\n",
    "* Remove unused columns:\n",
    "> dropped columns: 'Name', 'Ticket', 'Cabin' and 'Embarked'\n",
    "* Check and fix missing entries:\n",
    "> columns 'Cabin' and 'Embarked' containing null values were already dropped\n",
    ">\n",
    "> column 'Age' contains 177 null values\n",
    ">\n",
    "> Since 'Age' is one of our subjects of analysis and no replacement value could be derived from other columns --> dropped all entries in 'Age' containing null values. \n",
    "* Add helper columns necessary for the following analysis\n",
    "> created column 'IsMale': scalar value of 'Sex' (1: male, 0: female)\n",
    ">\n",
    "> created column 'SurvivedType': category values for 'Survived': survived or died\n",
    ">\n",
    "> created column 'AgeCategory': category values for 'Age' ranges: children, adolescents, adults or seniors\n",
    ">\n",
    "> created column 'PersonClass': category values for 'Age' and 'Sex': children, male adults, female adults or seniors\n",
    "* Change data types of scalar columns\n",
    "> changed data type of 'Sex' from object to category\n",
    "* Reorder columns\n",
    "> set column order to: 'PassengerId', 'Survived', 'SurvivedType', 'Pclass', 'Sex', 'IsMale', 'Age', 'AgeCategory', 'PersonClass', 'SibSp', 'Parch', 'Fare'"
   ]
  },
  {
   "cell_type": "code",
   "execution_count": 14,
   "metadata": {
    "collapsed": false,
    "deletable": true,
    "editable": true
   },
   "outputs": [
    {
     "data": {
      "text/plain": [
       "0"
      ]
     },
     "execution_count": 14,
     "metadata": {},
     "output_type": "execute_result"
    }
   ],
   "source": [
    "# check for duplicate entries\n",
    "df['PassengerId'].duplicated().sum()"
   ]
  },
  {
   "cell_type": "code",
   "execution_count": 15,
   "metadata": {
    "collapsed": false,
    "deletable": true,
    "editable": true
   },
   "outputs": [
    {
     "data": {
      "text/html": [
       "<div>\n",
       "<table border=\"1\" class=\"dataframe\">\n",
       "  <thead>\n",
       "    <tr style=\"text-align: right;\">\n",
       "      <th></th>\n",
       "      <th>PassengerId</th>\n",
       "      <th>Survived</th>\n",
       "      <th>Pclass</th>\n",
       "      <th>Sex</th>\n",
       "      <th>Age</th>\n",
       "      <th>SibSp</th>\n",
       "      <th>Parch</th>\n",
       "      <th>Fare</th>\n",
       "    </tr>\n",
       "  </thead>\n",
       "  <tbody>\n",
       "    <tr>\n",
       "      <th>0</th>\n",
       "      <td>1</td>\n",
       "      <td>0</td>\n",
       "      <td>3</td>\n",
       "      <td>male</td>\n",
       "      <td>22.0</td>\n",
       "      <td>1</td>\n",
       "      <td>0</td>\n",
       "      <td>7.2500</td>\n",
       "    </tr>\n",
       "    <tr>\n",
       "      <th>1</th>\n",
       "      <td>2</td>\n",
       "      <td>1</td>\n",
       "      <td>1</td>\n",
       "      <td>female</td>\n",
       "      <td>38.0</td>\n",
       "      <td>1</td>\n",
       "      <td>0</td>\n",
       "      <td>71.2833</td>\n",
       "    </tr>\n",
       "    <tr>\n",
       "      <th>2</th>\n",
       "      <td>3</td>\n",
       "      <td>1</td>\n",
       "      <td>3</td>\n",
       "      <td>female</td>\n",
       "      <td>26.0</td>\n",
       "      <td>0</td>\n",
       "      <td>0</td>\n",
       "      <td>7.9250</td>\n",
       "    </tr>\n",
       "    <tr>\n",
       "      <th>3</th>\n",
       "      <td>4</td>\n",
       "      <td>1</td>\n",
       "      <td>1</td>\n",
       "      <td>female</td>\n",
       "      <td>35.0</td>\n",
       "      <td>1</td>\n",
       "      <td>0</td>\n",
       "      <td>53.1000</td>\n",
       "    </tr>\n",
       "    <tr>\n",
       "      <th>4</th>\n",
       "      <td>5</td>\n",
       "      <td>0</td>\n",
       "      <td>3</td>\n",
       "      <td>male</td>\n",
       "      <td>35.0</td>\n",
       "      <td>0</td>\n",
       "      <td>0</td>\n",
       "      <td>8.0500</td>\n",
       "    </tr>\n",
       "  </tbody>\n",
       "</table>\n",
       "</div>"
      ],
      "text/plain": [
       "   PassengerId  Survived  Pclass     Sex   Age  SibSp  Parch     Fare\n",
       "0            1         0       3    male  22.0      1      0   7.2500\n",
       "1            2         1       1  female  38.0      1      0  71.2833\n",
       "2            3         1       3  female  26.0      0      0   7.9250\n",
       "3            4         1       1  female  35.0      1      0  53.1000\n",
       "4            5         0       3    male  35.0      0      0   8.0500"
      ]
     },
     "execution_count": 15,
     "metadata": {},
     "output_type": "execute_result"
    }
   ],
   "source": [
    "# remove unused columns\n",
    "df = df.drop(['Name', 'Ticket', 'Cabin', 'Embarked'], axis=1)\n",
    "df.head()"
   ]
  },
  {
   "cell_type": "code",
   "execution_count": 16,
   "metadata": {
    "collapsed": false,
    "deletable": true,
    "editable": true
   },
   "outputs": [
    {
     "data": {
      "text/plain": [
       "PassengerId      0\n",
       "Survived         0\n",
       "Pclass           0\n",
       "Sex              0\n",
       "Age            177\n",
       "SibSp            0\n",
       "Parch            0\n",
       "Fare             0\n",
       "dtype: int64"
      ]
     },
     "execution_count": 16,
     "metadata": {},
     "output_type": "execute_result"
    }
   ],
   "source": [
    "# check missing values\n",
    "df.isnull().sum()"
   ]
  },
  {
   "cell_type": "code",
   "execution_count": 17,
   "metadata": {
    "collapsed": false,
    "deletable": true,
    "editable": true
   },
   "outputs": [
    {
     "data": {
      "text/html": [
       "<div>\n",
       "<table border=\"1\" class=\"dataframe\">\n",
       "  <thead>\n",
       "    <tr style=\"text-align: right;\">\n",
       "      <th></th>\n",
       "      <th>PassengerId</th>\n",
       "      <th>Survived</th>\n",
       "      <th>Pclass</th>\n",
       "      <th>Sex</th>\n",
       "      <th>Age</th>\n",
       "      <th>SibSp</th>\n",
       "      <th>Parch</th>\n",
       "      <th>Fare</th>\n",
       "    </tr>\n",
       "  </thead>\n",
       "  <tbody>\n",
       "    <tr>\n",
       "      <th>5</th>\n",
       "      <td>6</td>\n",
       "      <td>0</td>\n",
       "      <td>3</td>\n",
       "      <td>male</td>\n",
       "      <td>NaN</td>\n",
       "      <td>0</td>\n",
       "      <td>0</td>\n",
       "      <td>8.4583</td>\n",
       "    </tr>\n",
       "    <tr>\n",
       "      <th>17</th>\n",
       "      <td>18</td>\n",
       "      <td>1</td>\n",
       "      <td>2</td>\n",
       "      <td>male</td>\n",
       "      <td>NaN</td>\n",
       "      <td>0</td>\n",
       "      <td>0</td>\n",
       "      <td>13.0000</td>\n",
       "    </tr>\n",
       "    <tr>\n",
       "      <th>19</th>\n",
       "      <td>20</td>\n",
       "      <td>1</td>\n",
       "      <td>3</td>\n",
       "      <td>female</td>\n",
       "      <td>NaN</td>\n",
       "      <td>0</td>\n",
       "      <td>0</td>\n",
       "      <td>7.2250</td>\n",
       "    </tr>\n",
       "    <tr>\n",
       "      <th>26</th>\n",
       "      <td>27</td>\n",
       "      <td>0</td>\n",
       "      <td>3</td>\n",
       "      <td>male</td>\n",
       "      <td>NaN</td>\n",
       "      <td>0</td>\n",
       "      <td>0</td>\n",
       "      <td>7.2250</td>\n",
       "    </tr>\n",
       "    <tr>\n",
       "      <th>28</th>\n",
       "      <td>29</td>\n",
       "      <td>1</td>\n",
       "      <td>3</td>\n",
       "      <td>female</td>\n",
       "      <td>NaN</td>\n",
       "      <td>0</td>\n",
       "      <td>0</td>\n",
       "      <td>7.8792</td>\n",
       "    </tr>\n",
       "  </tbody>\n",
       "</table>\n",
       "</div>"
      ],
      "text/plain": [
       "    PassengerId  Survived  Pclass     Sex  Age  SibSp  Parch     Fare\n",
       "5             6         0       3    male  NaN      0      0   8.4583\n",
       "17           18         1       2    male  NaN      0      0  13.0000\n",
       "19           20         1       3  female  NaN      0      0   7.2250\n",
       "26           27         0       3    male  NaN      0      0   7.2250\n",
       "28           29         1       3  female  NaN      0      0   7.8792"
      ]
     },
     "execution_count": 17,
     "metadata": {},
     "output_type": "execute_result"
    }
   ],
   "source": [
    "# check entries with 'Age'=NaN for possible replacement values\n",
    "df[df['Age'].isnull()].head()"
   ]
  },
  {
   "cell_type": "code",
   "execution_count": 18,
   "metadata": {
    "collapsed": false
   },
   "outputs": [
    {
     "data": {
      "text/html": [
       "<div>\n",
       "<table border=\"1\" class=\"dataframe\">\n",
       "  <thead>\n",
       "    <tr style=\"text-align: right;\">\n",
       "      <th></th>\n",
       "      <th>PassengerId</th>\n",
       "      <th>Survived</th>\n",
       "      <th>Pclass</th>\n",
       "      <th>Age</th>\n",
       "      <th>SibSp</th>\n",
       "      <th>Parch</th>\n",
       "      <th>Fare</th>\n",
       "    </tr>\n",
       "  </thead>\n",
       "  <tbody>\n",
       "    <tr>\n",
       "      <th>count</th>\n",
       "      <td>177.000000</td>\n",
       "      <td>177.000000</td>\n",
       "      <td>177.000000</td>\n",
       "      <td>0.0</td>\n",
       "      <td>177.000000</td>\n",
       "      <td>177.000000</td>\n",
       "      <td>177.000000</td>\n",
       "    </tr>\n",
       "    <tr>\n",
       "      <th>mean</th>\n",
       "      <td>435.581921</td>\n",
       "      <td>0.293785</td>\n",
       "      <td>2.598870</td>\n",
       "      <td>NaN</td>\n",
       "      <td>0.564972</td>\n",
       "      <td>0.180791</td>\n",
       "      <td>22.158567</td>\n",
       "    </tr>\n",
       "    <tr>\n",
       "      <th>std</th>\n",
       "      <td>250.552901</td>\n",
       "      <td>0.456787</td>\n",
       "      <td>0.763216</td>\n",
       "      <td>NaN</td>\n",
       "      <td>1.626316</td>\n",
       "      <td>0.534145</td>\n",
       "      <td>31.874608</td>\n",
       "    </tr>\n",
       "    <tr>\n",
       "      <th>min</th>\n",
       "      <td>6.000000</td>\n",
       "      <td>0.000000</td>\n",
       "      <td>1.000000</td>\n",
       "      <td>NaN</td>\n",
       "      <td>0.000000</td>\n",
       "      <td>0.000000</td>\n",
       "      <td>0.000000</td>\n",
       "    </tr>\n",
       "    <tr>\n",
       "      <th>25%</th>\n",
       "      <td>230.000000</td>\n",
       "      <td>0.000000</td>\n",
       "      <td>3.000000</td>\n",
       "      <td>NaN</td>\n",
       "      <td>0.000000</td>\n",
       "      <td>0.000000</td>\n",
       "      <td>7.750000</td>\n",
       "    </tr>\n",
       "    <tr>\n",
       "      <th>50%</th>\n",
       "      <td>452.000000</td>\n",
       "      <td>0.000000</td>\n",
       "      <td>3.000000</td>\n",
       "      <td>NaN</td>\n",
       "      <td>0.000000</td>\n",
       "      <td>0.000000</td>\n",
       "      <td>8.050000</td>\n",
       "    </tr>\n",
       "    <tr>\n",
       "      <th>75%</th>\n",
       "      <td>634.000000</td>\n",
       "      <td>1.000000</td>\n",
       "      <td>3.000000</td>\n",
       "      <td>NaN</td>\n",
       "      <td>0.000000</td>\n",
       "      <td>0.000000</td>\n",
       "      <td>24.150000</td>\n",
       "    </tr>\n",
       "    <tr>\n",
       "      <th>max</th>\n",
       "      <td>889.000000</td>\n",
       "      <td>1.000000</td>\n",
       "      <td>3.000000</td>\n",
       "      <td>NaN</td>\n",
       "      <td>8.000000</td>\n",
       "      <td>2.000000</td>\n",
       "      <td>227.525000</td>\n",
       "    </tr>\n",
       "  </tbody>\n",
       "</table>\n",
       "</div>"
      ],
      "text/plain": [
       "       PassengerId    Survived      Pclass  Age       SibSp       Parch  \\\n",
       "count   177.000000  177.000000  177.000000  0.0  177.000000  177.000000   \n",
       "mean    435.581921    0.293785    2.598870  NaN    0.564972    0.180791   \n",
       "std     250.552901    0.456787    0.763216  NaN    1.626316    0.534145   \n",
       "min       6.000000    0.000000    1.000000  NaN    0.000000    0.000000   \n",
       "25%     230.000000    0.000000    3.000000  NaN    0.000000    0.000000   \n",
       "50%     452.000000    0.000000    3.000000  NaN    0.000000    0.000000   \n",
       "75%     634.000000    1.000000    3.000000  NaN    0.000000    0.000000   \n",
       "max     889.000000    1.000000    3.000000  NaN    8.000000    2.000000   \n",
       "\n",
       "             Fare  \n",
       "count  177.000000  \n",
       "mean    22.158567  \n",
       "std     31.874608  \n",
       "min      0.000000  \n",
       "25%      7.750000  \n",
       "50%      8.050000  \n",
       "75%     24.150000  \n",
       "max    227.525000  "
      ]
     },
     "execution_count": 18,
     "metadata": {},
     "output_type": "execute_result"
    }
   ],
   "source": [
    "# check NaN entries statistics before drop\n",
    "df[df['Age'].isnull()].describe()"
   ]
  },
  {
   "cell_type": "code",
   "execution_count": 19,
   "metadata": {
    "collapsed": false,
    "deletable": true,
    "editable": true
   },
   "outputs": [
    {
     "data": {
      "text/html": [
       "<div>\n",
       "<table border=\"1\" class=\"dataframe\">\n",
       "  <thead>\n",
       "    <tr style=\"text-align: right;\">\n",
       "      <th></th>\n",
       "      <th>PassengerId</th>\n",
       "      <th>Survived</th>\n",
       "      <th>Pclass</th>\n",
       "      <th>Sex</th>\n",
       "      <th>Age</th>\n",
       "      <th>SibSp</th>\n",
       "      <th>Parch</th>\n",
       "      <th>Fare</th>\n",
       "    </tr>\n",
       "  </thead>\n",
       "  <tbody>\n",
       "    <tr>\n",
       "      <th>0</th>\n",
       "      <td>1</td>\n",
       "      <td>0</td>\n",
       "      <td>3</td>\n",
       "      <td>male</td>\n",
       "      <td>22.0</td>\n",
       "      <td>1</td>\n",
       "      <td>0</td>\n",
       "      <td>7.2500</td>\n",
       "    </tr>\n",
       "    <tr>\n",
       "      <th>1</th>\n",
       "      <td>2</td>\n",
       "      <td>1</td>\n",
       "      <td>1</td>\n",
       "      <td>female</td>\n",
       "      <td>38.0</td>\n",
       "      <td>1</td>\n",
       "      <td>0</td>\n",
       "      <td>71.2833</td>\n",
       "    </tr>\n",
       "    <tr>\n",
       "      <th>2</th>\n",
       "      <td>3</td>\n",
       "      <td>1</td>\n",
       "      <td>3</td>\n",
       "      <td>female</td>\n",
       "      <td>26.0</td>\n",
       "      <td>0</td>\n",
       "      <td>0</td>\n",
       "      <td>7.9250</td>\n",
       "    </tr>\n",
       "    <tr>\n",
       "      <th>3</th>\n",
       "      <td>4</td>\n",
       "      <td>1</td>\n",
       "      <td>1</td>\n",
       "      <td>female</td>\n",
       "      <td>35.0</td>\n",
       "      <td>1</td>\n",
       "      <td>0</td>\n",
       "      <td>53.1000</td>\n",
       "    </tr>\n",
       "    <tr>\n",
       "      <th>4</th>\n",
       "      <td>5</td>\n",
       "      <td>0</td>\n",
       "      <td>3</td>\n",
       "      <td>male</td>\n",
       "      <td>35.0</td>\n",
       "      <td>0</td>\n",
       "      <td>0</td>\n",
       "      <td>8.0500</td>\n",
       "    </tr>\n",
       "  </tbody>\n",
       "</table>\n",
       "</div>"
      ],
      "text/plain": [
       "   PassengerId  Survived  Pclass     Sex   Age  SibSp  Parch     Fare\n",
       "0            1         0       3    male  22.0      1      0   7.2500\n",
       "1            2         1       1  female  38.0      1      0  71.2833\n",
       "2            3         1       3  female  26.0      0      0   7.9250\n",
       "3            4         1       1  female  35.0      1      0  53.1000\n",
       "4            5         0       3    male  35.0      0      0   8.0500"
      ]
     },
     "execution_count": 19,
     "metadata": {},
     "output_type": "execute_result"
    }
   ],
   "source": [
    "# drop entries with null values\n",
    "df = df.dropna(axis=0)\n",
    "df.head()"
   ]
  },
  {
   "cell_type": "code",
   "execution_count": 20,
   "metadata": {
    "collapsed": false,
    "deletable": true,
    "editable": true
   },
   "outputs": [
    {
     "data": {
      "text/plain": [
       "count    714.000000\n",
       "mean       0.634454\n",
       "std        0.481921\n",
       "min        0.000000\n",
       "25%        0.000000\n",
       "50%        1.000000\n",
       "75%        1.000000\n",
       "max        1.000000\n",
       "Name: IsMale, dtype: float64"
      ]
     },
     "execution_count": 20,
     "metadata": {},
     "output_type": "execute_result"
    }
   ],
   "source": [
    "# create new column 'IsMale' as scalar value for 'Sex'\n",
    "df['IsMale'] = df['Sex'].map(lambda s: s == 'male').astype(int)\n",
    "df['IsMale'].describe()"
   ]
  },
  {
   "cell_type": "code",
   "execution_count": 21,
   "metadata": {
    "collapsed": false,
    "deletable": true,
    "editable": true
   },
   "outputs": [
    {
     "data": {
      "text/plain": [
       "count      714\n",
       "unique       2\n",
       "top       died\n",
       "freq       424\n",
       "Name: SurvivedType, dtype: object"
      ]
     },
     "execution_count": 21,
     "metadata": {},
     "output_type": "execute_result"
    }
   ],
   "source": [
    "# create new column 'SurvivedType' as category value for 'Survived'\n",
    "def get_survived_name(survived):\n",
    "    \"\"\"\n",
    "    returns survived status as text\n",
    "    \"\"\"\n",
    "    if survived:\n",
    "        return 'survived'\n",
    "    else:\n",
    "        return 'died'\n",
    "\n",
    "df['SurvivedType'] = df['Survived'].map(\n",
    "    get_survived_name\n",
    ").astype('category')\n",
    "df['SurvivedType'].describe()"
   ]
  },
  {
   "cell_type": "code",
   "execution_count": 22,
   "metadata": {
    "collapsed": false,
    "deletable": true,
    "editable": true
   },
   "outputs": [
    {
     "data": {
      "text/plain": [
       "count        714\n",
       "unique         4\n",
       "top       adults\n",
       "freq         454\n",
       "Name: AgeCategory, dtype: object"
      ]
     },
     "execution_count": 22,
     "metadata": {},
     "output_type": "execute_result"
    }
   ],
   "source": [
    "def get_age_category(age):\n",
    "    \"\"\"\n",
    "    create age category column by Age: \n",
    "    - children, \n",
    "    - adolescents, \n",
    "    - adults and \n",
    "    - seniors\n",
    "    reference: http://www.statcan.gc.ca/eng/concepts/definitions/age2\n",
    "    \"\"\"\n",
    "    if age < 14:\n",
    "        return 'children'\n",
    "    elif age < 24:\n",
    "        return 'adolescents'\n",
    "    elif age < 64:\n",
    "        return 'adults'\n",
    "    else:\n",
    "        return 'seniors'\n",
    "    \n",
    "df['AgeCategory'] = df['Age'].map(\n",
    "    get_age_category\n",
    ").astype('category')\n",
    "df['AgeCategory'].describe()"
   ]
  },
  {
   "cell_type": "code",
   "execution_count": 23,
   "metadata": {
    "collapsed": false,
    "deletable": true,
    "editable": true
   },
   "outputs": [
    {
     "data": {
      "text/plain": [
       "count             714\n",
       "unique              4\n",
       "top       male adults\n",
       "freq              403\n",
       "Name: PersonClass, dtype: object"
      ]
     },
     "execution_count": 23,
     "metadata": {},
     "output_type": "execute_result"
    }
   ],
   "source": [
    "def get_person_class(entry):\n",
    "    \"\"\"\n",
    "    create person class column by Age and Sex: \n",
    "    - children,\n",
    "    - male adults\n",
    "    - female adults and\n",
    "    - seniors\n",
    "    \"\"\"\n",
    "    if entry['Age'] < 14:\n",
    "        return 'children'\n",
    "    elif entry['Age'] >= 64:\n",
    "        return 'seniors'\n",
    "    elif entry['Sex'] == 'male':\n",
    "        return 'male adults'\n",
    "    else:\n",
    "        return 'female adults'\n",
    "df['PersonClass'] = df.apply(\n",
    "    get_person_class, \n",
    "    axis=1\n",
    ").astype('category')\n",
    "df['PersonClass'].describe()"
   ]
  },
  {
   "cell_type": "code",
   "execution_count": 24,
   "metadata": {
    "collapsed": false,
    "deletable": true,
    "editable": true
   },
   "outputs": [
    {
     "name": "stdout",
     "output_type": "stream",
     "text": [
      "<class 'pandas.core.frame.DataFrame'>\n",
      "Int64Index: 714 entries, 0 to 890\n",
      "Data columns (total 12 columns):\n",
      "PassengerId     714 non-null int64\n",
      "Survived        714 non-null int64\n",
      "Pclass          714 non-null int64\n",
      "Sex             714 non-null category\n",
      "Age             714 non-null float64\n",
      "SibSp           714 non-null int64\n",
      "Parch           714 non-null int64\n",
      "Fare            714 non-null float64\n",
      "IsMale          714 non-null int32\n",
      "SurvivedType    714 non-null category\n",
      "AgeCategory     714 non-null category\n",
      "PersonClass     714 non-null category\n",
      "dtypes: category(4), float64(2), int32(1), int64(5)\n",
      "memory usage: 50.2 KB\n"
     ]
    }
   ],
   "source": [
    "# change data types of Sex\n",
    "df[\"Sex\"] = df[\"Sex\"].astype('category')\n",
    "# list all columns\n",
    "df.info()"
   ]
  },
  {
   "cell_type": "code",
   "execution_count": 25,
   "metadata": {
    "collapsed": false,
    "deletable": true,
    "editable": true
   },
   "outputs": [
    {
     "data": {
      "text/html": [
       "<div>\n",
       "<table border=\"1\" class=\"dataframe\">\n",
       "  <thead>\n",
       "    <tr style=\"text-align: right;\">\n",
       "      <th></th>\n",
       "      <th>PassengerId</th>\n",
       "      <th>Survived</th>\n",
       "      <th>SurvivedType</th>\n",
       "      <th>Pclass</th>\n",
       "      <th>Sex</th>\n",
       "      <th>IsMale</th>\n",
       "      <th>Age</th>\n",
       "      <th>AgeCategory</th>\n",
       "      <th>PersonClass</th>\n",
       "      <th>SibSp</th>\n",
       "      <th>Parch</th>\n",
       "      <th>Fare</th>\n",
       "    </tr>\n",
       "  </thead>\n",
       "  <tbody>\n",
       "    <tr>\n",
       "      <th>0</th>\n",
       "      <td>1</td>\n",
       "      <td>0</td>\n",
       "      <td>died</td>\n",
       "      <td>3</td>\n",
       "      <td>male</td>\n",
       "      <td>1</td>\n",
       "      <td>22.0</td>\n",
       "      <td>adolescents</td>\n",
       "      <td>male adults</td>\n",
       "      <td>1</td>\n",
       "      <td>0</td>\n",
       "      <td>7.2500</td>\n",
       "    </tr>\n",
       "    <tr>\n",
       "      <th>1</th>\n",
       "      <td>2</td>\n",
       "      <td>1</td>\n",
       "      <td>survived</td>\n",
       "      <td>1</td>\n",
       "      <td>female</td>\n",
       "      <td>0</td>\n",
       "      <td>38.0</td>\n",
       "      <td>adults</td>\n",
       "      <td>female adults</td>\n",
       "      <td>1</td>\n",
       "      <td>0</td>\n",
       "      <td>71.2833</td>\n",
       "    </tr>\n",
       "    <tr>\n",
       "      <th>2</th>\n",
       "      <td>3</td>\n",
       "      <td>1</td>\n",
       "      <td>survived</td>\n",
       "      <td>3</td>\n",
       "      <td>female</td>\n",
       "      <td>0</td>\n",
       "      <td>26.0</td>\n",
       "      <td>adults</td>\n",
       "      <td>female adults</td>\n",
       "      <td>0</td>\n",
       "      <td>0</td>\n",
       "      <td>7.9250</td>\n",
       "    </tr>\n",
       "    <tr>\n",
       "      <th>3</th>\n",
       "      <td>4</td>\n",
       "      <td>1</td>\n",
       "      <td>survived</td>\n",
       "      <td>1</td>\n",
       "      <td>female</td>\n",
       "      <td>0</td>\n",
       "      <td>35.0</td>\n",
       "      <td>adults</td>\n",
       "      <td>female adults</td>\n",
       "      <td>1</td>\n",
       "      <td>0</td>\n",
       "      <td>53.1000</td>\n",
       "    </tr>\n",
       "    <tr>\n",
       "      <th>4</th>\n",
       "      <td>5</td>\n",
       "      <td>0</td>\n",
       "      <td>died</td>\n",
       "      <td>3</td>\n",
       "      <td>male</td>\n",
       "      <td>1</td>\n",
       "      <td>35.0</td>\n",
       "      <td>adults</td>\n",
       "      <td>male adults</td>\n",
       "      <td>0</td>\n",
       "      <td>0</td>\n",
       "      <td>8.0500</td>\n",
       "    </tr>\n",
       "  </tbody>\n",
       "</table>\n",
       "</div>"
      ],
      "text/plain": [
       "   PassengerId  Survived SurvivedType  Pclass     Sex  IsMale   Age  \\\n",
       "0            1         0         died       3    male       1  22.0   \n",
       "1            2         1     survived       1  female       0  38.0   \n",
       "2            3         1     survived       3  female       0  26.0   \n",
       "3            4         1     survived       1  female       0  35.0   \n",
       "4            5         0         died       3    male       1  35.0   \n",
       "\n",
       "   AgeCategory    PersonClass  SibSp  Parch     Fare  \n",
       "0  adolescents    male adults      1      0   7.2500  \n",
       "1       adults  female adults      1      0  71.2833  \n",
       "2       adults  female adults      0      0   7.9250  \n",
       "3       adults  female adults      1      0  53.1000  \n",
       "4       adults    male adults      0      0   8.0500  "
      ]
     },
     "execution_count": 25,
     "metadata": {},
     "output_type": "execute_result"
    }
   ],
   "source": [
    "# reorder columns\n",
    "df = df[['PassengerId', 'Survived', 'SurvivedType', 'Pclass', 'Sex', 'IsMale', 'Age', 'AgeCategory', 'PersonClass', 'SibSp', 'Parch', 'Fare']]\n",
    "df.head()"
   ]
  },
  {
   "cell_type": "markdown",
   "metadata": {
    "deletable": true,
    "editable": true
   },
   "source": [
    "### Answers"
   ]
  },
  {
   "cell_type": "code",
   "execution_count": 26,
   "metadata": {
    "collapsed": false
   },
   "outputs": [],
   "source": [
    "\"\"\"\n",
    "common functions used in the data analysis\n",
    "\"\"\"\n",
    "\n",
    "\n",
    "def print_relative_survival_means(df=df):\n",
    "    \"\"\"\n",
    "    displays the relative difference in means in percent of\n",
    "    all numerical features defined in the given dataframe\n",
    "    between survived and died groups.\n",
    "    \"\"\"\n",
    "    # display survived passengers statistics\n",
    "    mean_survived = df[df['Survived'] == 1].describe().loc['mean']\n",
    "    mean_died = df[df['Survived'] == 0].describe().loc['mean']\n",
    "    mean_diff_pct = (mean_survived - mean_died) / mean_survived * 100.0\n",
    "    print(\"Relative difference in means of 'Survived' to \" +\n",
    "          \"'Died' passenger group in [%]:\\n\" +\n",
    "          \"(Note: 0.0 --> no difference)\\n{0}\".format(\n",
    "              mean_diff_pct\n",
    "          ))\n",
    "\n",
    "\n",
    "def plot_corrcoef(df=df):\n",
    "    \"\"\"\n",
    "    plots pearson correlation heatmap of the dataframe\n",
    "    \"\"\"\n",
    "    sns.FacetGrid(df, size=7).map_dataframe(\n",
    "        lambda data,\n",
    "        color: sns.heatmap(\n",
    "            data.corr().abs(),\n",
    "            linewidths=1,\n",
    "            cmap=\"YlGnBu\"\n",
    "        )\n",
    "    )\n",
    "    sns.plt.title(\"Pearson Correlation Matrix\")\n",
    "\n",
    "\n",
    "def print_top_correlations(name='Survived', top=5, df=df):\n",
    "    \"\"\"\n",
    "    displays the strongest correlations to the given\n",
    "    feature name. (default: 5)\n",
    "    \"\"\"\n",
    "    # calculates pearson correlations for the given feature\n",
    "    corr = df.corr().loc[name]\n",
    "    # sort absolute correlations from the strongest\n",
    "    sorted_corr = corr.abs().sort_values(\n",
    "        ascending=False\n",
    "    )[1: 1 + top]\n",
    "    print(\"Top {0} correlations between '{1}' and ...:\\n{2}\\n\".format(\n",
    "        top,\n",
    "        name,\n",
    "        sorted_corr\n",
    "    ))\n",
    "\n",
    "\n",
    "def print_feature_correlation(name, df=df):\n",
    "    \"\"\"\n",
    "    calculates correlation with Survived and effect size for the given feature\n",
    "    \"\"\"\n",
    "    # print survival statistics\n",
    "    if df[name].dtype.name != 'category':\n",
    "        corr = df[name].corr(df['Survived'])\n",
    "        print(\"Correlation between '{0}' and '{1}': {2:.2f}\".format(\n",
    "            name,\n",
    "            'Survived',\n",
    "            corr\n",
    "        ))\n",
    "    check_dependency(name, 'Survived', 0.001, df)\n",
    "\n",
    "\n",
    "def print_feature_statistics(name, order=None, df=df):\n",
    "    \"\"\"\n",
    "    displays descriptive and survival statistics of the\n",
    "    given categorical feature.\n",
    "    \"\"\"\n",
    "    # print feature statistics\n",
    "    print(\"Descriptive statistics of '{0}':\\n{1}\\n\".format(\n",
    "        name,\n",
    "        df[name].describe()\n",
    "    ))\n",
    "    abs_distribution = df[name].value_counts(sort=True)\n",
    "    rel_distribution = abs_distribution / df[name].count()\n",
    "    if order is not None:\n",
    "        rel_distribution = rel_distribution[order]\n",
    "    print(\"Relative frequencies of '{0}':\\n{1}\\n\".format(\n",
    "        name,\n",
    "        rel_distribution\n",
    "    ))\n",
    "    abs_survived = df.groupby(name)['Survived'].agg(sum)\n",
    "    rel_survived = abs_survived / df.groupby(name)['PassengerId'].count()\n",
    "    if order is not None:\n",
    "        rel_survived = rel_survived[order]\n",
    "    print(\"Survival rate of '{0}':\\n{1}\".format(\n",
    "        name,\n",
    "        rel_survived\n",
    "    ))\n",
    "\n",
    "\n",
    "def plot_bivariate_continous(name1, name2, order=None, df=df):\n",
    "    \"\"\"\n",
    "    plots boxplot of the two features by survived type.\n",
    "    \"\"\"\n",
    "    sns.factorplot(\n",
    "        x=name1,\n",
    "        y=name2,\n",
    "        kind='box',\n",
    "        hue='SurvivedType',\n",
    "        data=df,\n",
    "        size=5,\n",
    "        order=order,\n",
    "        hue_order=['survived', 'died'],\n",
    "        palette={'survived': color_survived, 'died': color_died}\n",
    "    )\n",
    "    sns.plt.title('Box Plot by {0}, {1} and Survived'.format(\n",
    "        name1,\n",
    "        name2\n",
    "    ))\n",
    "\n",
    "\n",
    "def plot_bivariate_categorical(name, col, order=None, col_order=None, df=df):\n",
    "    \"\"\"\n",
    "    plots count and survival charts by name and col features.\n",
    "    \"\"\"\n",
    "    # draw count plots\n",
    "    sns.factorplot(\n",
    "        x=name,\n",
    "        data=df,\n",
    "        kind='count',\n",
    "        col=col,\n",
    "        order=order,\n",
    "        col_order=col_order\n",
    "    )\n",
    "    # plot survival rate charts\n",
    "    sns.factorplot(\n",
    "        x=name,\n",
    "        data=df,\n",
    "        kind='count',\n",
    "        order=order,\n",
    "        col_order=col_order,\n",
    "        col=col,\n",
    "        hue='SurvivedType',\n",
    "        hue_order=['survived', 'died'],\n",
    "        palette={'survived': color_survived, 'died': color_died}\n",
    "    )\n",
    "    sns.factorplot(\n",
    "        x=name,\n",
    "        y='Survived',\n",
    "        data=df,\n",
    "        kind='bar',\n",
    "        col=col,\n",
    "        order=order,\n",
    "        col_order=col_order,\n",
    "        color=color_survived\n",
    "    )\n",
    "\n",
    "\n",
    "def plot_univariate_analysis(name, order=None, df=df):\n",
    "    \"\"\"\n",
    "    plots frequency and survival distribution charts\n",
    "    of the given feature\n",
    "    \"\"\"\n",
    "    # plot frequency charts\n",
    "    fig = sns.plt.figure(figsize=(16, 3))\n",
    "    sns.countplot(\n",
    "        x=name,\n",
    "        data=df,\n",
    "        order=order,\n",
    "        ax=fig.add_subplot(131)\n",
    "    )\n",
    "    sns.plt.title('{0} Count'.format(name))\n",
    "    # plot survival rate charts\n",
    "    sns.countplot(\n",
    "        x=name,\n",
    "        data=df,\n",
    "        order=order,\n",
    "        hue='SurvivedType',\n",
    "        hue_order=['survived', 'died'],\n",
    "        palette={'survived': color_survived, 'died': color_died},\n",
    "        ax=fig.add_subplot(132)\n",
    "    )\n",
    "    sns.plt.title('Survived By {0}'.format(name))\n",
    "    sns.barplot(\n",
    "        x=name,\n",
    "        y='Survived',\n",
    "        data=df,\n",
    "        order=order,\n",
    "        color=color_survived,\n",
    "        ax=fig.add_subplot(133)\n",
    "    )\n",
    "    sns.plt.title('{0} Survival Rate'.format(name))\n",
    "\n",
    "\n",
    "def plot_distribution(name, df=df):\n",
    "    \"\"\"\n",
    "    plots distribution plot with histograms, kernel density plot\n",
    "    and mean as vertical line for the given feature.\n",
    "    \"\"\"\n",
    "    sns.distplot(df[name],\n",
    "                 label='{0} Histogram'.format(name),\n",
    "                 kde=True,\n",
    "                 rug=True,\n",
    "                 hist_kws={'alpha': .5},\n",
    "                 kde_kws={'label': '{0} KDE'.format(name)})\n",
    "    # use vline to draw the feature mean as a vertical line\n",
    "    sns.plt.axvline(df[name].mean(),\n",
    "                    label='{0} Mean'.format(name),\n",
    "                    linestyle='dashed',\n",
    "                    linewidth=3)\n",
    "    sns.plt.title('{0} Distribution'.format(name))\n",
    "    sns.plt.xlabel(name)\n",
    "    sns.plt.ylabel('# passengers')\n",
    "    sns.plt.legend()\n",
    "\n",
    "\n",
    "def analyze_feature(name, order=None, df=df):\n",
    "    \"\"\"\n",
    "    displays descriptive and survival statistics and\n",
    "    plots frequency and survival distribution charts\n",
    "    of the given feature\n",
    "    \"\"\"\n",
    "    print_feature_statistics(name, order, df)\n",
    "    print_feature_correlation(name, df)\n",
    "    plot_univariate_analysis(name, order, df)\n",
    "\n",
    "\n",
    "def check_dependency(name1, name2='Survived', alpha=0.001, df=df):\n",
    "    \"\"\"\n",
    "    checks the independence of two categorical variables from\n",
    "    the single population using chi-square test.\n",
    "    \"\"\"\n",
    "    freq = df.pivot_table(index=name1, columns=name2,\n",
    "                          values='PassengerId',\n",
    "                          margins=False, fill_value=0,\n",
    "                          aggfunc=lambda x: len(x.unique()))\n",
    "    chi2, p, dof, ex = stats.chi2_contingency(freq)\n",
    "    v = np.sqrt(chi2 / (len(df) * (min(freq.shape) - 1)))\n",
    "    is_dependent = p < alpha\n",
    "    print(\"'{0}' and '{1}' are {2} with {3:.1f}% level of confidence:\\n\" +\n",
    "          \"- χ² statistic = {4:.2f}\\n\" +\n",
    "          \"- p-value = {5:.4f}\\n\" +\n",
    "          \"- α threshold = {6:.3f}\\n\" +\n",
    "          \"- df = {7}\\n\" +\n",
    "          \"- Cramér's V = {8:.2f}\\n\").format(\n",
    "        name1,\n",
    "        name2,\n",
    "        {True: 'dependent', False: 'independent'}[is_dependent],\n",
    "        (1.0 - alpha) * 100.0,\n",
    "        chi2,\n",
    "        p,\n",
    "        alpha,\n",
    "        dof,\n",
    "        v\n",
    "    )\n"
   ]
  },
  {
   "cell_type": "markdown",
   "metadata": {
    "deletable": true,
    "editable": true
   },
   "source": [
    "**Question 1**: What factors made people more likely to survive? Which ones are the strongest?\n",
    "\n",
    "We observed in the quick exploration that certain features showed some tendencies. In the following we want to analyze using descriptive statistics, pearson correlations and visualizations to find out the strongest factors made people more likely to survive.\n",
    "\n",
    "**Conclusions from the data analysis section below**:\n",
    "\n",
    "**Pearson Correlation Matrix**:\n",
    "* **'Sex'**, **'Pclass'** and **'Fare'** are the factors with the strongest correlations:\n",
    "    * corr(Survived, Sex): 0.539\n",
    "    * corr(Survived, Pclass): 0.360\n",
    "    * corr(Survived, Fare): 0.268\n",
    "* Other features are all less correlated with survival rate. (corr < 0.100)   \n",
    "\n",
    "**Differences in means**:\n",
    "* We have data grouped 'Survived' and compared the relative differences in means of all numeric features. The largest differences are:\n",
    "    * Sex (IsMale): -165% (more females survived)\n",
    "    * Fare: 56% (more passengers with higher fare survived)\n",
    "    * Pclass: -32% (more passengers in higher classes survived)\n",
    "    * Parch: 31% (Passengers with parents or children more liked survived)\n",
    "\n",
    "**Non-linear correlations**:\n",
    "* We have analyzed the remaining features for non-linear correlations:\n",
    "    * **'Age'**: Age ranges reveals that children survived _overproportionately_ and most seniors died.\n",
    "    * **'SibSp'**: Passengers with exactly 1 sibling or spouse had the greatest survival rate and the chance to survive falls with the number of additional siblings or spouses.\n",
    "    * **'Parch'**: Passengers with one to three children or parents had a slightly better chance to survive.\n",
    "\n",
    "In the next questions we'll analyze the most interesting features found here in detail which are:\n",
    "    * 'Sex',\n",
    "    * 'Pclass' and\n",
    "    * 'Age' \n",
    "(We chose 'Pclass' over 'Fare' because of their strong correlations and it may be easier to use 'Pclass' to explain the effects.)"
   ]
  },
  {
   "cell_type": "code",
   "execution_count": 27,
   "metadata": {
    "collapsed": false,
    "deletable": true,
    "editable": true
   },
   "outputs": [
    {
     "data": {
      "text/html": [
       "<div>\n",
       "<table border=\"1\" class=\"dataframe\">\n",
       "  <thead>\n",
       "    <tr style=\"text-align: right;\">\n",
       "      <th></th>\n",
       "      <th>PassengerId</th>\n",
       "      <th>Survived</th>\n",
       "      <th>Pclass</th>\n",
       "      <th>IsMale</th>\n",
       "      <th>Age</th>\n",
       "      <th>SibSp</th>\n",
       "      <th>Parch</th>\n",
       "      <th>Fare</th>\n",
       "    </tr>\n",
       "  </thead>\n",
       "  <tbody>\n",
       "    <tr>\n",
       "      <th>count</th>\n",
       "      <td>714.000000</td>\n",
       "      <td>714.000000</td>\n",
       "      <td>714.000000</td>\n",
       "      <td>714.000000</td>\n",
       "      <td>714.000000</td>\n",
       "      <td>714.000000</td>\n",
       "      <td>714.000000</td>\n",
       "      <td>714.000000</td>\n",
       "    </tr>\n",
       "    <tr>\n",
       "      <th>mean</th>\n",
       "      <td>448.582633</td>\n",
       "      <td>0.406162</td>\n",
       "      <td>2.236695</td>\n",
       "      <td>0.634454</td>\n",
       "      <td>29.699118</td>\n",
       "      <td>0.512605</td>\n",
       "      <td>0.431373</td>\n",
       "      <td>34.694514</td>\n",
       "    </tr>\n",
       "    <tr>\n",
       "      <th>std</th>\n",
       "      <td>259.119524</td>\n",
       "      <td>0.491460</td>\n",
       "      <td>0.838250</td>\n",
       "      <td>0.481921</td>\n",
       "      <td>14.526497</td>\n",
       "      <td>0.929783</td>\n",
       "      <td>0.853289</td>\n",
       "      <td>52.918930</td>\n",
       "    </tr>\n",
       "    <tr>\n",
       "      <th>min</th>\n",
       "      <td>1.000000</td>\n",
       "      <td>0.000000</td>\n",
       "      <td>1.000000</td>\n",
       "      <td>0.000000</td>\n",
       "      <td>0.420000</td>\n",
       "      <td>0.000000</td>\n",
       "      <td>0.000000</td>\n",
       "      <td>0.000000</td>\n",
       "    </tr>\n",
       "    <tr>\n",
       "      <th>25%</th>\n",
       "      <td>222.250000</td>\n",
       "      <td>0.000000</td>\n",
       "      <td>1.000000</td>\n",
       "      <td>0.000000</td>\n",
       "      <td>20.125000</td>\n",
       "      <td>0.000000</td>\n",
       "      <td>0.000000</td>\n",
       "      <td>8.050000</td>\n",
       "    </tr>\n",
       "    <tr>\n",
       "      <th>50%</th>\n",
       "      <td>445.000000</td>\n",
       "      <td>0.000000</td>\n",
       "      <td>2.000000</td>\n",
       "      <td>1.000000</td>\n",
       "      <td>28.000000</td>\n",
       "      <td>0.000000</td>\n",
       "      <td>0.000000</td>\n",
       "      <td>15.741700</td>\n",
       "    </tr>\n",
       "    <tr>\n",
       "      <th>75%</th>\n",
       "      <td>677.750000</td>\n",
       "      <td>1.000000</td>\n",
       "      <td>3.000000</td>\n",
       "      <td>1.000000</td>\n",
       "      <td>38.000000</td>\n",
       "      <td>1.000000</td>\n",
       "      <td>1.000000</td>\n",
       "      <td>33.375000</td>\n",
       "    </tr>\n",
       "    <tr>\n",
       "      <th>max</th>\n",
       "      <td>891.000000</td>\n",
       "      <td>1.000000</td>\n",
       "      <td>3.000000</td>\n",
       "      <td>1.000000</td>\n",
       "      <td>80.000000</td>\n",
       "      <td>5.000000</td>\n",
       "      <td>6.000000</td>\n",
       "      <td>512.329200</td>\n",
       "    </tr>\n",
       "  </tbody>\n",
       "</table>\n",
       "</div>"
      ],
      "text/plain": [
       "       PassengerId    Survived      Pclass      IsMale         Age  \\\n",
       "count   714.000000  714.000000  714.000000  714.000000  714.000000   \n",
       "mean    448.582633    0.406162    2.236695    0.634454   29.699118   \n",
       "std     259.119524    0.491460    0.838250    0.481921   14.526497   \n",
       "min       1.000000    0.000000    1.000000    0.000000    0.420000   \n",
       "25%     222.250000    0.000000    1.000000    0.000000   20.125000   \n",
       "50%     445.000000    0.000000    2.000000    1.000000   28.000000   \n",
       "75%     677.750000    1.000000    3.000000    1.000000   38.000000   \n",
       "max     891.000000    1.000000    3.000000    1.000000   80.000000   \n",
       "\n",
       "            SibSp       Parch        Fare  \n",
       "count  714.000000  714.000000  714.000000  \n",
       "mean     0.512605    0.431373   34.694514  \n",
       "std      0.929783    0.853289   52.918930  \n",
       "min      0.000000    0.000000    0.000000  \n",
       "25%      0.000000    0.000000    8.050000  \n",
       "50%      0.000000    0.000000   15.741700  \n",
       "75%      1.000000    1.000000   33.375000  \n",
       "max      5.000000    6.000000  512.329200  "
      ]
     },
     "execution_count": 27,
     "metadata": {},
     "output_type": "execute_result"
    }
   ],
   "source": [
    "# display descriptive statistics of the modified dataframe\n",
    "df.describe()"
   ]
  },
  {
   "cell_type": "code",
   "execution_count": 28,
   "metadata": {
    "collapsed": false,
    "deletable": true,
    "editable": true
   },
   "outputs": [
    {
     "name": "stdout",
     "output_type": "stream",
     "text": [
      "Relative difference in means of 'Survived' to 'Died' passenger group in [%]:\n",
      "(Note: 0.0 --> no difference)\n",
      "PassengerId      3.379311\n",
      "Survived       100.000000\n",
      "Pclass         -32.761736\n",
      "IsMale        -164.759586\n",
      "Age             -8.052902\n",
      "SibSp           -6.659850\n",
      "Parch           30.709705\n",
      "Fare            55.702090\n",
      "Name: mean, dtype: float64\n"
     ]
    }
   ],
   "source": [
    "# display relative differences between means between survived and died passengers\n",
    "# largest differences in: \n",
    "#   - Sex (isMale)\n",
    "#   - Fare\n",
    "#   - Pclass\n",
    "#   - Parch\n",
    "print_relative_survival_means()"
   ]
  },
  {
   "cell_type": "code",
   "execution_count": 29,
   "metadata": {
    "collapsed": false
   },
   "outputs": [
    {
     "data": {
      "image/png": "[encoded data removed]",
      "text/plain": [
       "<matplotlib.figure.Figure at 0x9cf2870>"
      ]
     },
     "metadata": {},
     "output_type": "display_data"
    }
   ],
   "source": [
    "# draws pearson correlation matrix\n",
    "# strongest correlations with 'Survived':\n",
    "#   - Sex (isMale)\n",
    "#   - Pclass\n",
    "#   - Fare\n",
    "plot_corrcoef()"
   ]
  },
  {
   "cell_type": "code",
   "execution_count": 30,
   "metadata": {
    "collapsed": false,
    "deletable": true,
    "editable": true
   },
   "outputs": [
    {
     "name": "stdout",
     "output_type": "stream",
     "text": [
      "Top 5 correlations between 'Survived' and ...:\n",
      "IsMale    0.538826\n",
      "Pclass    0.359653\n",
      "Fare      0.268189\n",
      "Parch     0.093317\n",
      "Age       0.077221\n",
      "Name: Survived, dtype: float64\n",
      "\n"
     ]
    }
   ],
   "source": [
    "# display top 5 strongest correlated features\n",
    "# - strongest correlations between Survived and Sex, Pclass and Fare\n",
    "print_top_correlations()"
   ]
  },
  {
   "cell_type": "code",
   "execution_count": 31,
   "metadata": {
    "collapsed": false
   },
   "outputs": [
    {
     "name": "stdout",
     "output_type": "stream",
     "text": [
      "Top 5 correlations between 'Pclass' and ...:\n",
      "Fare        0.554182\n",
      "Age         0.369226\n",
      "Survived    0.359653\n",
      "IsMale      0.155460\n",
      "SibSp       0.067247\n",
      "Name: Pclass, dtype: float64\n",
      "\n"
     ]
    }
   ],
   "source": [
    "# check correlation between Fare and Pclass\n",
    "# - Pclass and Fare are strongly correlated\n",
    "print_top_correlations('Pclass')"
   ]
  },
  {
   "cell_type": "code",
   "execution_count": 32,
   "metadata": {
    "collapsed": false
   },
   "outputs": [
    {
     "data": {
      "text/plain": [
       "<matplotlib.axes._subplots.AxesSubplot at 0x9cf2290>"
      ]
     },
     "execution_count": 32,
     "metadata": {},
     "output_type": "execute_result"
    },
    {
     "data": {
      "image/png": "[encoded data removed]",
      "text/plain": [
       "<matplotlib.figure.Figure at 0xa07d4b0>"
      ]
     },
     "metadata": {},
     "output_type": "display_data"
    }
   ],
   "source": [
    "# draw histogram of fare\n",
    "# - Fare contains extreme values\n",
    "df['Fare'].hist()"
   ]
  },
  {
   "cell_type": "code",
   "execution_count": 33,
   "metadata": {
    "collapsed": false
   },
   "outputs": [
    {
     "data": {
      "image/png": "[encoded data removed]",
      "text/plain": [
       "<matplotlib.figure.Figure at 0xa1d3a50>"
      ]
     },
     "metadata": {},
     "output_type": "display_data"
    }
   ],
   "source": [
    "# draws boxplots of ticket classes and fares\n",
    "# - higher classes have higher fare\n",
    "# - in the same first class higher fare shows higher survival rate\n",
    "plot_bivariate_continous('Pclass', 'Fare')"
   ]
  },
  {
   "cell_type": "code",
   "execution_count": 34,
   "metadata": {
    "collapsed": false
   },
   "outputs": [
    {
     "data": {
      "image/png": "[encoded data removed]",
      "text/plain": [
       "<matplotlib.figure.Figure at 0xa40bf10>"
      ]
     },
     "metadata": {},
     "output_type": "display_data"
    }
   ],
   "source": [
    "# check other features for non-linear correlations\n",
    "# Age shows interesting survival rate between the different age groups:\n",
    "#   - overproportionate survival rate for children\n",
    "#   - seniors have less chance to survive\n",
    "plot_univariate_analysis('AgeCategory', ['children', 'adolescents', 'adults', 'seniors'])"
   ]
  },
  {
   "cell_type": "code",
   "execution_count": 35,
   "metadata": {
    "collapsed": false
   },
   "outputs": [
    {
     "data": {
      "image/png": "[encoded data removed]",
      "text/plain": [
       "<matplotlib.figure.Figure at 0xa1d3af0>"
      ]
     },
     "metadata": {},
     "output_type": "display_data"
    }
   ],
   "source": [
    "# Number of siblings / spouses aboard\n",
    "#   - passengers with exactly 1 sibling or spouse have the greatest survival rate\n",
    "#   - the survival rate falls with the number of siblings\n",
    "plot_univariate_analysis('SibSp')"
   ]
  },
  {
   "cell_type": "code",
   "execution_count": 36,
   "metadata": {
    "collapsed": false
   },
   "outputs": [
    {
     "data": {
      "image/png": "[encoded data removed]",
      "text/plain": [
       "<matplotlib.figure.Figure at 0xa426030>"
      ]
     },
     "metadata": {},
     "output_type": "display_data"
    }
   ],
   "source": [
    "# Number of parents / children aboard\n",
    "#   - passengers with 1 to 3 parents or children aboard have better chance to survive\n",
    "#   - the survival rate falls when the number is above 3\n",
    "plot_univariate_analysis('Parch')"
   ]
  },
  {
   "cell_type": "markdown",
   "metadata": {
    "collapsed": true,
    "deletable": true,
    "editable": true
   },
   "source": [
    "**Question 2**: Were passengers in certain age groups more likely to survive?\n",
    "\n",
    "Intuitively we would give children preference in rescue operations. And seniors were not strong enough or would give up early or would make way for the younger ones to the lifeboats. \n",
    "\n",
    "In the analysis we separated the passengers in [4 different age categories](http://www.statcan.gc.ca/eng/concepts/definitions/age2) by ranges of years:\n",
    "* (0, 14]: children\n",
    "* [15, 24]: adolescents\n",
    "* [25, 64]: adults\n",
    "* [65, \\\\(\\infty\\\\)): seniors\n",
    "\n",
    "**Observations and conclusions from the data analysis below**:\n",
    "* The 'Age' is distributed unevenly.\n",
    "    * Most passengers were adults between 25 and 35. \n",
    "    * The second largest group were children under 10.\n",
    "* Pearson correlation with 'Survived': \n",
    "    * corr(Survived, Age)=0.077\n",
    "    * no clear linear relationship between 'Survived' and 'Age'\n",
    "* χ² test:\n",
    "    * p-value=0.0003 < 0.001: 'Survived' and 'Age' are dependent in some way.\n",
    "    * Cramér's V=.16: only a small effect size.\n",
    "* Survival rates among the age categories:\n",
    "    * children: 59.15%\n",
    "    * adolescents: 34.66%\n",
    "    * adults: 40.97%\n",
    "    * seniors: 7.69%\n",
    "* From the survival rates we can clearly recognize that younger passengers under 14 had more likely survived and the seniors with about 8% less likely.\n",
    "\n",
    "**Limitations and future works**:\n",
    "* The survival rate of seniors is subject to interpretation due to the small number of passengers in that group.\n",
    "* Many entries were dropped due to missing values in 'Age'. Further analysis should show if this could have any effects on the results and conclusions we made in this report.\n",
    "* Maybe we could use machine learning techniques to explain the possible non-linear relationship between 'Survived' and 'AgeCategory'."
   ]
  },
  {
   "cell_type": "code",
   "execution_count": 37,
   "metadata": {
    "collapsed": false
   },
   "outputs": [
    {
     "data": {
      "image/png": "[encoded data removed]",
      "text/plain": [
       "<matplotlib.figure.Figure at 0xaef0210>"
      ]
     },
     "metadata": {},
     "output_type": "display_data"
    }
   ],
   "source": [
    "# draw histogram of Age\n",
    "# - passengers are mainly adults between 25 and 35\n",
    "# - many children under 10\n",
    "plot_distribution('Age')"
   ]
  },
  {
   "cell_type": "code",
   "execution_count": 38,
   "metadata": {
    "collapsed": false
   },
   "outputs": [
    {
     "name": "stdout",
     "output_type": "stream",
     "text": [
      "Descriptive statistics of 'AgeCategory':\n",
      "count        714\n",
      "unique         4\n",
      "top       adults\n",
      "freq         454\n",
      "Name: AgeCategory, dtype: object\n",
      "\n",
      "Relative frequencies of 'AgeCategory':\n",
      "children       0.099440\n",
      "adolescents    0.246499\n",
      "adults         0.635854\n",
      "seniors        0.018207\n",
      "Name: AgeCategory, dtype: float64\n",
      "\n",
      "Survival rate of 'AgeCategory':\n",
      "AgeCategory\n",
      "children       0.591549\n",
      "adolescents    0.346591\n",
      "adults         0.409692\n",
      "seniors        0.076923\n",
      "dtype: float64\n",
      "'AgeCategory' and 'Survived' are dependent with 99.9% level of confidence:\n",
      "- χ² statistic = 18.57\n",
      "- p-value = 0.0003\n",
      "- α threshold = 0.001\n",
      "- df = 3\n",
      "- Cramér's V = 0.16\n",
      "\n"
     ]
    },
    {
     "data": {
      "image/png": "[encoded data removed]",
      "text/plain": [
       "<matplotlib.figure.Figure at 0xb5c9bb0>"
      ]
     },
     "metadata": {},
     "output_type": "display_data"
    }
   ],
   "source": [
    "# print statistics and survival rates\n",
    "analyze_feature('AgeCategory', ['children', 'adolescents', 'adults', 'seniors'])"
   ]
  },
  {
   "cell_type": "markdown",
   "metadata": {
    "collapsed": true,
    "deletable": true,
    "editable": true
   },
   "source": [
    "**Question 3**: Did passengers with a higher socio-economic status have a greater chance to survive?\n",
    "\n",
    "Intuitively passengers in a higher socio-economic class (identified by 'Pclass') would receive more attention by the crew and obtain better services thus easier chance to get into the lifeboats.\n",
    "\n",
    "**Observations and conclusions from the data analysis below**:\n",
    "* The most passengers were in the lower class (Pclass=3).\n",
    "* The upper class had some more passengers than the middle class.\n",
    "* Pearson correlation with 'Survived': \n",
    "    * corr(Survived, Pclass)=-.36\n",
    "    * medium linear correlation between 'Survived' and 'Pclass'\n",
    "    * the second strongest correlation after 'Sex'\n",
    "* χ² test:\n",
    "    * p-value=0.0000 < 0.001: 'Survived' and 'Pclass' are dependent somehow.\n",
    "    * Cramér's V=.36: medium effect size\n",
    "* Survival rates by 'Pclass':\n",
    "    * upper class: 65.6%\n",
    "    * middle class: 48.0%\n",
    "    * lower class: 23.9%\n",
    "* The upper class represented clearly the most of the survivors (over 65%). While only about 24% of the lower class passengers made their way to survive.\n"
   ]
  },
  {
   "cell_type": "code",
   "execution_count": 39,
   "metadata": {
    "collapsed": false
   },
   "outputs": [
    {
     "name": "stdout",
     "output_type": "stream",
     "text": [
      "Descriptive statistics of 'Pclass':\n",
      "count    714.000000\n",
      "mean       2.236695\n",
      "std        0.838250\n",
      "min        1.000000\n",
      "25%        1.000000\n",
      "50%        2.000000\n",
      "75%        3.000000\n",
      "max        3.000000\n",
      "Name: Pclass, dtype: float64\n",
      "\n",
      "Relative frequencies of 'Pclass':\n",
      "3    0.497199\n",
      "1    0.260504\n",
      "2    0.242297\n",
      "Name: Pclass, dtype: float64\n",
      "\n",
      "Survival rate of 'Pclass':\n",
      "Pclass\n",
      "1    0.655914\n",
      "2    0.479769\n",
      "3    0.239437\n",
      "dtype: float64\n",
      "Correlation between 'Pclass' and 'Survived': -0.36\n",
      "'Pclass' and 'Survived' are dependent with 99.9% level of confidence:\n",
      "- χ² statistic = 92.90\n",
      "- p-value = 0.0000\n",
      "- α threshold = 0.001\n",
      "- df = 2\n",
      "- Cramér's V = 0.36\n",
      "\n"
     ]
    },
    {
     "data": {
      "image/png": "[encoded data removed]",
      "text/plain": [
       "<matplotlib.figure.Figure at 0xa2bd410>"
      ]
     },
     "metadata": {},
     "output_type": "display_data"
    }
   ],
   "source": [
    "# print statistics and plot charts for Pclass\n",
    "analyze_feature('Pclass')"
   ]
  },
  {
   "cell_type": "markdown",
   "metadata": {
    "collapsed": true,
    "deletable": true,
    "editable": true
   },
   "source": [
    "**Question 4**: Did the passenger's sex have any effects on the survival rate? Could the effect observed among different classes or age groups?\n",
    "\n",
    "Intuitively women like mothers with children, daughters with parents or girls with boy friends would be more likely given way into the lifeboats by men.\n",
    "\n",
    "**Data analysis on 'Sex':**\n",
    "* Most passengers were male. But among the survivers there were far more female passengers.\n",
    "* Pearson correlation with 'Survived': \n",
    "    * corr(Survived, Sex)=-.54\n",
    "    * strong pearson correlation between 'Survived' and 'Sex'\n",
    "    * the strongest correlation among all features\n",
    "* χ² test:\n",
    "    * p-value=0.0000 < 0.001: 'Survived' and 'Sex' are dependent somehow.\n",
    "    * Cramér's V=.54: large effect size\n",
    "* Relative frequency distribution by 'Sex':\n",
    "    * male: 63%\n",
    "    * female: 37%\n",
    "* Survival rates by 'Sex':\n",
    "    * male: 21%\n",
    "    * female: 76%\n",
    "\n",
    "\n",
    "**Data analysis on combined factors: 'Sex' and 'Age':**\n",
    "* From previous investigations we knew that children and women had higher survival rates. In this test we divide the passengers into four manually defined person classes and try to find even factors with higher survival chance.\n",
    "* Self-defined person classes:\n",
    "    * children under 14: 10% of all passengers\n",
    "    * seniors above 65: about 2% of all passengers\n",
    "    * male adults: about 56% were male adults\n",
    "    * female adults: about 32% were female adults\n",
    "* χ² test:\n",
    "    * p-value=0.0000 < 0.001: 'Survived' and 'PersonClass' are dependent somehow.\n",
    "    * Cramér's V=.57: large effect size    \n",
    "* Survival rate by person class:\n",
    "    * children: 59%\n",
    "    * seniors: 8% (all seniors were male)\n",
    "    * male adults: 18%\n",
    "    * female adults: 78%\n",
    "* Female adults had even a slightly better survival rate (78%) than female in the previous test (76%). The reason is that younger girls under 14 had a lower survival rate than female adults. Using 'Sex' and 'Age' these girls were excluded from the higher survival group.\n",
    "\n",
    "**Data analysis on combined factors: 'Sex' and 'Pclass':**\n",
    "* Most passengers were male and were in the lower class (identified by Pclass).\n",
    "* In all socio-economic classes the majority of survivors were females.\n",
    "* In the upper and middle classes more than 90% of females survived. But in the lower class only 46% of the female passengers survived.\n",
    "* We analyzed the lower class by 'Sex' in more detail:\n",
    "    * Survival rate in the lower class by sex:\n",
    "        * male: 15%\n",
    "        * female: 46%\n",
    "\n",
    "**Data analysis on combined factors: 'Sex', 'Age' and 'Pclass':**\n",
    "* The most passengers were male adults (between 14 and 65) and were in the lower class.\n",
    "* The same observation could be observed in the lower class with the survival rates of children as of the female adults.\n",
    "* In the upper class more than 75% of children survived. In the middle class even more children survived (~100%). But in the third class only 43% of the children could save their life from the disaster. \n",
    "* We analyzed passengers in the lower class and  by 'PersonClass' in detail:\n",
    "    * Survival rate in the lower class by sex and age:\n",
    "        * children: 43%\n",
    "        * male adults: 13%\n",
    "        * female adults: 45%\n",
    "        * seniors: 0%\n",
    "    * All sex and age groups in the third class had less chance to survive than the the upper or middle classes."
   ]
  },
  {
   "cell_type": "code",
   "execution_count": 40,
   "metadata": {
    "collapsed": false
   },
   "outputs": [
    {
     "name": "stdout",
     "output_type": "stream",
     "text": [
      "Descriptive statistics of 'Sex':\n",
      "count      714\n",
      "unique       2\n",
      "top       male\n",
      "freq       453\n",
      "Name: Sex, dtype: object\n",
      "\n",
      "Relative frequencies of 'Sex':\n",
      "male      0.634454\n",
      "female    0.365546\n",
      "Name: Sex, dtype: float64\n",
      "\n",
      "Survival rate of 'Sex':\n",
      "Sex\n",
      "male      0.205298\n",
      "female    0.754789\n",
      "dtype: float64\n",
      "'Sex' and 'Survived' are dependent with 99.9% level of confidence:\n",
      "- χ² statistic = 205.03\n",
      "- p-value = 0.0000\n",
      "- α threshold = 0.001\n",
      "- df = 1\n",
      "- Cramér's V = 0.54\n",
      "\n"
     ]
    },
    {
     "data": {
      "image/png": "[encoded data removed]",
      "text/plain": [
       "<matplotlib.figure.Figure at 0xb911f10>"
      ]
     },
     "metadata": {},
     "output_type": "display_data"
    }
   ],
   "source": [
    "# print statistics and plot charts for Sex\n",
    "analyze_feature('Sex', ['male', 'female'])"
   ]
  },
  {
   "cell_type": "code",
   "execution_count": 41,
   "metadata": {
    "collapsed": false
   },
   "outputs": [
    {
     "name": "stdout",
     "output_type": "stream",
     "text": [
      "Correlation between 'IsMale' and 'Survived': -0.54\n",
      "'IsMale' and 'Survived' are dependent with 99.9% level of confidence:\n",
      "- χ² statistic = 205.03\n",
      "- p-value = 0.0000\n",
      "- α threshold = 0.001\n",
      "- df = 1\n",
      "- Cramér's V = 0.54\n",
      "\n"
     ]
    }
   ],
   "source": [
    "# use IsMale to calculate correlation and chi square test\n",
    "print_feature_correlation('IsMale')"
   ]
  },
  {
   "cell_type": "code",
   "execution_count": 42,
   "metadata": {
    "collapsed": false
   },
   "outputs": [
    {
     "data": {
      "image/png": "[encoded data removed]",
      "text/plain": [
       "<matplotlib.figure.Figure at 0xbc84910>"
      ]
     },
     "metadata": {},
     "output_type": "display_data"
    },
    {
     "data": {
      "image/png": "[encoded data removed]",
      "text/plain": [
       "<matplotlib.figure.Figure at 0xbce84d0>"
      ]
     },
     "metadata": {},
     "output_type": "display_data"
    },
    {
     "data": {
      "image/png": "[encoded data removed]",
      "text/plain": [
       "<matplotlib.figure.Figure at 0xb6c80b0>"
      ]
     },
     "metadata": {},
     "output_type": "display_data"
    }
   ],
   "source": [
    "# draws count and survival plots by sex, person class and survived\n",
    "plot_bivariate_categorical('Sex', 'AgeCategory', ['male', 'female'], ['children', 'adolescents', 'adults', 'seniors'])"
   ]
  },
  {
   "cell_type": "code",
   "execution_count": 43,
   "metadata": {
    "collapsed": false
   },
   "outputs": [
    {
     "name": "stdout",
     "output_type": "stream",
     "text": [
      "Descriptive statistics of 'PersonClass':\n",
      "count             714\n",
      "unique              4\n",
      "top       male adults\n",
      "freq              403\n",
      "Name: PersonClass, dtype: object\n",
      "\n",
      "Relative frequencies of 'PersonClass':\n",
      "children         0.099440\n",
      "male adults      0.564426\n",
      "female adults    0.317927\n",
      "seniors          0.018207\n",
      "Name: PersonClass, dtype: float64\n",
      "\n",
      "Survival rate of 'PersonClass':\n",
      "PersonClass\n",
      "children         0.591549\n",
      "male adults      0.176179\n",
      "female adults    0.775330\n",
      "seniors          0.076923\n",
      "dtype: float64\n",
      "'PersonClass' and 'Survived' are dependent with 99.9% level of confidence:\n",
      "- χ² statistic = 232.60\n",
      "- p-value = 0.0000\n",
      "- α threshold = 0.001\n",
      "- df = 3\n",
      "- Cramér's V = 0.57\n",
      "\n"
     ]
    },
    {
     "data": {
      "image/png": "[encoded data removed]",
      "text/plain": [
       "<matplotlib.figure.Figure at 0xacd6df0>"
      ]
     },
     "metadata": {},
     "output_type": "display_data"
    }
   ],
   "source": [
    "# print statistics and plot charts for PersonClass\n",
    "analyze_feature('PersonClass', ['children', 'male adults', 'female adults', 'seniors'])"
   ]
  },
  {
   "cell_type": "code",
   "execution_count": 44,
   "metadata": {
    "collapsed": false
   },
   "outputs": [
    {
     "data": {
      "image/png": "[encoded data removed]",
      "text/plain": [
       "<matplotlib.figure.Figure at 0xb5bbf90>"
      ]
     },
     "metadata": {},
     "output_type": "display_data"
    }
   ],
   "source": [
    "# print statistics and plot charts for Sex in the seniors group\n",
    "# - boys and girls had almost the same survival rate\n",
    "plot_univariate_analysis('Sex', ['male', 'female'], df[df['PersonClass'] == 'children'])"
   ]
  },
  {
   "cell_type": "code",
   "execution_count": 45,
   "metadata": {
    "collapsed": false
   },
   "outputs": [
    {
     "data": {
      "image/png": "[encoded data removed]",
      "text/plain": [
       "<matplotlib.figure.Figure at 0xb5a3130>"
      ]
     },
     "metadata": {},
     "output_type": "display_data"
    }
   ],
   "source": [
    "# print statistics and plot charts for Sex in the seniors group\n",
    "# - no femaile seniors\n",
    "plot_univariate_analysis('Sex', ['male', 'female'], df[df['PersonClass'] == 'seniors'])"
   ]
  },
  {
   "cell_type": "code",
   "execution_count": 46,
   "metadata": {
    "collapsed": false
   },
   "outputs": [
    {
     "data": {
      "image/png": "[encoded data removed]",
      "text/plain": [
       "<matplotlib.figure.Figure at 0xa1f48f0>"
      ]
     },
     "metadata": {},
     "output_type": "display_data"
    },
    {
     "data": {
      "image/png": "[encoded data removed]",
      "text/plain": [
       "<matplotlib.figure.Figure at 0x9fbce30>"
      ]
     },
     "metadata": {},
     "output_type": "display_data"
    },
    {
     "data": {
      "image/png": "[encoded data removed]",
      "text/plain": [
       "<matplotlib.figure.Figure at 0xbd77950>"
      ]
     },
     "metadata": {},
     "output_type": "display_data"
    }
   ],
   "source": [
    "# print statistics and plot charts by sex and social class\n",
    "# - big difference between the survival rate between the lower class and the other two social classes\n",
    "plot_bivariate_categorical('Sex', 'Pclass', ['male', 'female'])"
   ]
  },
  {
   "cell_type": "code",
   "execution_count": 47,
   "metadata": {
    "collapsed": false
   },
   "outputs": [
    {
     "name": "stdout",
     "output_type": "stream",
     "text": [
      "Descriptive statistics of 'Sex':\n",
      "count      355\n",
      "unique       2\n",
      "top       male\n",
      "freq       253\n",
      "Name: Sex, dtype: object\n",
      "\n",
      "Relative frequencies of 'Sex':\n",
      "male      0.712676\n",
      "female    0.287324\n",
      "Name: Sex, dtype: float64\n",
      "\n",
      "Survival rate of 'Sex':\n",
      "Sex\n",
      "male      0.150198\n",
      "female    0.460784\n",
      "dtype: float64\n",
      "'Sex' and 'Survived' are dependent with 99.9% level of confidence:\n",
      "- χ² statistic = 36.82\n",
      "- p-value = 0.0000\n",
      "- α threshold = 0.001\n",
      "- df = 1\n",
      "- Cramér's V = 0.32\n",
      "\n"
     ]
    },
    {
     "data": {
      "image/png": "[encoded data removed]",
      "text/plain": [
       "<matplotlib.figure.Figure at 0xb81c0b0>"
      ]
     },
     "metadata": {},
     "output_type": "display_data"
    }
   ],
   "source": [
    "# analyze lower class passenger statistics and plot charts by Sex and Survived\n",
    "# - females in the lower class have only a survival rate of 46% \n",
    "analyze_feature('Sex', ['male', 'female'], df[df['Pclass'] == 3])"
   ]
  },
  {
   "cell_type": "code",
   "execution_count": 48,
   "metadata": {
    "collapsed": false
   },
   "outputs": [
    {
     "data": {
      "image/png": "[encoded data removed]",
      "text/plain": [
       "<matplotlib.figure.Figure at 0xb73e430>"
      ]
     },
     "metadata": {},
     "output_type": "display_data"
    },
    {
     "data": {
      "image/png": "[encoded data removed]",
      "text/plain": [
       "<matplotlib.figure.Figure at 0xbc41ab0>"
      ]
     },
     "metadata": {},
     "output_type": "display_data"
    },
    {
     "data": {
      "image/png": "[encoded data removed]",
      "text/plain": [
       "<matplotlib.figure.Figure at 0xa153590>"
      ]
     },
     "metadata": {},
     "output_type": "display_data"
    }
   ],
   "source": [
    "# draws count and survival plots by person class, social class and survived\n",
    "# - children and women in the lower class have a survival rate below 50%\n",
    "plot_bivariate_categorical('PersonClass', 'Pclass', ['children', 'male adults', 'female adults', 'seniors'])"
   ]
  },
  {
   "cell_type": "code",
   "execution_count": 49,
   "metadata": {
    "collapsed": false
   },
   "outputs": [
    {
     "name": "stdout",
     "output_type": "stream",
     "text": [
      "Descriptive statistics of 'PersonClass':\n",
      "count             355\n",
      "unique              4\n",
      "top       male adults\n",
      "freq              225\n",
      "Name: PersonClass, dtype: object\n",
      "\n",
      "Relative frequencies of 'PersonClass':\n",
      "children         0.138028\n",
      "male adults      0.633803\n",
      "female adults    0.219718\n",
      "seniors          0.008451\n",
      "Name: PersonClass, dtype: float64\n",
      "\n",
      "Survival rate of 'PersonClass':\n",
      "PersonClass\n",
      "children         0.428571\n",
      "male adults      0.128889\n",
      "female adults    0.448718\n",
      "seniors          0.000000\n",
      "dtype: float64\n",
      "'PersonClass' and 'Survived' are dependent with 99.9% level of confidence:\n",
      "- χ² statistic = 44.43\n",
      "- p-value = 0.0000\n",
      "- α threshold = 0.001\n",
      "- df = 3\n",
      "- Cramér's V = 0.35\n",
      "\n"
     ]
    },
    {
     "data": {
      "image/png": "[encoded data removed]",
      "text/plain": [
       "<matplotlib.figure.Figure at 0xb740b10>"
      ]
     },
     "metadata": {},
     "output_type": "display_data"
    }
   ],
   "source": [
    "# analyze lower class passenger statistics and plot charts by Sex and Survived\n",
    "# - children had only 43% chance to survive in the lower class\n",
    "# - females had only 45% chance to survive in the lower class\n",
    "analyze_feature('PersonClass', ['children', 'male adults', 'female adults', 'seniors'], df[df['Pclass'] == 3])"
   ]
  },
  {
   "cell_type": "code",
   "execution_count": 50,
   "metadata": {
    "collapsed": false
   },
   "outputs": [
    {
     "name": "stdout",
     "output_type": "stream",
     "text": [
      "Descriptive statistics of 'Pclass':\n",
      "count    160.000000\n",
      "mean       1.875000\n",
      "std        0.806811\n",
      "min        1.000000\n",
      "25%        1.000000\n",
      "50%        2.000000\n",
      "75%        3.000000\n",
      "max        3.000000\n",
      "Name: Pclass, dtype: float64\n",
      "\n",
      "Relative frequencies of 'Pclass':\n",
      "1    0.39375\n",
      "2    0.33750\n",
      "3    0.26875\n",
      "Name: Pclass, dtype: float64\n",
      "\n",
      "Survival rate of 'Pclass':\n",
      "Pclass\n",
      "1    0.968254\n",
      "2    0.888889\n",
      "3    0.395349\n",
      "dtype: float64\n"
     ]
    }
   ],
   "source": [
    "# print survival rates of adults and females by pclass\n",
    "print_feature_statistics('Pclass', df = df[(df.AgeCategory == 'adults') & (df.IsMale == False)])"
   ]
  },
  {
   "cell_type": "markdown",
   "metadata": {
    "deletable": true,
    "editable": true
   },
   "source": [
    "### Conclusion\n",
    "\n",
    "In this project we investigated the titanic data set using data analysis techniques such as descriptive statistics, pearson correlation matrix, chi-square test, cramér's V and various visualizations. \n",
    "\n",
    "We tried to answer the big question - what factors made people more likely to survive? Our answer: the features 'Sex', 'Pclass' and 'Age' had a great influence on the survival chance. E.g. as a woman between 25 and 64 with a first-class ticket you would have more than 97% chance to survive compared to the 38% overall survival rate.\n",
    "\n",
    "For future analysis the following issues should be addressed:\n",
    "* Not all of the \"suspicious\" findings in the exploration phase were analyzed in this report.\n",
    "* In this report entries with missing data (e.g. Age, Cabin or Embarkation) were ignored from the analysis which may lead to some biased results and conclusions.\n",
    "* Not all features and combinations were analyzed in this report. Few features such as fare, number of siblings or parents, port of embarkation, location of cabins etc. were not or only partially explored.\n",
    "* Machine learning techniques could be used to create an appropriate model predicting the survival probabilitiy using historical data.\n",
    "* Additional external information like religion, ethinicity, healthiness or cabin location of the passengers could be helpful to find out even more interesting relationships in the data."
   ]
  },
  {
   "cell_type": "markdown",
   "metadata": {
    "collapsed": true,
    "deletable": true,
    "editable": true
   },
   "source": [
    "## References\n",
    "\n",
    "* [Pandas documentation](http://pandas.pydata.org/pandas-docs/stable/)\n",
    "* [Seaborn documentation](http://seaborn.pydata.org/api.html)\n",
    "* [Matplotlib documentation](http://matplotlib.org/index.html)\n",
    "* [SciPy documentation](https://docs.scipy.org/doc/scipy/reference/)\n",
    "* [Kaggle: Titanic: Machine Learning from Disaster](https://www.kaggle.com/c/titanic/data)\n",
    "* [Wikipedia: Chi-squared test](https://en.wikipedia.org/wiki/Chi-squared_test)\n",
    "* [Wikipedia: Cramér's V](https://en.wikipedia.org/wiki/Cram%C3%A9r's_V)\n"
   ]
  },
  {
   "cell_type": "markdown",
   "metadata": {
    "deletable": true,
    "editable": true
   },
   "source": [
    "## Reproduction Environment"
   ]
  },
  {
   "cell_type": "code",
   "execution_count": 51,
   "metadata": {
    "collapsed": false,
    "deletable": true,
    "editable": true
   },
   "outputs": [
    {
     "name": "stdout",
     "output_type": "stream",
     "text": [
      "{'commit_hash': u'5c9c918',\n",
      " 'commit_source': 'installation',\n",
      " 'default_encoding': 'cp936',\n",
      " 'ipython_path': 'C:\\\\dev\\\\anaconda\\\\lib\\\\site-packages\\\\IPython',\n",
      " 'ipython_version': '5.1.0',\n",
      " 'os_name': 'nt',\n",
      " 'platform': 'Windows-7-6.1.7601-SP1',\n",
      " 'sys_executable': 'C:\\\\dev\\\\anaconda\\\\python.exe',\n",
      " 'sys_platform': 'win32',\n",
      " 'sys_version': '2.7.13 |Anaconda custom (32-bit)| (default, Dec 19 2016, 13:36:02) [MSC v.1500 32 bit (Intel)]'}\n"
     ]
    }
   ],
   "source": [
    "import IPython\n",
    "print IPython.sys_info()"
   ]
  },
  {
   "cell_type": "code",
   "execution_count": 52,
   "metadata": {
    "collapsed": false,
    "deletable": true,
    "editable": true
   },
   "outputs": [
    {
     "name": "stdout",
     "output_type": "stream",
     "text": [
      "alabaster==0.7.9\n",
      "anaconda-client==1.6.0\n",
      "anaconda-navigator==1.4.3\n",
      "argcomplete==1.0.0\n",
      "astroid==1.4.9\n",
      "astropy==1.3\n",
      "Babel==2.3.4\n",
      "backports-abc==0.5\n",
      "backports.shutil-get-terminal-size==1.0.0\n",
      "backports.ssl-match-hostname==3.4.0.2\n",
      "beautifulsoup4==4.5.3\n",
      "bitarray==0.8.1\n",
      "blaze==0.10.1\n",
      "bokeh==0.12.4\n",
      "boto==2.45.0\n",
      "Bottleneck==1.2.0\n",
      "cdecimal==2.3\n",
      "cffi==1.9.1\n",
      "chardet==2.3.0\n",
      "chest==0.2.3\n",
      "click==6.7\n",
      "cloudpickle==0.2.2\n",
      "clyent==1.2.2\n",
      "colorama==0.3.7\n",
      "comtypes==1.1.2\n",
      "conda==4.3.14\n",
      "configobj==5.0.6\n",
      "configparser==3.5.0\n",
      "contextlib2==0.5.4\n",
      "cryptography==1.7.1\n",
      "cycler==0.10.0\n",
      "Cython==0.25.2\n",
      "cytoolz==0.8.2\n",
      "dask==0.13.0\n",
      "datashape==0.5.4\n",
      "decorator==4.0.11\n",
      "dill==0.2.5\n",
      "docutils==0.13.1\n",
      "enum34==1.1.6\n",
      "et-xmlfile==1.0.1\n",
      "fastcache==1.0.2\n",
      "Flask==0.12\n",
      "Flask-Cors==3.0.2\n",
      "funcsigs==1.0.2\n",
      "functools32==3.2.3.post2\n",
      "futures==3.0.5\n",
      "gevent==1.2.1\n",
      "glueviz==0.9.1\n",
      "greenlet==0.4.11\n",
      "grin==1.2.1\n",
      "h5py==2.6.0\n",
      "HeapDict==1.0.0\n",
      "idna==2.2\n",
      "imagesize==0.7.1\n",
      "ipaddress==1.0.18\n",
      "ipykernel==4.5.2\n",
      "ipython==5.1.0\n",
      "ipython-genutils==0.1.0\n",
      "ipywidgets==5.2.2\n",
      "isort==4.2.5\n",
      "itsdangerous==0.24\n",
      "jdcal==1.3\n",
      "jedi==0.9.0\n",
      "Jinja2==2.9.4\n",
      "jsonschema==2.5.1\n",
      "jupyter==1.0.0\n",
      "jupyter-client==4.4.0\n",
      "jupyter-console==5.0.0\n",
      "jupyter-core==4.2.1\n",
      "lazy-object-proxy==1.2.2\n",
      "llvmlite==0.15.0\n",
      "locket==0.2.0\n",
      "lxml==3.7.2\n",
      "MarkupSafe==0.23\n",
      "matplotlib==2.0.0\n",
      "menuinst==1.4.4\n",
      "mistune==0.7.3\n",
      "mpmath==0.19\n",
      "multipledispatch==0.4.9\n",
      "nbconvert==4.2.0\n",
      "nbformat==4.2.0\n",
      "networkx==1.11\n",
      "nltk==3.2.2\n",
      "nose==1.3.7\n",
      "notebook==4.4.1\n",
      "numba==0.30.1+0.g8c1033f.dirty\n",
      "numexpr==2.6.1\n",
      "numpy==1.11.3\n",
      "numpydoc==0.6.0\n",
      "odo==0.5.0\n",
      "openpyxl==2.4.1\n",
      "pandas==0.19.2\n",
      "partd==0.3.7\n",
      "path.py==0.0.0\n",
      "pathlib2==2.2.0\n",
      "patsy==0.4.1\n",
      "pep8==1.7.0\n",
      "pickleshare==0.7.4\n",
      "Pillow==4.0.0\n",
      "ply==3.9\n",
      "prompt-toolkit==1.0.9\n",
      "psutil==5.0.1\n",
      "py==1.4.32\n",
      "pyasn1==0.1.9\n",
      "pycosat==0.6.1\n",
      "pycparser==2.17\n",
      "pycrypto==2.6.1\n",
      "pycurl==7.43.0\n",
      "pyflakes==1.5.0\n",
      "Pygments==2.1.3\n",
      "pylint==1.6.4\n",
      "pyOpenSSL==16.2.0\n",
      "pyparsing==2.1.4\n",
      "pytest==3.0.5\n",
      "python-dateutil==2.6.0\n",
      "pytz==2016.10\n",
      "pywin32==220\n",
      "PyYAML==3.12\n",
      "pyzmq==16.0.2\n",
      "QtAwesome==0.4.3\n",
      "qtconsole==4.2.1\n",
      "QtPy==1.2.1\n",
      "requests==2.12.4\n",
      "rope==0.9.4\n",
      "scandir==1.4\n",
      "scikit-image==0.12.3\n",
      "scikit-learn==0.18.1\n",
      "scipy==0.18.1\n",
      "seaborn==0.7.1\n",
      "simplegeneric==0.8.1\n",
      "singledispatch==3.4.0.3\n",
      "six==1.10.0\n",
      "snowballstemmer==1.2.1\n",
      "sockjs-tornado==1.0.3\n",
      "sphinx==1.5.1\n",
      "spyder==3.1.2\n",
      "SQLAlchemy==1.1.5\n",
      "statsmodels==0.6.1\n",
      "subprocess32==3.2.7\n",
      "sympy==1.0\n",
      "tables==3.2.2\n",
      "toolz==0.8.2\n",
      "tornado==4.4.2\n",
      "traitlets==4.3.1\n",
      "unicodecsv==0.14.1\n",
      "wcwidth==0.1.7\n",
      "Werkzeug==0.11.15\n",
      "widgetsnbextension==1.2.6\n",
      "win-unicode-console==0.5\n",
      "wrapt==1.10.8\n",
      "xlrd==1.0.0\n",
      "XlsxWriter==0.9.6\n",
      "xlwings==0.10.2\n",
      "xlwt==1.2.0\n"
     ]
    }
   ],
   "source": [
    "!pip freeze"
   ]
  },
  {
   "cell_type": "code",
   "execution_count": null,
   "metadata": {
    "collapsed": true,
    "deletable": true,
    "editable": true
   },
   "outputs": [],
   "source": []
  }
 ],
 "metadata": {
  "anaconda-cloud": {},
  "kernelspec": {
   "display_name": "Python 2",
   "language": "python",
   "name": "python2"
  },
  "language_info": {
   "codemirror_mode": {
    "name": "ipython",
    "version": 2
   },
   "file_extension": ".py",
   "mimetype": "text/x-python",
   "name": "python",
   "nbconvert_exporter": "python",
   "pygments_lexer": "ipython2",
   "version": "2.7.13"
  }
 },
 "nbformat": 4,
 "nbformat_minor": 0
}
