{
 "cells": [
  {
   "cell_type": "markdown",
   "metadata": {},
   "source": [
    "# Statistics: Test a Perceptual Phenomenon\n",
    "\n",
    "> Udacity Data Analyst Nanodegree: _Project 1_\n",
    ">\n",
    "> Author: _Ke Zhang_\n",
    ">\n",
    "> Submission Date: _2017-03-28_ (Revision 1)"
   ]
  },
  {
   "cell_type": "markdown",
   "metadata": {},
   "source": [
    "## Background Information\n",
    "\n",
    "In a [Stroop task](https://en.wikipedia.org/wiki/Stroop_effect), participants are presented with a list of words, with each word displayed in a color of ink. The participant’s task is to say out loud the color of the ink in which the word is printed. The task has two conditions: a congruent words condition, and an incongruent words condition. In the congruent words condition, the words being displayed are color words whose names match the colors in which they are printed: for example <span style=\"color:red\">RED</span>, <span style=\"color:blue\">BLUE</span>. In the incongruent words condition, the words displayed are color words whose names do not match the colors in which they are printed: for example <span style=\"color:green\">PURPLE</span>, <span style=\"color:purple\">ORANGE</span>. In each case, we measure the time it takes to name the ink colors in equally-sized lists. Each participant will go through and record a time from each condition.\n"
   ]
  },
  {
   "cell_type": "markdown",
   "metadata": {},
   "source": [
    "## Questions For Investigation\n",
    "\n",
    "> As a general note, be sure to keep a record of any resources that you use or refer to in the creation of your project. You will need to report your sources as part of the project submission."
   ]
  },
  {
   "cell_type": "markdown",
   "metadata": {},
   "source": [
    "**Question 1: What is our independent variable? What is our dependent variable?**\n",
    "\n",
    "**Answer**: \n",
    "* Independent variables: the two congruence conditions on recognizing word/ink colors (_congruent_ vs _incongruent_)\n",
    "* Dependent variables: reaction times (in seconds) between the congruent and incongruent conditions"
   ]
  },
  {
   "cell_type": "markdown",
   "metadata": {},
   "source": [
    "**Question 2: What is an appropriate set of hypotheses for this task? What kind of statistical test do you expect to perform? Justify your choices.**\n",
    "\n",
    "**Answer 2a**: \n",
    "* Null and alternative hypotheses:\n",
    "    * \\\\(μ_C\\\\): population mean of reading time on _Congruent_ words\n",
    "    * \\\\(μ_I\\\\): population mean of reading time on _Incongruent_ words\n",
    "    * \\\\(μ_D\\\\): \\\\(μ_D = μ_I - μ_C\\\\), population mean of differences in reading times between the two congruence groups \n",
    "    * **\\\\(H_0\\\\)**: The congruence conditions have _no effect_ on the mean reading times. The means of the two related congruence groups are effectively identical.\n",
    "        > \\\\(H_0\\\\): \\\\(μ_C = μ_I\\\\) or \\\\(μ_D = 0\\\\)\n",
    "    * **\\\\(H_1\\\\)**: The mean reading times _depend on_ the congruence conditions. The means of the two related groups differ from each other.\n",
    "        > \\\\(H_1\\\\): \\\\(μ_C \\neq μ_I\\\\) or \\\\(μ_D \\neq 0\\\\)\n",
    "\n",
    "**Answer 2b**: \n",
    "* Select an appropriate statistical test:\n",
    "    * Expected statistical test: a 2-tailed dependent t-test to determine whether the means of the two congruence groups are equal:\n",
    "        * The sample cases are collected independently and normal distributions are assumed (see Answer 4). \n",
    "            --> choice between a z- or t-test.\n",
    "        * The sample size is below 30 (only 24 samples) and the population standard deviation is unknown. \n",
    "            --> z-test excluded. Only conditions for t-test apply.\n",
    "        * The hypothesis is not directional. Deviations in both directions are theoretically possible.\n",
    "            --> 2-tailed\n",
    "        * The test compares the means of dependent samples with repeated measures on the two groups.\n",
    "            --> paired-samples dependent t-test\n",
    "    * The 2-tailed dependent t-test is defined as:\n",
    "    > Test statistic: $$t_{statistic} = \\frac{\\bar{X_{D}}}{SE_{D}}$$ \n",
    "    >\n",
    "    > Standard error: $$SE_{D} = \\frac{S_{D}}{\\sqrt{n}}$$\n",
    "    >\n",
    "    > Sample size: $$n = 24$$\n",
    "    >\n",
    "    > Degrees of freedom: $$df = 23$$\n",
    "    >\n",
    "    > Significance level: $$α = 0.05$$\n",
    "    > \n",
    "    > Critical value: $$t_{critical} = t_{1-\\frac{α}2,df}$$\n",
    "    >\n",
    "    > Critical region: $$|t_{statistic}| > t_{critical}$$"
   ]
  },
  {
   "cell_type": "markdown",
   "metadata": {
    "collapsed": true
   },
   "source": [
    "**Q3**: Report some descriptive statistics regarding this dataset. Include at least one measure of central tendency and at least one measure of variability.\n",
    "\n",
    "**Answer**: \n",
    "Descriptive statistics (computed from the calculation steps below):\n",
    "\n",
    "|        | Congruent | Incongruent | Difference |\n",
    "|--------|-----------|-------------|------------|\n",
    "| count  | 24        | 24          | 24         |\n",
    "| min    | 8.6300    | 15.687      | 1.9500    |\n",
    "| 25%    | 11.895    | 18.717      | 3.6455    |\n",
    "| median | 14.357    | 21.018      | 7.6665    |\n",
    "| **mean**   | 14.051    | 22.016      | **7.9648**    |\n",
    "| 75%    | 12.669    | 23.012      | 10.259     |\n",
    "| max    | 22.328    | 35.255      | 21.919    |\n",
    "| var    | 12.669    | 23.012      | 23.667     |\n",
    "| **std**    | 3.5594    | 4.7971      | **4.8648**     |\n",
    "| SE     | .72655   | .97920     | .99302 |"
   ]
  },
  {
   "cell_type": "code",
   "execution_count": 1,
   "metadata": {
    "collapsed": false
   },
   "outputs": [],
   "source": [
    "# import libs used in this project\n",
    "import math\n",
    "from scipy import stats\n",
    "import matplotlib.pyplot as plt\n",
    "import pandas as pd\n",
    "import numpy as np\n",
    "import seaborn as sns\n",
    "\n",
    "# initialize plot context and global configurations\n",
    "%matplotlib inline\n",
    "sns.set(style='white', palette='muted', color_codes=True)\n",
    "sns.set_context('notebook', font_scale=1.2, rc={'lines.linewidth': 1.2})\n"
   ]
  },
  {
   "cell_type": "code",
   "execution_count": 2,
   "metadata": {
    "collapsed": false
   },
   "outputs": [
    {
     "data": {
      "text/html": [
       "<div>\n",
       "<table border=\"1\" class=\"dataframe\">\n",
       "  <thead>\n",
       "    <tr style=\"text-align: right;\">\n",
       "      <th></th>\n",
       "      <th>Congruent</th>\n",
       "      <th>Incongruent</th>\n",
       "      <th>Difference</th>\n",
       "    </tr>\n",
       "  </thead>\n",
       "  <tbody>\n",
       "    <tr>\n",
       "      <th>0</th>\n",
       "      <td>12.079</td>\n",
       "      <td>19.278</td>\n",
       "      <td>7.199</td>\n",
       "    </tr>\n",
       "    <tr>\n",
       "      <th>1</th>\n",
       "      <td>16.791</td>\n",
       "      <td>18.741</td>\n",
       "      <td>1.950</td>\n",
       "    </tr>\n",
       "    <tr>\n",
       "      <th>2</th>\n",
       "      <td>9.564</td>\n",
       "      <td>21.214</td>\n",
       "      <td>11.650</td>\n",
       "    </tr>\n",
       "    <tr>\n",
       "      <th>3</th>\n",
       "      <td>8.630</td>\n",
       "      <td>15.687</td>\n",
       "      <td>7.057</td>\n",
       "    </tr>\n",
       "    <tr>\n",
       "      <th>4</th>\n",
       "      <td>14.669</td>\n",
       "      <td>22.803</td>\n",
       "      <td>8.134</td>\n",
       "    </tr>\n",
       "    <tr>\n",
       "      <th>5</th>\n",
       "      <td>12.238</td>\n",
       "      <td>20.878</td>\n",
       "      <td>8.640</td>\n",
       "    </tr>\n",
       "    <tr>\n",
       "      <th>6</th>\n",
       "      <td>14.692</td>\n",
       "      <td>24.572</td>\n",
       "      <td>9.880</td>\n",
       "    </tr>\n",
       "    <tr>\n",
       "      <th>7</th>\n",
       "      <td>8.987</td>\n",
       "      <td>17.394</td>\n",
       "      <td>8.407</td>\n",
       "    </tr>\n",
       "    <tr>\n",
       "      <th>8</th>\n",
       "      <td>9.401</td>\n",
       "      <td>20.762</td>\n",
       "      <td>11.361</td>\n",
       "    </tr>\n",
       "    <tr>\n",
       "      <th>9</th>\n",
       "      <td>14.480</td>\n",
       "      <td>26.282</td>\n",
       "      <td>11.802</td>\n",
       "    </tr>\n",
       "    <tr>\n",
       "      <th>10</th>\n",
       "      <td>22.328</td>\n",
       "      <td>24.524</td>\n",
       "      <td>2.196</td>\n",
       "    </tr>\n",
       "    <tr>\n",
       "      <th>11</th>\n",
       "      <td>15.298</td>\n",
       "      <td>18.644</td>\n",
       "      <td>3.346</td>\n",
       "    </tr>\n",
       "    <tr>\n",
       "      <th>12</th>\n",
       "      <td>15.073</td>\n",
       "      <td>17.510</td>\n",
       "      <td>2.437</td>\n",
       "    </tr>\n",
       "    <tr>\n",
       "      <th>13</th>\n",
       "      <td>16.929</td>\n",
       "      <td>20.330</td>\n",
       "      <td>3.401</td>\n",
       "    </tr>\n",
       "    <tr>\n",
       "      <th>14</th>\n",
       "      <td>18.200</td>\n",
       "      <td>35.255</td>\n",
       "      <td>17.055</td>\n",
       "    </tr>\n",
       "    <tr>\n",
       "      <th>15</th>\n",
       "      <td>12.130</td>\n",
       "      <td>22.158</td>\n",
       "      <td>10.028</td>\n",
       "    </tr>\n",
       "    <tr>\n",
       "      <th>16</th>\n",
       "      <td>18.495</td>\n",
       "      <td>25.139</td>\n",
       "      <td>6.644</td>\n",
       "    </tr>\n",
       "    <tr>\n",
       "      <th>17</th>\n",
       "      <td>10.639</td>\n",
       "      <td>20.429</td>\n",
       "      <td>9.790</td>\n",
       "    </tr>\n",
       "    <tr>\n",
       "      <th>18</th>\n",
       "      <td>11.344</td>\n",
       "      <td>17.425</td>\n",
       "      <td>6.081</td>\n",
       "    </tr>\n",
       "    <tr>\n",
       "      <th>19</th>\n",
       "      <td>12.369</td>\n",
       "      <td>34.288</td>\n",
       "      <td>21.919</td>\n",
       "    </tr>\n",
       "    <tr>\n",
       "      <th>20</th>\n",
       "      <td>12.944</td>\n",
       "      <td>23.894</td>\n",
       "      <td>10.950</td>\n",
       "    </tr>\n",
       "    <tr>\n",
       "      <th>21</th>\n",
       "      <td>14.233</td>\n",
       "      <td>17.960</td>\n",
       "      <td>3.727</td>\n",
       "    </tr>\n",
       "    <tr>\n",
       "      <th>22</th>\n",
       "      <td>19.710</td>\n",
       "      <td>22.058</td>\n",
       "      <td>2.348</td>\n",
       "    </tr>\n",
       "    <tr>\n",
       "      <th>23</th>\n",
       "      <td>16.004</td>\n",
       "      <td>21.157</td>\n",
       "      <td>5.153</td>\n",
       "    </tr>\n",
       "  </tbody>\n",
       "</table>\n",
       "</div>"
      ],
      "text/plain": [
       "    Congruent  Incongruent  Difference\n",
       "0      12.079       19.278       7.199\n",
       "1      16.791       18.741       1.950\n",
       "2       9.564       21.214      11.650\n",
       "3       8.630       15.687       7.057\n",
       "4      14.669       22.803       8.134\n",
       "5      12.238       20.878       8.640\n",
       "6      14.692       24.572       9.880\n",
       "7       8.987       17.394       8.407\n",
       "8       9.401       20.762      11.361\n",
       "9      14.480       26.282      11.802\n",
       "10     22.328       24.524       2.196\n",
       "11     15.298       18.644       3.346\n",
       "12     15.073       17.510       2.437\n",
       "13     16.929       20.330       3.401\n",
       "14     18.200       35.255      17.055\n",
       "15     12.130       22.158      10.028\n",
       "16     18.495       25.139       6.644\n",
       "17     10.639       20.429       9.790\n",
       "18     11.344       17.425       6.081\n",
       "19     12.369       34.288      21.919\n",
       "20     12.944       23.894      10.950\n",
       "21     14.233       17.960       3.727\n",
       "22     19.710       22.058       2.348\n",
       "23     16.004       21.157       5.153"
      ]
     },
     "execution_count": 2,
     "metadata": {},
     "output_type": "execute_result"
    }
   ],
   "source": [
    "# prepare and preview data\n",
    "df = pd.read_csv('./stroopdata.csv')\n",
    "df['Difference'] = df['Incongruent'] - df['Congruent']\n",
    "\n",
    "# print dataframe\n",
    "df"
   ]
  },
  {
   "cell_type": "code",
   "execution_count": 3,
   "metadata": {
    "collapsed": false
   },
   "outputs": [
    {
     "data": {
      "text/html": [
       "<div>\n",
       "<table border=\"1\" class=\"dataframe\">\n",
       "  <thead>\n",
       "    <tr style=\"text-align: right;\">\n",
       "      <th></th>\n",
       "      <th>Congruent</th>\n",
       "      <th>Incongruent</th>\n",
       "      <th>Difference</th>\n",
       "    </tr>\n",
       "  </thead>\n",
       "  <tbody>\n",
       "    <tr>\n",
       "      <th>count</th>\n",
       "      <td>24.000000</td>\n",
       "      <td>24.000000</td>\n",
       "      <td>24.000000</td>\n",
       "    </tr>\n",
       "    <tr>\n",
       "      <th>mean</th>\n",
       "      <td>14.051125</td>\n",
       "      <td>22.015917</td>\n",
       "      <td>7.964792</td>\n",
       "    </tr>\n",
       "    <tr>\n",
       "      <th>std</th>\n",
       "      <td>3.559358</td>\n",
       "      <td>4.797057</td>\n",
       "      <td>4.864827</td>\n",
       "    </tr>\n",
       "    <tr>\n",
       "      <th>min</th>\n",
       "      <td>8.630000</td>\n",
       "      <td>15.687000</td>\n",
       "      <td>1.950000</td>\n",
       "    </tr>\n",
       "    <tr>\n",
       "      <th>25%</th>\n",
       "      <td>11.895250</td>\n",
       "      <td>18.716750</td>\n",
       "      <td>3.645500</td>\n",
       "    </tr>\n",
       "    <tr>\n",
       "      <th>50%</th>\n",
       "      <td>14.356500</td>\n",
       "      <td>21.017500</td>\n",
       "      <td>7.666500</td>\n",
       "    </tr>\n",
       "    <tr>\n",
       "      <th>75%</th>\n",
       "      <td>16.200750</td>\n",
       "      <td>24.051500</td>\n",
       "      <td>10.258500</td>\n",
       "    </tr>\n",
       "    <tr>\n",
       "      <th>max</th>\n",
       "      <td>22.328000</td>\n",
       "      <td>35.255000</td>\n",
       "      <td>21.919000</td>\n",
       "    </tr>\n",
       "  </tbody>\n",
       "</table>\n",
       "</div>"
      ],
      "text/plain": [
       "       Congruent  Incongruent  Difference\n",
       "count  24.000000    24.000000   24.000000\n",
       "mean   14.051125    22.015917    7.964792\n",
       "std     3.559358     4.797057    4.864827\n",
       "min     8.630000    15.687000    1.950000\n",
       "25%    11.895250    18.716750    3.645500\n",
       "50%    14.356500    21.017500    7.666500\n",
       "75%    16.200750    24.051500   10.258500\n",
       "max    22.328000    35.255000   21.919000"
      ]
     },
     "execution_count": 3,
     "metadata": {},
     "output_type": "execute_result"
    }
   ],
   "source": [
    "# show statistics\n",
    "df.describe()"
   ]
  },
  {
   "cell_type": "code",
   "execution_count": 4,
   "metadata": {
    "collapsed": false
   },
   "outputs": [
    {
     "data": {
      "text/plain": [
       "Congruent      12.669029\n",
       "Incongruent    23.011757\n",
       "Difference     23.666541\n",
       "dtype: float64"
      ]
     },
     "execution_count": 4,
     "metadata": {},
     "output_type": "execute_result"
    }
   ],
   "source": [
    "# sample variance\n",
    "df.var()"
   ]
  },
  {
   "cell_type": "code",
   "execution_count": 5,
   "metadata": {
    "collapsed": false
   },
   "outputs": [
    {
     "data": {
      "text/plain": [
       "Congruent      0.726551\n",
       "Incongruent    0.979195\n",
       "Difference     0.993029\n",
       "dtype: float64"
      ]
     },
     "execution_count": 5,
     "metadata": {},
     "output_type": "execute_result"
    }
   ],
   "source": [
    "# sample standard error\n",
    "df.std() / math.sqrt(len(df))"
   ]
  },
  {
   "cell_type": "markdown",
   "metadata": {},
   "source": [
    "**Q4**: Provide one or two visualizations that show the distribution of the sample data. Write one or two sentences noting what you observe about the plot or plots.\n",
    "\n",
    "**Answer**: The plot below shows histograms, kernel density functions (KDE) and means of the two congruency conditions and their differences respectively. \n",
    "\n",
    "Observations in the plot:\n",
    "> **Normal**: In the \"Difference Reaction Time Distribution\" the KDE function has a nearly normal shape and the mean of difference (the dashed vertical line) is situated close to the peak.\n",
    ">\n",
    "> **Skewness**: All values in the difference histogram are positive. The KDE function is left skewed (more values to the right of the distribution)\n",
    ">\n",
    "> **Outliers**: The histogram of incongruent shows a second peak with two extreme values (near 35 seconds reaction time). In my opinion, these points are not too far away to be declared as outliers. And from a practical point of view I've experienced short blackouts during the Stroop task myself. So I'll consider the extreme values as valid and continue the analysis without removing them."
   ]
  },
  {
   "cell_type": "code",
   "execution_count": 6,
   "metadata": {
    "collapsed": false
   },
   "outputs": [
    {
     "data": {
      "image/png": "[encoded data removed]",
      "text/plain": [
       "<matplotlib.figure.Figure at 0x9b4e1b0>"
      ]
     },
     "metadata": {},
     "output_type": "display_data"
    },
    {
     "data": {
      "image/png": "[encoded data removed]",
      "text/plain": [
       "<matplotlib.figure.Figure at 0x9c67fb0>"
      ]
     },
     "metadata": {},
     "output_type": "display_data"
    },
    {
     "data": {
      "image/png": "[encoded data removed]",
      "text/plain": [
       "<matplotlib.figure.Figure at 0x9d5edb0>"
      ]
     },
     "metadata": {},
     "output_type": "display_data"
    }
   ],
   "source": [
    "def plot_distribution(data, subject, color, xlim):\n",
    "    \"\"\"\n",
    "    Draws distribution plot with histograms, kernel density plot and mean as vertical line.\n",
    "    \"\"\"\n",
    "    sns.plt.figure(figsize=(9, 2))\n",
    "    sns.plt.xlim(xlim)\n",
    "    # plot the differences distribution with a histogram, kernel density estimate and rug plot    \n",
    "    sns.distplot(data, \n",
    "                 label='{0} Histogram'.format(subject),\n",
    "                 color=color,\n",
    "                 kde=True,\n",
    "                 rug=True,\n",
    "                 hist_kws={'alpha': .5},\n",
    "                 kde_kws={'label': '{0} KDE'.format(subject)})\n",
    "    # use vline to draw the mean of differences as a vertical line\n",
    "    sns.plt.axvline(data.mean(),\n",
    "               label='{0} Mean'.format(subject),\n",
    "               color=color,\n",
    "               linestyle='dashed',\n",
    "               linewidth=3)\n",
    "    sns.plt.title('{0} Reaction Time Distribution'.format(subject))\n",
    "    sns.plt.xlabel('Reaction Times (seconds)')\n",
    "    sns.plt.ylabel('Density')\n",
    "    sns.plt.legend()\n",
    "    \n",
    "# draw plots\n",
    "plot_distribution(df['Difference'], 'Difference', 'r', [-10, 40])\n",
    "plot_distribution(df['Congruent'], 'Congruent', 'b', [0, 50])\n",
    "plot_distribution(df['Incongruent'], 'Incongruent', 'g', [0, 50])\n",
    "\n",
    "sns.plt.show()"
   ]
  },
  {
   "cell_type": "markdown",
   "metadata": {},
   "source": [
    "**Q5**: Now, perform the statistical test and report your results. What is your confidence level and your critical statistic value? Do you reject the null hypothesis or fail to reject it? Come to a conclusion in terms of the experiment task. Did the results match up with your expectations?\n",
    "\n",
    "**Answer**: \n",
    "\n",
    "| t-statistic | df | p-value      | \\\\(\\bar{x_{D}}\\\\) | t-critical | 95% CI lower | 95% CI upper |\n",
    "|:-----------:|---:|--------------|--------------|--------|----------|----------|\n",
    "|     8.02    | 23 | .00000       | 7.96         | ±2.069 | 5.91     | 10.02    |\n",
    "\n",
    "Since p<.001, we **reject** \\\\(H_0\\\\) that the means of the two congruence groups are equal and conclude that the mean reaction time of congruent group is significantly different than the average reaction time of the incongruent group.\n",
    "\n",
    "Based on the results, we can state the following:\n",
    "* There is a significant difference in mean reaction time between the congruent and incongruent groups (p < .001).\n",
    "* The mean reaction time of incongruent group is statistically about 6 seconds slower than the congruent group at least.\n",
    "\n",
    "The result matches my expectations and proves that reading time is affected by the incongruent conditions which makes participants take longer on the test. In the online test I make the same experience that the incongruent tasks are more difficult and require more time to read.\n"
   ]
  },
  {
   "cell_type": "code",
   "execution_count": 7,
   "metadata": {
    "collapsed": false
   },
   "outputs": [
    {
     "name": "stdout",
     "output_type": "stream",
     "text": [
      "sample size: n=24\n",
      "degrees of freedom: df=23\n",
      "alpha-threshold: α=24\n",
      "mean: 7.96\n",
      "standard deviation: 4.86\n",
      "standard error: se=0.99\n",
      "2-tailed t-critical based on α-level and df: ±2.07\n",
      "95% CI: (5.91, 10.02)\n",
      "t-statistic: t=8.02\n",
      "p-value: p=0.0000000439\n",
      "cohen's d: 1.64 (> 1.20 ==> very large effect size)\n"
     ]
    }
   ],
   "source": [
    "test_data = df['Difference']\n",
    "\n",
    "n = len(test_data)\n",
    "print('sample size: n={0}'.format(n))\n",
    "print('degrees of freedom: df={0}'.format(n - 1))\n",
    "\n",
    "a = 0.05\n",
    "print('alpha-threshold: α={0}'.format(n))\n",
    "\n",
    "mean = test_data.mean()\n",
    "print('mean: {0:.2f}'.format(mean))\n",
    "\n",
    "std = test_data.std()\n",
    "print('standard deviation: {0:.2f}'.format(std))\n",
    "\n",
    "se = std / math.sqrt(n)\n",
    "print('standard error: se={0:.2f}'.format(se))\n",
    "\n",
    "# t-table: https://s3.amazonaws.com/udacity-hosted-downloads/t-table.jpg\n",
    "t_crit = 2.069\n",
    "print('2-tailed t-critical based on α-level and df: ±{0:.2f}'.format(t_crit))\n",
    "\n",
    "ci_lower = mean - t_crit * se\n",
    "ci_upper = mean + t_crit * se\n",
    "print('95% CI: ({0:.2f}, {1:.2f})'.format(ci_lower, ci_upper))\n",
    "\n",
    "t_statistic = mean / se\n",
    "print('t-statistic: t={0:.2f}'.format(t_statistic))\n",
    "\n",
    "p_value = stats.t.pdf(t_statistic, n - 1)\n",
    "print('p-value: p={0:.10f}'.format(p_value))\n",
    "\n",
    "cohens_d = mean / std\n",
    "print(\"cohen's d: {0:.2f} (> 1.20 ==> very large effect size)\".format(cohens_d))\n"
   ]
  },
  {
   "cell_type": "markdown",
   "metadata": {},
   "source": [
    "**Q6**: Optional: What do you think is responsible for the effects observed? Can you think of an alternative or similar task that would result in a similar effect? Some research about the problem will be helpful for thinking about these two questions!\n",
    "\n",
    "**Answer**: \n",
    "\n",
    "I suspect that our subconsciousness is somehow responsible for the effect observed by the Stroop task. Actually there're several theories listed on Wikipedia trying to explain this perceptual phenomenon:\n",
    "* Processing speed: a lag in the brain's ability to recognize the color of the word since the brain reads words faster than it recognizes colors.\n",
    "* Selective attention: color recognition as opposed to reading a word, requires more attention, the brain needs to use more attention to recognize a color than to word encoding, so it takes a little longer.\n",
    "* Automaticity: since recognizing colors is not an \"automatic process\" there is hesitancy to respond; whereas, the brain automatically understands the meaning of words as a result of habitual reading.\n",
    "* Parallel distributed processing: as the brain analyzes information, different and specific pathways are developed for different tasks.\n",
    "\n",
    "A few variations of the Stroop task that may produce similar effects:\n",
    "* Bilingualism: incongurency in animals names in different languages\n",
    "* Warped Words: words printed in distorted way making it difficult to read\n",
    "* Emotional: incongruence in negative and neutral emotional words\n"
   ]
  },
  {
   "cell_type": "markdown",
   "metadata": {
    "collapsed": true
   },
   "source": [
    "## References\n",
    "\n",
    "* [Pandas documentation](http://pandas.pydata.org/pandas-docs/stable/10min.html)\n",
    "* [Matplotlib Documentation](http://matplotlib.org/index.html)\n",
    "* [SciPy documentation](http://docs.scipy.org/doc/scipy/reference/generated/scipy.stats.ttest_rel.html)\n",
    "* [Stroop effect](https://en.wikipedia.org/wiki/Stroop_effect)\n",
    "* [Udacity. T-Table](https://s3.amazonaws.com/udacity-hosted-downloads/t-table.jpg)\n",
    "* [Statistics HowTo - When to use a t-score vs z-score?](http://www.statisticshowto.com/when­to­use­a­t­score­vs­z­score/)"
   ]
  },
  {
   "cell_type": "markdown",
   "metadata": {},
   "source": [
    "## Reproduction Environment"
   ]
  },
  {
   "cell_type": "code",
   "execution_count": 8,
   "metadata": {
    "collapsed": false
   },
   "outputs": [
    {
     "name": "stdout",
     "output_type": "stream",
     "text": [
      "{'commit_hash': u'5c9c918',\n",
      " 'commit_source': 'installation',\n",
      " 'default_encoding': 'cp936',\n",
      " 'ipython_path': 'C:\\\\dev\\\\anaconda\\\\lib\\\\site-packages\\\\IPython',\n",
      " 'ipython_version': '5.1.0',\n",
      " 'os_name': 'nt',\n",
      " 'platform': 'Windows-7-6.1.7601-SP1',\n",
      " 'sys_executable': 'C:\\\\dev\\\\anaconda\\\\python.exe',\n",
      " 'sys_platform': 'win32',\n",
      " 'sys_version': '2.7.13 |Anaconda 4.3.0 (32-bit)| (default, Dec 19 2016, 13:36:02) [MSC v.1500 32 bit (Intel)]'}\n"
     ]
    }
   ],
   "source": [
    "import IPython\n",
    "print IPython.sys_info()"
   ]
  },
  {
   "cell_type": "code",
   "execution_count": 9,
   "metadata": {
    "collapsed": false
   },
   "outputs": [
    {
     "name": "stdout",
     "output_type": "stream",
     "text": [
      "alabaster==0.7.9\n",
      "anaconda-client==1.6.0\n",
      "anaconda-navigator==1.4.3\n",
      "argcomplete==1.0.0\n",
      "astroid==1.4.9\n",
      "astropy==1.3\n",
      "Babel==2.3.4\n",
      "backports-abc==0.5\n",
      "backports.shutil-get-terminal-size==1.0.0\n",
      "backports.ssl-match-hostname==3.4.0.2\n",
      "beautifulsoup4==4.5.3\n",
      "bitarray==0.8.1\n",
      "blaze==0.10.1\n",
      "bokeh==0.12.4\n",
      "boto==2.45.0\n",
      "Bottleneck==1.2.0\n",
      "cdecimal==2.3\n",
      "cffi==1.9.1\n",
      "chardet==2.3.0\n",
      "chest==0.2.3\n",
      "click==6.7\n",
      "cloudpickle==0.2.2\n",
      "clyent==1.2.2\n",
      "colorama==0.3.7\n",
      "comtypes==1.1.2\n",
      "conda==4.3.11\n",
      "configobj==5.0.6\n",
      "configparser==3.5.0\n",
      "contextlib2==0.5.4\n",
      "cryptography==1.7.1\n",
      "cycler==0.10.0\n",
      "Cython==0.25.2\n",
      "cytoolz==0.8.2\n",
      "dask==0.13.0\n",
      "datashape==0.5.4\n",
      "decorator==4.0.11\n",
      "dill==0.2.5\n",
      "docutils==0.13.1\n",
      "enum34==1.1.6\n",
      "et-xmlfile==1.0.1\n",
      "fastcache==1.0.2\n",
      "Flask==0.12\n",
      "Flask-Cors==3.0.2\n",
      "funcsigs==1.0.2\n",
      "functools32==3.2.3.post2\n",
      "futures==3.0.5\n",
      "gevent==1.2.1\n",
      "glueviz==0.9.1\n",
      "greenlet==0.4.11\n",
      "grin==1.2.1\n",
      "h5py==2.6.0\n",
      "HeapDict==1.0.0\n",
      "idna==2.2\n",
      "imagesize==0.7.1\n",
      "ipaddress==1.0.18\n",
      "ipykernel==4.5.2\n",
      "ipython==5.1.0\n",
      "ipython-genutils==0.1.0\n",
      "ipywidgets==5.2.2\n",
      "isort==4.2.5\n",
      "itsdangerous==0.24\n",
      "jdcal==1.3\n",
      "jedi==0.9.0\n",
      "Jinja2==2.9.4\n",
      "jsonschema==2.5.1\n",
      "jupyter==1.0.0\n",
      "jupyter-client==4.4.0\n",
      "jupyter-console==5.0.0\n",
      "jupyter-core==4.2.1\n",
      "lazy-object-proxy==1.2.2\n",
      "llvmlite==0.15.0\n",
      "locket==0.2.0\n",
      "lxml==3.7.2\n",
      "MarkupSafe==0.23\n",
      "matplotlib==2.0.0\n",
      "menuinst==1.4.4\n",
      "mistune==0.7.3\n",
      "mpmath==0.19\n",
      "multipledispatch==0.4.9\n",
      "nbconvert==4.2.0\n",
      "nbformat==4.2.0\n",
      "networkx==1.11\n",
      "nltk==3.2.2\n",
      "nose==1.3.7\n",
      "notebook==4.3.1\n",
      "numba==0.30.1+0.g8c1033f.dirty\n",
      "numexpr==2.6.1\n",
      "numpy==1.11.3\n",
      "numpydoc==0.6.0\n",
      "odo==0.5.0\n",
      "openpyxl==2.4.1\n",
      "pandas==0.19.2\n",
      "partd==0.3.7\n",
      "path.py==0.0.0\n",
      "pathlib2==2.2.0\n",
      "patsy==0.4.1\n",
      "pep8==1.7.0\n",
      "pickleshare==0.7.4\n",
      "Pillow==4.0.0\n",
      "ply==3.9\n",
      "prompt-toolkit==1.0.9\n",
      "psutil==5.0.1\n",
      "py==1.4.32\n",
      "pyasn1==0.1.9\n",
      "pycosat==0.6.1\n",
      "pycparser==2.17\n",
      "pycrypto==2.6.1\n",
      "pycurl==7.43.0\n",
      "pyflakes==1.5.0\n",
      "Pygments==2.1.3\n",
      "pylint==1.6.4\n",
      "pyOpenSSL==16.2.0\n",
      "pyparsing==2.1.4\n",
      "pytest==3.0.5\n",
      "python-dateutil==2.6.0\n",
      "pytz==2016.10\n",
      "pywin32==220\n",
      "PyYAML==3.12\n",
      "pyzmq==16.0.2\n",
      "QtAwesome==0.4.3\n",
      "qtconsole==4.2.1\n",
      "QtPy==1.2.1\n",
      "requests==2.12.4\n",
      "rope==0.9.4\n",
      "scandir==1.4\n",
      "scikit-image==0.12.3\n",
      "scikit-learn==0.18.1\n",
      "scipy==0.18.1\n",
      "seaborn==0.7.1\n",
      "simplegeneric==0.8.1\n",
      "singledispatch==3.4.0.3\n",
      "six==1.10.0\n",
      "snowballstemmer==1.2.1\n",
      "sockjs-tornado==1.0.3\n",
      "sphinx==1.5.1\n",
      "spyder==3.1.2\n",
      "SQLAlchemy==1.1.5\n",
      "statsmodels==0.6.1\n",
      "subprocess32==3.2.7\n",
      "sympy==1.0\n",
      "tables==3.2.2\n",
      "toolz==0.8.2\n",
      "tornado==4.4.2\n",
      "traitlets==4.3.1\n",
      "unicodecsv==0.14.1\n",
      "wcwidth==0.1.7\n",
      "Werkzeug==0.11.15\n",
      "widgetsnbextension==1.2.6\n",
      "win-unicode-console==0.5\n",
      "wrapt==1.10.8\n",
      "xlrd==1.0.0\n",
      "XlsxWriter==0.9.6\n",
      "xlwings==0.10.2\n",
      "xlwt==1.2.0\n"
     ]
    }
   ],
   "source": [
    "!pip freeze"
   ]
  },
  {
   "cell_type": "code",
   "execution_count": null,
   "metadata": {
    "collapsed": true
   },
   "outputs": [],
   "source": []
  }
 ],
 "metadata": {
  "anaconda-cloud": {},
  "kernelspec": {
   "display_name": "Python 2",
   "language": "python",
   "name": "python2"
  },
  "language_info": {
   "codemirror_mode": {
    "name": "ipython",
    "version": 2
   },
   "file_extension": ".py",
   "mimetype": "text/x-python",
   "name": "python",
   "nbconvert_exporter": "python",
   "pygments_lexer": "ipython2",
   "version": "2.7.13"
  }
 },
 "nbformat": 4,
 "nbformat_minor": 0
}
