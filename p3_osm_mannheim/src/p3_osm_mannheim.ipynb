{
 "cells": [
  {
   "cell_type": "markdown",
   "metadata": {
    "deletable": true,
    "editable": true
   },
   "source": [
    "# Data Wrangling with MongoDB: Wrangle OpenStreetMap Data\n",
    "\n",
    "> Udacity Data Analyst Nanodegree: _Project 3_\n",
    ">\n",
    "> Author: _Ke Zhang_\n",
    ">\n",
    "> Submission Date: _2017-04-02_ (Revision 2)"
   ]
  },
  {
   "cell_type": "markdown",
   "metadata": {
    "deletable": true,
    "editable": true
   },
   "source": [
    "## Abstract\n",
    "\n",
    "Mannheim is my hometown, so it's in my own interest to learn more about this beautiful city.\n",
    "\n",
    "**Map Area of Interest**:\n",
    "- Location: Mannheim, Baden-Württemberg, Germany\n",
    "- Bounding-Box of Mannheim:\n",
    "> \"bbox\": [\n",
    ">     8.42284118611036,\n",
    ">     49.41108149999997,\n",
    ">     8.60025536544691,\n",
    ">     49.56820147348702\n",
    "> ]\n",
    "- [Mannheim on OpenStreetMap](https://tools.wmflabs.org/wiwosm/osm-on-ol/kml-on-ol.php?lang=de&uselang=de&params=49.483611111111_N_8.4630555555556_E_region%3ADE-BW_type%3Acity%28305780%29&title=Mannheim&zoom=10&lat=49.50051&lon=8.50208&layers=B0000000FTTTF)\n",
    "- [Mannheim on Wikipedia](https://en.wikipedia.org/wiki/Mannheim)\n",
    "- [Mannheim on OpenStreetMap Wiki](http://wiki.openstreetmap.org/wiki/Mannheim)"
   ]
  },
  {
   "cell_type": "markdown",
   "metadata": {
    "deletable": true,
    "editable": true
   },
   "source": [
    "## Content\n",
    "\n",
    "- [Data Preparation and Preview](#Data-Preparation-and-Preview)\n",
    "- [Problems Encountered in the Map](#Problems-Encountered-in-the-Map)\n",
    "    - [**Problem 1**: Typographical errors in city names](#Problem-1:-Typographical-errors-in-city-names)\n",
    "    - [**Problem 2**: Inconsistent provider names](#Problem-2:-Inconsistent-operator-names)\n",
    "    - [**Problem 3**: Existing fixme, todo and note entries](#Problem-3:-Existing-fixme,-todo-and-note-entries)\n",
    "    - [**Problem 4**: Non-numeric max speed presentation](#Problem-4:-Non-numeric-max-speed-representation)\n",
    "    - [**Problem 5**: Street names without using the German 'ß'](#Problem-5:-Street-names-without-using-the-German-%27%C3%9F%27)\n",
    "- [Data Overview](#Data-Overview)\n",
    "    - [Import](#Import)\n",
    "    - [Exploration](#Exploration)\n",
    "- [Additional Ideas](#Additional-Ideas)\n",
    "    - [**Idea 1**: Top cuisines](#Idea-1:-Top-cuisines)\n",
    "    - [**Idea 2**: Popular fast food](#Idea-2:-Popular-fast-food)\n",
    "    - [**Idea 3**: Recently opened restaurants](#Idea-3:-Recently-opened-restaurants)\n",
    "    - [**Idea 4**: Postcode areas without kindergartens](#Idea-4:-Postcodes-without-kindergartens)\n",
    "    - [**Idea 5**: User activities over years](#Idea-5:-User-activities-over-years)\n",
    "- [Conclusion](#Conclusion)"
   ]
  },
  {
   "cell_type": "markdown",
   "metadata": {
    "deletable": true,
    "editable": true
   },
   "source": [
    "## Data Preparation and Preview\n",
    "\n",
    "**Map Data Set**\n",
    "\n",
    "* The Map OSM file of Mannheim (Germany) was downladed via [MapZen: Custom Extract Service](https://mapzen.com)\n",
    "    * Extraction Date: 2017-03-31\n",
    "* The sample OSM file was exported using the 'sample.py' script (see [Data Overview](Data-Overview)\n",
    "\n",
    "**Quick Exploration**:\n",
    "\n",
    "We used the sample OSM file for the quick exploration.\n",
    "\n",
    "* **Tag-Names** in the map data using the 'mapparser.py' script:\n",
    "    * There are 7 tags found in the sample osm file. Frequencies of the tags are as follows:\n",
    "\n",
    "| Tag | # absolute | # relative |\n",
    "|-----|------------|------------|\n",
    "| member | 2068 | 2% |\n",
    "| nd | 41329 | 37% |\n",
    "| node | 29024 | 26% |\n",
    "| osm | 1 | 0% |\n",
    "| relation | 158 | 0% |\n",
    "| tag | 32454 | 30% |\n",
    "| way | 6179 | 6% |\n",
    "\n",
    "* **Tag-Keys** in Tag elements using the 'tags.py' script:\n",
    "\n",
    "| Key | # absolute | # relative |\n",
    "|-----|------------|------------|\n",
    "| lower | 18869 | 58% |\n",
    "| lower_colon | 12829 | 40% |\n",
    "| other | 756 | 2% |\n",
    "| problemchars | 0 | 0% |\n",
    "\n",
    "* **Unique contributing users** using the 'users.py' script:\n",
    "    * Unique user IDs: 500\n"
   ]
  },
  {
   "cell_type": "code",
   "execution_count": 1,
   "metadata": {
    "collapsed": false,
    "deletable": true,
    "editable": true
   },
   "outputs": [],
   "source": [
    "# load custom script file for this project\n",
    "import p3_osm_mannheim as prj\n",
    "import pandas as pd\n",
    "\n",
    "# initialize plot context and global configurations\n",
    "%matplotlib inline\n",
    "\n",
    "# initialize global imports and settings\n",
    "MAP_FILE = prj.get_absolute_file_path('./data/raw_xml_mannheim_germany.osm')\n",
    "SAMPLE_FILE = prj.get_absolute_file_path('./data/sample.osm')\n",
    "OSM_DB = 'osm'\n",
    "MAP_COLLECTION = 'mannheim'\n",
    "SAMPLE_COLLECTION = 'mannheim_sample'"
   ]
  },
  {
   "cell_type": "code",
   "execution_count": 2,
   "metadata": {
    "collapsed": false,
    "deletable": true,
    "editable": true
   },
   "outputs": [
    {
     "name": "stdout",
     "output_type": "stream",
     "text": [
      "1 loop, best of 1: 1min 50s per loop\n"
     ]
    }
   ],
   "source": [
    "%%timeit -n1 -r1\n",
    "\n",
    "# exports sample osm file (k=30) and timeit\n",
    "%run ./sample.py -i {MAP_FILE} -o {SAMPLE_FILE} -k 30"
   ]
  },
  {
   "cell_type": "code",
   "execution_count": 3,
   "metadata": {
    "collapsed": false,
    "deletable": true,
    "editable": true
   },
   "outputs": [
    {
     "name": "stdout",
     "output_type": "stream",
     "text": [
      "Absolute frequencies of 'Tag':\n",
      "member       2068\n",
      "nd          41329\n",
      "node        29024\n",
      "osm             1\n",
      "relation      158\n",
      "tag         32454\n",
      "way          6179\n",
      "Name: Tag, dtype: int64\n",
      "\n",
      "Relative frequencies of 'Tag' [%]:\n",
      "member       1.859495\n",
      "nd          37.162022\n",
      "node        26.097668\n",
      "osm          0.000899\n",
      "relation     0.142070\n",
      "tag         29.181840\n",
      "way          5.556005\n",
      "Name: Tag, dtype: float64\n",
      "\n"
     ]
    },
    {
     "data": {
      "image/png": "[encoded data removed]",
      "text/plain": [
       "<matplotlib.figure.Figure at 0xd76dd30>"
      ]
     },
     "metadata": {},
     "output_type": "display_data"
    }
   ],
   "source": [
    "# parses the sample map file and find out tag names and their distributions\n",
    "import mapparser\n",
    "\n",
    "tags = mapparser.count_tags(SAMPLE_FILE)\n",
    "tags_df = prj.to_dataframe('Tag', tags)\n",
    "prj.print_frequencies(tags_df)\n",
    "prj.plot_frequencies(tags_df)"
   ]
  },
  {
   "cell_type": "code",
   "execution_count": 4,
   "metadata": {
    "collapsed": false,
    "deletable": true,
    "editable": true
   },
   "outputs": [
    {
     "name": "stdout",
     "output_type": "stream",
     "text": [
      "Absolute frequencies of 'Key':\n",
      "lower           18869\n",
      "lower_colon     12829\n",
      "other             756\n",
      "problemchars        0\n",
      "Name: Key, dtype: int64\n",
      "\n",
      "Relative frequencies of 'Key' [%]:\n",
      "lower           58.140753\n",
      "lower_colon     39.529796\n",
      "other            2.329451\n",
      "problemchars     0.000000\n",
      "Name: Key, dtype: float64\n",
      "\n"
     ]
    },
    {
     "data": {
      "image/png": "[encoded data removed]",
      "text/plain": [
       "<matplotlib.figure.Figure at 0x9c61170>"
      ]
     },
     "metadata": {},
     "output_type": "display_data"
    }
   ],
   "source": [
    "# explore \"k\" value for each \"<tag>\" and check for any potential problems:\n",
    "# - \"lower\", for tags that contain only lowercase letters and are valid,\n",
    "# - \"lower_colon\", for otherwise valid tags with a colon in their names,\n",
    "# - \"problemchars\", for tags with problematic characters, and\n",
    "# - \"other\", for other tags that do not fall into the other three categories.\n",
    "import tags\n",
    "\n",
    "keys = tags.process_map(SAMPLE_FILE)\n",
    "keys_df = prj.to_dataframe('Key', keys)\n",
    "prj.print_frequencies(keys_df)\n",
    "prj.plot_frequencies(keys_df)"
   ]
  },
  {
   "cell_type": "code",
   "execution_count": 5,
   "metadata": {
    "collapsed": false,
    "deletable": true,
    "editable": true
   },
   "outputs": [
    {
     "name": "stdout",
     "output_type": "stream",
     "text": [
      "Unique user uids: 500\n"
     ]
    }
   ],
   "source": [
    "# explore \"uid\" to find out how many unique users have contributed to the map\n",
    "import users\n",
    "\n",
    "unique_users = users.process_map(SAMPLE_FILE)\n",
    "print('Unique user uids: {0}'.format(len(unique_users)))"
   ]
  },
  {
   "cell_type": "code",
   "execution_count": 6,
   "metadata": {
    "collapsed": false,
    "deletable": true,
    "editable": true
   },
   "outputs": [
    {
     "data": {
      "text/html": [
       "<div>\n",
       "<table border=\"1\" class=\"dataframe\">\n",
       "  <thead>\n",
       "    <tr style=\"text-align: right;\">\n",
       "      <th></th>\n",
       "      <th>Postcode</th>\n",
       "    </tr>\n",
       "  </thead>\n",
       "  <tbody>\n",
       "    <tr>\n",
       "      <th>67059</th>\n",
       "      <td>17</td>\n",
       "    </tr>\n",
       "    <tr>\n",
       "      <th>67061</th>\n",
       "      <td>54</td>\n",
       "    </tr>\n",
       "    <tr>\n",
       "      <th>67063</th>\n",
       "      <td>23</td>\n",
       "    </tr>\n",
       "    <tr>\n",
       "      <th>67065</th>\n",
       "      <td>32</td>\n",
       "    </tr>\n",
       "    <tr>\n",
       "      <th>67067</th>\n",
       "      <td>10</td>\n",
       "    </tr>\n",
       "    <tr>\n",
       "      <th>67069</th>\n",
       "      <td>22</td>\n",
       "    </tr>\n",
       "    <tr>\n",
       "      <th>67117</th>\n",
       "      <td>3</td>\n",
       "    </tr>\n",
       "    <tr>\n",
       "      <th>67122</th>\n",
       "      <td>13</td>\n",
       "    </tr>\n",
       "    <tr>\n",
       "      <th>67141</th>\n",
       "      <td>16</td>\n",
       "    </tr>\n",
       "    <tr>\n",
       "      <th>68159</th>\n",
       "      <td>39</td>\n",
       "    </tr>\n",
       "    <tr>\n",
       "      <th>68161</th>\n",
       "      <td>34</td>\n",
       "    </tr>\n",
       "    <tr>\n",
       "      <th>68163</th>\n",
       "      <td>84</td>\n",
       "    </tr>\n",
       "    <tr>\n",
       "      <th>68165</th>\n",
       "      <td>36</td>\n",
       "    </tr>\n",
       "    <tr>\n",
       "      <th>68167</th>\n",
       "      <td>47</td>\n",
       "    </tr>\n",
       "    <tr>\n",
       "      <th>68169</th>\n",
       "      <td>39</td>\n",
       "    </tr>\n",
       "    <tr>\n",
       "      <th>68199</th>\n",
       "      <td>141</td>\n",
       "    </tr>\n",
       "    <tr>\n",
       "      <th>68219</th>\n",
       "      <td>105</td>\n",
       "    </tr>\n",
       "    <tr>\n",
       "      <th>68229</th>\n",
       "      <td>33</td>\n",
       "    </tr>\n",
       "    <tr>\n",
       "      <th>68239</th>\n",
       "      <td>76</td>\n",
       "    </tr>\n",
       "    <tr>\n",
       "      <th>68259</th>\n",
       "      <td>165</td>\n",
       "    </tr>\n",
       "    <tr>\n",
       "      <th>68305</th>\n",
       "      <td>132</td>\n",
       "    </tr>\n",
       "    <tr>\n",
       "      <th>68307</th>\n",
       "      <td>98</td>\n",
       "    </tr>\n",
       "    <tr>\n",
       "      <th>68309</th>\n",
       "      <td>127</td>\n",
       "    </tr>\n",
       "    <tr>\n",
       "      <th>68519</th>\n",
       "      <td>27</td>\n",
       "    </tr>\n",
       "    <tr>\n",
       "      <th>68526</th>\n",
       "      <td>89</td>\n",
       "    </tr>\n",
       "    <tr>\n",
       "      <th>68535</th>\n",
       "      <td>114</td>\n",
       "    </tr>\n",
       "    <tr>\n",
       "      <th>68542</th>\n",
       "      <td>73</td>\n",
       "    </tr>\n",
       "    <tr>\n",
       "      <th>68549</th>\n",
       "      <td>59</td>\n",
       "    </tr>\n",
       "    <tr>\n",
       "      <th>68623</th>\n",
       "      <td>2</td>\n",
       "    </tr>\n",
       "    <tr>\n",
       "      <th>68723</th>\n",
       "      <td>37</td>\n",
       "    </tr>\n",
       "    <tr>\n",
       "      <th>68782</th>\n",
       "      <td>87</td>\n",
       "    </tr>\n",
       "    <tr>\n",
       "      <th>69214</th>\n",
       "      <td>8</td>\n",
       "    </tr>\n",
       "    <tr>\n",
       "      <th>69469</th>\n",
       "      <td>2</td>\n",
       "    </tr>\n",
       "  </tbody>\n",
       "</table>\n",
       "</div>"
      ],
      "text/plain": [
       "       Postcode\n",
       "67059        17\n",
       "67061        54\n",
       "67063        23\n",
       "67065        32\n",
       "67067        10\n",
       "67069        22\n",
       "67117         3\n",
       "67122        13\n",
       "67141        16\n",
       "68159        39\n",
       "68161        34\n",
       "68163        84\n",
       "68165        36\n",
       "68167        47\n",
       "68169        39\n",
       "68199       141\n",
       "68219       105\n",
       "68229        33\n",
       "68239        76\n",
       "68259       165\n",
       "68305       132\n",
       "68307        98\n",
       "68309       127\n",
       "68519        27\n",
       "68526        89\n",
       "68535       114\n",
       "68542        73\n",
       "68549        59\n",
       "68623         2\n",
       "68723        37\n",
       "68782        87\n",
       "69214         8\n",
       "69469         2"
      ]
     },
     "execution_count": 6,
     "metadata": {},
     "output_type": "execute_result"
    }
   ],
   "source": [
    "# list unique postcodes in the data set\n",
    "df = prj.count_unique_items(SAMPLE_FILE, \n",
    "                            lambda t: t.attrib['k'] == 'addr:postcode', \n",
    "                            df_name = 'Postcode')\n",
    "df"
   ]
  },
  {
   "cell_type": "code",
   "execution_count": 7,
   "metadata": {
    "collapsed": false,
    "deletable": true,
    "editable": true
   },
   "outputs": [
    {
     "data": {
      "text/html": [
       "<div>\n",
       "<table border=\"1\" class=\"dataframe\">\n",
       "  <thead>\n",
       "    <tr style=\"text-align: right;\">\n",
       "      <th></th>\n",
       "      <th>CountryCode</th>\n",
       "    </tr>\n",
       "  </thead>\n",
       "  <tbody>\n",
       "    <tr>\n",
       "      <th>DE</th>\n",
       "      <td>1500</td>\n",
       "    </tr>\n",
       "  </tbody>\n",
       "</table>\n",
       "</div>"
      ],
      "text/plain": [
       "    CountryCode\n",
       "DE         1500"
      ]
     },
     "execution_count": 7,
     "metadata": {},
     "output_type": "execute_result"
    }
   ],
   "source": [
    "# list unique country codes in the data set\n",
    "df = prj.count_unique_items(SAMPLE_FILE, \n",
    "                            lambda t: t.attrib['k'] == 'addr:country', \n",
    "                            df_name = 'CountryCode')\n",
    "df"
   ]
  },
  {
   "cell_type": "code",
   "execution_count": 8,
   "metadata": {
    "collapsed": false,
    "deletable": true,
    "editable": true
   },
   "outputs": [
    {
     "data": {
      "text/html": [
       "<div>\n",
       "<table border=\"1\" class=\"dataframe\">\n",
       "  <thead>\n",
       "    <tr style=\"text-align: right;\">\n",
       "      <th></th>\n",
       "      <th>CountryCode</th>\n",
       "    </tr>\n",
       "  </thead>\n",
       "  <tbody>\n",
       "    <tr>\n",
       "      <th>beach</th>\n",
       "      <td>1</td>\n",
       "    </tr>\n",
       "    <tr>\n",
       "      <th>grassland</th>\n",
       "      <td>3</td>\n",
       "    </tr>\n",
       "    <tr>\n",
       "      <th>heath</th>\n",
       "      <td>3</td>\n",
       "    </tr>\n",
       "    <tr>\n",
       "      <th>peak</th>\n",
       "      <td>1</td>\n",
       "    </tr>\n",
       "    <tr>\n",
       "      <th>sand</th>\n",
       "      <td>2</td>\n",
       "    </tr>\n",
       "    <tr>\n",
       "      <th>scrub</th>\n",
       "      <td>61</td>\n",
       "    </tr>\n",
       "    <tr>\n",
       "      <th>spring</th>\n",
       "      <td>1</td>\n",
       "    </tr>\n",
       "    <tr>\n",
       "      <th>tree</th>\n",
       "      <td>152</td>\n",
       "    </tr>\n",
       "    <tr>\n",
       "      <th>water</th>\n",
       "      <td>4</td>\n",
       "    </tr>\n",
       "    <tr>\n",
       "      <th>wood</th>\n",
       "      <td>1</td>\n",
       "    </tr>\n",
       "  </tbody>\n",
       "</table>\n",
       "</div>"
      ],
      "text/plain": [
       "           CountryCode\n",
       "beach                1\n",
       "grassland            3\n",
       "heath                3\n",
       "peak                 1\n",
       "sand                 2\n",
       "scrub               61\n",
       "spring               1\n",
       "tree               152\n",
       "water                4\n",
       "wood                 1"
      ]
     },
     "execution_count": 8,
     "metadata": {},
     "output_type": "execute_result"
    }
   ],
   "source": [
    "# list natural landscapes or trees in the data set\n",
    "df = prj.count_unique_items(SAMPLE_FILE, \n",
    "                            lambda t: t.attrib['k'] == 'natural', \n",
    "                            df_name = 'CountryCode')\n",
    "df"
   ]
  },
  {
   "cell_type": "markdown",
   "metadata": {
    "deletable": true,
    "editable": true
   },
   "source": [
    "## Problems Encountered in the Map\n",
    "\n",
    "* [**Problem 1**: Typographical errors in city names](#Problem-1:-Typographical-errors-in-city-names)\n",
    "    * e.g. 'Vierheim' indead of 'Viernheim'\n",
    "* [**Problem 2**: Inconsistent provider names](#Problem-2:-Inconsistent-operator-names)\n",
    "    * e.g. 'Deutsche Telekom' vs 'Deutsche Telekom AG'\n",
    "* [**Problem 3**: Existing fixme, todo and note entries](#Problem-3:-Existing-fixme,-todo-and-note-entries)\n",
    "    * e.g. 'please check again'\n",
    "* [**Problem 4**: Non-numeric max speed presentation](#Problem-4:-Non-numeric-max-speed-representation)\n",
    "    * e.g. 'walk' instead of 5\n",
    "* [**Problem 5**: Street names without using the German 'ß'](#Problem-5:-Street-names-without-using-the-German-%27%C3%9F%27)\n",
    "    * e.g. 'Gross-Gerauer Strasse' instead of 'Gross-Gerauer Straße'"
   ]
  },
  {
   "cell_type": "markdown",
   "metadata": {
    "deletable": true,
    "editable": true
   },
   "source": [
    "### **Problem 1**: Typographical errors in city names\n",
    "\n",
    "In the list of the cities there is a common typo for the citiy 'Viernheim'. Instead of 'Viernheim' the name 'Vierheim' is used 2 times in the sample data set. (Note: The map area contains neighbour cities of Mannheim as well.)\n",
    "\n",
    "* Examples of typographical errors:\n",
    "    * 'Viernheim' vs 'Vierheim'\n",
    "    \n",
    "* Possible solutions\n",
    "    * replace these typographical errors"
   ]
  },
  {
   "cell_type": "code",
   "execution_count": 9,
   "metadata": {
    "collapsed": false,
    "deletable": true,
    "editable": true
   },
   "outputs": [
    {
     "data": {
      "text/html": [
       "<div>\n",
       "<table border=\"1\" class=\"dataframe\">\n",
       "  <thead>\n",
       "    <tr style=\"text-align: right;\">\n",
       "      <th></th>\n",
       "      <th>CityName</th>\n",
       "    </tr>\n",
       "  </thead>\n",
       "  <tbody>\n",
       "    <tr>\n",
       "      <th>Altrip</th>\n",
       "      <td>13</td>\n",
       "    </tr>\n",
       "    <tr>\n",
       "      <th>Brühl</th>\n",
       "      <td>87</td>\n",
       "    </tr>\n",
       "    <tr>\n",
       "      <th>Edingen</th>\n",
       "      <td>1</td>\n",
       "    </tr>\n",
       "    <tr>\n",
       "      <th>Edingen-Nackarhausen</th>\n",
       "      <td>1</td>\n",
       "    </tr>\n",
       "    <tr>\n",
       "      <th>Edingen-Neckarhausen</th>\n",
       "      <td>49</td>\n",
       "    </tr>\n",
       "    <tr>\n",
       "      <th>Eppelheim</th>\n",
       "      <td>8</td>\n",
       "    </tr>\n",
       "    <tr>\n",
       "      <th>Heddesheim</th>\n",
       "      <td>73</td>\n",
       "    </tr>\n",
       "    <tr>\n",
       "      <th>Heidelberg</th>\n",
       "      <td>1</td>\n",
       "    </tr>\n",
       "    <tr>\n",
       "      <th>Ilvesheim</th>\n",
       "      <td>63</td>\n",
       "    </tr>\n",
       "    <tr>\n",
       "      <th>Ladenburg</th>\n",
       "      <td>89</td>\n",
       "    </tr>\n",
       "    <tr>\n",
       "      <th>Lampertheim</th>\n",
       "      <td>3</td>\n",
       "    </tr>\n",
       "    <tr>\n",
       "      <th>Limburgerhof</th>\n",
       "      <td>3</td>\n",
       "    </tr>\n",
       "    <tr>\n",
       "      <th>Ludwigshafen</th>\n",
       "      <td>148</td>\n",
       "    </tr>\n",
       "    <tr>\n",
       "      <th>Ludwigshafen am Rhein</th>\n",
       "      <td>39</td>\n",
       "    </tr>\n",
       "    <tr>\n",
       "      <th>Mannheim</th>\n",
       "      <td>1210</td>\n",
       "    </tr>\n",
       "    <tr>\n",
       "      <th>Neckarhausen</th>\n",
       "      <td>49</td>\n",
       "    </tr>\n",
       "    <tr>\n",
       "      <th>Neu-Edingen</th>\n",
       "      <td>14</td>\n",
       "    </tr>\n",
       "    <tr>\n",
       "      <th>Neuhofen</th>\n",
       "      <td>16</td>\n",
       "    </tr>\n",
       "    <tr>\n",
       "      <th>Plankstadt</th>\n",
       "      <td>16</td>\n",
       "    </tr>\n",
       "    <tr>\n",
       "      <th>Schwetzingen</th>\n",
       "      <td>20</td>\n",
       "    </tr>\n",
       "    <tr>\n",
       "      <th>Seckenheim</th>\n",
       "      <td>5</td>\n",
       "    </tr>\n",
       "    <tr>\n",
       "      <th>Vierheim</th>\n",
       "      <td>2</td>\n",
       "    </tr>\n",
       "    <tr>\n",
       "      <th>Viernheim</th>\n",
       "      <td>42</td>\n",
       "    </tr>\n",
       "    <tr>\n",
       "      <th>Weinheim</th>\n",
       "      <td>2</td>\n",
       "    </tr>\n",
       "  </tbody>\n",
       "</table>\n",
       "</div>"
      ],
      "text/plain": [
       "                       CityName\n",
       "Altrip                       13\n",
       "Brühl                        87\n",
       "Edingen                       1\n",
       "Edingen-Nackarhausen          1\n",
       "Edingen-Neckarhausen         49\n",
       "Eppelheim                     8\n",
       "Heddesheim                   73\n",
       "Heidelberg                    1\n",
       "Ilvesheim                    63\n",
       "Ladenburg                    89\n",
       "Lampertheim                   3\n",
       "Limburgerhof                  3\n",
       "Ludwigshafen                148\n",
       "Ludwigshafen am Rhein        39\n",
       "Mannheim                   1210\n",
       "Neckarhausen                 49\n",
       "Neu-Edingen                  14\n",
       "Neuhofen                     16\n",
       "Plankstadt                   16\n",
       "Schwetzingen                 20\n",
       "Seckenheim                    5\n",
       "Vierheim                      2\n",
       "Viernheim                    42\n",
       "Weinheim                      2"
      ]
     },
     "execution_count": 9,
     "metadata": {},
     "output_type": "execute_result"
    }
   ],
   "source": [
    "# list unique cities in the data set\n",
    "df = prj.count_unique_items(SAMPLE_FILE, \n",
    "                            lambda t: t.attrib['k'] == 'addr:city', \n",
    "                            df_name = 'CityName')\n",
    "df"
   ]
  },
  {
   "cell_type": "markdown",
   "metadata": {
    "deletable": true,
    "editable": true
   },
   "source": [
    "### **Problem 2**: Inconsistent operator names\n",
    "\n",
    "In the sample data set a considerable number of cases are found where the operator names are inconsistent. (Operators in the city are mostly transportation, communication or energy corparations.) Some of names are listed as abbreviations. Others are somehow incomplete (e.g. does not contain the company type 'SE', 'AG' or 'GmbH')\n",
    "\n",
    "* Examples of inconsistent operator names:\n",
    "    * 'BASF' vs 'BASF SE'\n",
    "    * 'DB Netz' vs 'DB Netz AG'\n",
    "    * 'DB Post' vs 'DB Post AG'\n",
    "    * 'Deutsche Telekom' vs 'Deutsche Telekom AG'\n",
    "    * 'EnBW' vs 'EnBW AG'\n",
    "    * 'Hall' vs 'Hall Tabakwaren'\n",
    "    * 'RNV' vs 'RNV GmbH' vs 'Rhein-Neckar-Verkehr GmbH'\n",
    "    * 'MVV' vs 'MVV Energie' vs 'MVV Energie AG'\n",
    "\n",
    "* Possible Solutions:\n",
    "    * standardize the inconsistent names using the most official name"
   ]
  },
  {
   "cell_type": "code",
   "execution_count": 10,
   "metadata": {
    "collapsed": false,
    "deletable": true,
    "editable": true
   },
   "outputs": [
    {
     "data": {
      "text/html": [
       "<div>\n",
       "<table border=\"1\" class=\"dataframe\">\n",
       "  <thead>\n",
       "    <tr style=\"text-align: right;\">\n",
       "      <th></th>\n",
       "      <th>Operator</th>\n",
       "    </tr>\n",
       "  </thead>\n",
       "  <tbody>\n",
       "    <tr>\n",
       "      <th>Angel Panevski</th>\n",
       "      <td>1</td>\n",
       "    </tr>\n",
       "    <tr>\n",
       "      <th>Antonina Abate</th>\n",
       "      <td>1</td>\n",
       "    </tr>\n",
       "    <tr>\n",
       "      <th>Arthur Schuller e.K.</th>\n",
       "      <td>1</td>\n",
       "    </tr>\n",
       "    <tr>\n",
       "      <th>Autobahnmeisterei</th>\n",
       "      <td>2</td>\n",
       "    </tr>\n",
       "    <tr>\n",
       "      <th>Avendi</th>\n",
       "      <td>1</td>\n",
       "    </tr>\n",
       "    <tr>\n",
       "      <th>BASF</th>\n",
       "      <td>20</td>\n",
       "    </tr>\n",
       "    <tr>\n",
       "      <th>BASF SE</th>\n",
       "      <td>2</td>\n",
       "    </tr>\n",
       "    <tr>\n",
       "      <th>BB Bank</th>\n",
       "      <td>1</td>\n",
       "    </tr>\n",
       "    <tr>\n",
       "      <th>Badenwerk</th>\n",
       "      <td>1</td>\n",
       "    </tr>\n",
       "    <tr>\n",
       "      <th>Bettina Dietz</th>\n",
       "      <td>1</td>\n",
       "    </tr>\n",
       "    <tr>\n",
       "      <th>Claus Kreimes</th>\n",
       "      <td>1</td>\n",
       "    </tr>\n",
       "    <tr>\n",
       "      <th>Contargo Rhein-Neckar GmbH</th>\n",
       "      <td>2</td>\n",
       "    </tr>\n",
       "    <tr>\n",
       "      <th>DB Netz</th>\n",
       "      <td>10</td>\n",
       "    </tr>\n",
       "    <tr>\n",
       "      <th>DB Netz AG</th>\n",
       "      <td>52</td>\n",
       "    </tr>\n",
       "    <tr>\n",
       "      <th>DB ProjektBau GmbH</th>\n",
       "      <td>1</td>\n",
       "    </tr>\n",
       "    <tr>\n",
       "      <th>DB Station&amp;Service AG</th>\n",
       "      <td>3</td>\n",
       "    </tr>\n",
       "    <tr>\n",
       "      <th>DB_Energie</th>\n",
       "      <td>1</td>\n",
       "    </tr>\n",
       "    <tr>\n",
       "      <th>David Singer</th>\n",
       "      <td>1</td>\n",
       "    </tr>\n",
       "    <tr>\n",
       "      <th>Deutsche Post</th>\n",
       "      <td>3</td>\n",
       "    </tr>\n",
       "    <tr>\n",
       "      <th>Deutsche Post AG</th>\n",
       "      <td>2</td>\n",
       "    </tr>\n",
       "    <tr>\n",
       "      <th>Deutsche Tamoil GmbH</th>\n",
       "      <td>1</td>\n",
       "    </tr>\n",
       "    <tr>\n",
       "      <th>Deutsche Telecom</th>\n",
       "      <td>1</td>\n",
       "    </tr>\n",
       "    <tr>\n",
       "      <th>Deutscher Wetterdienst</th>\n",
       "      <td>1</td>\n",
       "    </tr>\n",
       "    <tr>\n",
       "      <th>Dietz</th>\n",
       "      <td>1</td>\n",
       "    </tr>\n",
       "    <tr>\n",
       "      <th>Dragica Blazanovic</th>\n",
       "      <td>1</td>\n",
       "    </tr>\n",
       "    <tr>\n",
       "      <th>Emel Öcal</th>\n",
       "      <td>1</td>\n",
       "    </tr>\n",
       "    <tr>\n",
       "      <th>EnBW</th>\n",
       "      <td>4</td>\n",
       "    </tr>\n",
       "    <tr>\n",
       "      <th>Eros Center Mannheim</th>\n",
       "      <td>1</td>\n",
       "    </tr>\n",
       "    <tr>\n",
       "      <th>Fam. Puglisi</th>\n",
       "      <td>1</td>\n",
       "    </tr>\n",
       "    <tr>\n",
       "      <th>Frank Günterberg</th>\n",
       "      <td>1</td>\n",
       "    </tr>\n",
       "    <tr>\n",
       "      <th>...</th>\n",
       "      <td>...</td>\n",
       "    </tr>\n",
       "    <tr>\n",
       "      <th>Pepperl+Fuchs GmbH</th>\n",
       "      <td>1</td>\n",
       "    </tr>\n",
       "    <tr>\n",
       "      <th>Postillion e.V.</th>\n",
       "      <td>1</td>\n",
       "    </tr>\n",
       "    <tr>\n",
       "      <th>RNV</th>\n",
       "      <td>1</td>\n",
       "    </tr>\n",
       "    <tr>\n",
       "      <th>RWE</th>\n",
       "      <td>2</td>\n",
       "    </tr>\n",
       "    <tr>\n",
       "      <th>RegioPost Pfalz</th>\n",
       "      <td>1</td>\n",
       "    </tr>\n",
       "    <tr>\n",
       "      <th>Rhein-Neckar-Phone</th>\n",
       "      <td>1</td>\n",
       "    </tr>\n",
       "    <tr>\n",
       "      <th>Rhein-Neckar-Verkehr GmbH</th>\n",
       "      <td>32</td>\n",
       "    </tr>\n",
       "    <tr>\n",
       "      <th>SCA Hygiene Products</th>\n",
       "      <td>1</td>\n",
       "    </tr>\n",
       "    <tr>\n",
       "      <th>SCA Hygiene Products GmbH</th>\n",
       "      <td>1</td>\n",
       "    </tr>\n",
       "    <tr>\n",
       "      <th>SOBIS Software GmbH</th>\n",
       "      <td>1</td>\n",
       "    </tr>\n",
       "    <tr>\n",
       "      <th>Sandra Dewald</th>\n",
       "      <td>1</td>\n",
       "    </tr>\n",
       "    <tr>\n",
       "      <th>Shell</th>\n",
       "      <td>1</td>\n",
       "    </tr>\n",
       "    <tr>\n",
       "      <th>Sparkasse Rhein-Neckar</th>\n",
       "      <td>1</td>\n",
       "    </tr>\n",
       "    <tr>\n",
       "      <th>Sparkasse Rhein-Neckar-Nord</th>\n",
       "      <td>1</td>\n",
       "    </tr>\n",
       "    <tr>\n",
       "      <th>Spedition Kübler</th>\n",
       "      <td>1</td>\n",
       "    </tr>\n",
       "    <tr>\n",
       "      <th>Staatliche Rhein-Neckar-Hafengesellschaft Mannheim mbH</th>\n",
       "      <td>6</td>\n",
       "    </tr>\n",
       "    <tr>\n",
       "      <th>Stadt Mannheim</th>\n",
       "      <td>35</td>\n",
       "    </tr>\n",
       "    <tr>\n",
       "      <th>Stadt Viernheim</th>\n",
       "      <td>1</td>\n",
       "    </tr>\n",
       "    <tr>\n",
       "      <th>Sullivan Barracks</th>\n",
       "      <td>1</td>\n",
       "    </tr>\n",
       "    <tr>\n",
       "      <th>Südwestrundfunk (SWR)</th>\n",
       "      <td>1</td>\n",
       "    </tr>\n",
       "    <tr>\n",
       "      <th>T-Com</th>\n",
       "      <td>1</td>\n",
       "    </tr>\n",
       "    <tr>\n",
       "      <th>TWL</th>\n",
       "      <td>1</td>\n",
       "    </tr>\n",
       "    <tr>\n",
       "      <th>Tu 09:00–13:00; We 09:00–11:00; Th 14:00–16:00; Fr 16:00–18:00</th>\n",
       "      <td>1</td>\n",
       "    </tr>\n",
       "    <tr>\n",
       "      <th>Uhrig</th>\n",
       "      <td>1</td>\n",
       "    </tr>\n",
       "    <tr>\n",
       "      <th>Vera Keller</th>\n",
       "      <td>1</td>\n",
       "    </tr>\n",
       "    <tr>\n",
       "      <th>Zdena Kulkova</th>\n",
       "      <td>1</td>\n",
       "    </tr>\n",
       "    <tr>\n",
       "      <th>rem gGmbH</th>\n",
       "      <td>1</td>\n",
       "    </tr>\n",
       "    <tr>\n",
       "      <th>rnv</th>\n",
       "      <td>1</td>\n",
       "    </tr>\n",
       "    <tr>\n",
       "      <th>stadtmobil</th>\n",
       "      <td>1</td>\n",
       "    </tr>\n",
       "    <tr>\n",
       "      <th>tobaccoland</th>\n",
       "      <td>1</td>\n",
       "    </tr>\n",
       "  </tbody>\n",
       "</table>\n",
       "<p>85 rows × 1 columns</p>\n",
       "</div>"
      ],
      "text/plain": [
       "                                                    Operator\n",
       "Angel Panevski                                             1\n",
       "Antonina Abate                                             1\n",
       "Arthur Schuller e.K.                                       1\n",
       "Autobahnmeisterei                                          2\n",
       "Avendi                                                     1\n",
       "BASF                                                      20\n",
       "BASF SE                                                    2\n",
       "BB Bank                                                    1\n",
       "Badenwerk                                                  1\n",
       "Bettina Dietz                                              1\n",
       "Claus Kreimes                                              1\n",
       "Contargo Rhein-Neckar GmbH                                 2\n",
       "DB Netz                                                   10\n",
       "DB Netz AG                                                52\n",
       "DB ProjektBau GmbH                                         1\n",
       "DB Station&Service AG                                      3\n",
       "DB_Energie                                                 1\n",
       "David Singer                                               1\n",
       "Deutsche Post                                              3\n",
       "Deutsche Post AG                                           2\n",
       "Deutsche Tamoil GmbH                                       1\n",
       "Deutsche Telecom                                           1\n",
       "Deutscher Wetterdienst                                     1\n",
       "Dietz                                                      1\n",
       "Dragica Blazanovic                                         1\n",
       "Emel Öcal                                                  1\n",
       "EnBW                                                       4\n",
       "Eros Center Mannheim                                       1\n",
       "Fam. Puglisi                                               1\n",
       "Frank Günterberg                                           1\n",
       "...                                                      ...\n",
       "Pepperl+Fuchs GmbH                                         1\n",
       "Postillion e.V.                                            1\n",
       "RNV                                                        1\n",
       "RWE                                                        2\n",
       "RegioPost Pfalz                                            1\n",
       "Rhein-Neckar-Phone                                         1\n",
       "Rhein-Neckar-Verkehr GmbH                                 32\n",
       "SCA Hygiene Products                                       1\n",
       "SCA Hygiene Products GmbH                                  1\n",
       "SOBIS Software GmbH                                        1\n",
       "Sandra Dewald                                              1\n",
       "Shell                                                      1\n",
       "Sparkasse Rhein-Neckar                                     1\n",
       "Sparkasse Rhein-Neckar-Nord                                1\n",
       "Spedition Kübler                                           1\n",
       "Staatliche Rhein-Neckar-Hafengesellschaft Mannh...         6\n",
       "Stadt Mannheim                                            35\n",
       "Stadt Viernheim                                            1\n",
       "Sullivan Barracks                                          1\n",
       "Südwestrundfunk (SWR)                                      1\n",
       "T-Com                                                      1\n",
       "TWL                                                        1\n",
       "Tu 09:00–13:00; We 09:00–11:00; Th 14:00–16:00;...         1\n",
       "Uhrig                                                      1\n",
       "Vera Keller                                                1\n",
       "Zdena Kulkova                                              1\n",
       "rem gGmbH                                                  1\n",
       "rnv                                                        1\n",
       "stadtmobil                                                 1\n",
       "tobaccoland                                                1\n",
       "\n",
       "[85 rows x 1 columns]"
      ]
     },
     "execution_count": 10,
     "metadata": {},
     "output_type": "execute_result"
    }
   ],
   "source": [
    "# list unique operators (transportation, communication, energy etc.) in the data set\n",
    "df = prj.count_unique_items(SAMPLE_FILE, \n",
    "                            lambda t: t.attrib['k'] == 'operator', \n",
    "                            df_name = 'Operator')\n",
    "df"
   ]
  },
  {
   "cell_type": "markdown",
   "metadata": {
    "deletable": true,
    "editable": true
   },
   "source": [
    "### **Problem 3**: Existing fixme, todo and note entries\n",
    "\n",
    "Some nodes or ways contain fixme, todo or note entries which indicates that there are some unfinished work to do. We could check the actual node and assure if the entry is still valid by looking at its last modified timestamp.\n",
    "\n",
    "* Examples of FixMe or Notes:\n",
    "    * 'Welcher Typ?'\n",
    "    * 'please check again'\n",
    "    * 'continue'\n",
    "    \n",
    "* Possible Solutions:\n",
    "    * manually check if the todo entry is still valid\n",
    "    * contact the last contributed users to let them recheck those points"
   ]
  },
  {
   "cell_type": "code",
   "execution_count": 11,
   "metadata": {
    "collapsed": false,
    "deletable": true,
    "editable": true
   },
   "outputs": [
    {
     "data": {
      "text/html": [
       "<div>\n",
       "<table border=\"1\" class=\"dataframe\">\n",
       "  <thead>\n",
       "    <tr style=\"text-align: right;\">\n",
       "      <th></th>\n",
       "      <th>FixMe</th>\n",
       "    </tr>\n",
       "  </thead>\n",
       "  <tbody>\n",
       "    <tr>\n",
       "      <th>AutoHET</th>\n",
       "      <td>1</td>\n",
       "    </tr>\n",
       "    <tr>\n",
       "      <th>Hausnummer</th>\n",
       "      <td>1</td>\n",
       "    </tr>\n",
       "    <tr>\n",
       "      <th>Hausnummern</th>\n",
       "      <td>2</td>\n",
       "    </tr>\n",
       "    <tr>\n",
       "      <th>Hundeplatz, wie taggen?</th>\n",
       "      <td>1</td>\n",
       "    </tr>\n",
       "    <tr>\n",
       "      <th>Höhe geschätzt</th>\n",
       "      <td>1</td>\n",
       "    </tr>\n",
       "    <tr>\n",
       "      <th>Ist der operator jetzt die MVV Energie AG?</th>\n",
       "      <td>1</td>\n",
       "    </tr>\n",
       "    <tr>\n",
       "      <th>Nur grober verlauf, von Bing abgezeichnet</th>\n",
       "      <td>2</td>\n",
       "    </tr>\n",
       "    <tr>\n",
       "      <th>Position ungenau</th>\n",
       "      <td>1</td>\n",
       "    </tr>\n",
       "    <tr>\n",
       "      <th>Tafel \"Bremseinsatzpunkt\"</th>\n",
       "      <td>1</td>\n",
       "    </tr>\n",
       "    <tr>\n",
       "      <th>besseres Tag für ausgewachene Bauunternehmen im Tiefbau suchen</th>\n",
       "      <td>1</td>\n",
       "    </tr>\n",
       "    <tr>\n",
       "      <th>check position (gps traces)</th>\n",
       "      <td>1</td>\n",
       "    </tr>\n",
       "    <tr>\n",
       "      <th>continue</th>\n",
       "      <td>4</td>\n",
       "    </tr>\n",
       "    <tr>\n",
       "      <th>exact location</th>\n",
       "      <td>1</td>\n",
       "    </tr>\n",
       "    <tr>\n",
       "      <th>recheck ref</th>\n",
       "      <td>1</td>\n",
       "    </tr>\n",
       "    <tr>\n",
       "      <th>unbekanntes Signal</th>\n",
       "      <td>1</td>\n",
       "    </tr>\n",
       "    <tr>\n",
       "      <th>validate position against GPS</th>\n",
       "      <td>1</td>\n",
       "    </tr>\n",
       "    <tr>\n",
       "      <th>where is the exsact position ?? and where is the entrance to number 25a??</th>\n",
       "      <td>1</td>\n",
       "    </tr>\n",
       "  </tbody>\n",
       "</table>\n",
       "</div>"
      ],
      "text/plain": [
       "                                                    FixMe\n",
       "AutoHET                                                 1\n",
       "Hausnummer                                              1\n",
       "Hausnummern                                             2\n",
       "Hundeplatz, wie taggen?                                 1\n",
       "Höhe geschätzt                                          1\n",
       "Ist der operator jetzt die MVV Energie AG?              1\n",
       "Nur grober verlauf, von Bing abgezeichnet               2\n",
       "Position ungenau                                        1\n",
       "Tafel \"Bremseinsatzpunkt\"                               1\n",
       "besseres Tag für ausgewachene Bauunternehmen im...      1\n",
       "check position (gps traces)                             1\n",
       "continue                                                4\n",
       "exact location                                          1\n",
       "recheck ref                                             1\n",
       "unbekanntes Signal                                      1\n",
       "validate position against GPS                           1\n",
       "where is the exsact position ?? and where is th...      1"
      ]
     },
     "execution_count": 11,
     "metadata": {},
     "output_type": "execute_result"
    }
   ],
   "source": [
    "# list of fixmes in the data set\n",
    "df = prj.count_unique_items(SAMPLE_FILE, \n",
    "                            lambda t: 'fixme' in t.attrib['k'].lower(), \n",
    "                            df_name = 'FixMe')\n",
    "df"
   ]
  },
  {
   "cell_type": "code",
   "execution_count": 12,
   "metadata": {
    "collapsed": false,
    "deletable": true,
    "editable": true
   },
   "outputs": [
    {
     "data": {
      "text/html": [
       "<div>\n",
       "<table border=\"1\" class=\"dataframe\">\n",
       "  <thead>\n",
       "    <tr style=\"text-align: right;\">\n",
       "      <th></th>\n",
       "      <th>Note</th>\n",
       "    </tr>\n",
       "  </thead>\n",
       "  <tbody>\n",
       "    <tr>\n",
       "      <th>\"A\",\"–\"(F0),\"·\"(F4),\"\\\"(F3)</th>\n",
       "      <td>1</td>\n",
       "    </tr>\n",
       "    <tr>\n",
       "      <th>\"Privatweg. Zufahrt nur für Berechtigte\"</th>\n",
       "      <td>1</td>\n",
       "    </tr>\n",
       "    <tr>\n",
       "      <th>(ehemaliges?) Munitionslagerhaus</th>\n",
       "      <td>2</td>\n",
       "    </tr>\n",
       "    <tr>\n",
       "      <th>1969-09-16 offizielle Eröffnung</th>\n",
       "      <td>1</td>\n",
       "    </tr>\n",
       "    <tr>\n",
       "      <th>2015-11-04: 100 -&gt; 70</th>\n",
       "      <td>2</td>\n",
       "    </tr>\n",
       "    <tr>\n",
       "      <th>2015-11-04: 50 -&gt; 30</th>\n",
       "      <td>1</td>\n",
       "    </tr>\n",
       "    <tr>\n",
       "      <th>2015-11-04: 70 -&gt; 50</th>\n",
       "      <td>1</td>\n",
       "    </tr>\n",
       "    <tr>\n",
       "      <th>Adresse ehemals Thüringer Straße 118</th>\n",
       "      <td>1</td>\n",
       "    </tr>\n",
       "    <tr>\n",
       "      <th>Anzeige der Linienkennung</th>\n",
       "      <td>1</td>\n",
       "    </tr>\n",
       "    <tr>\n",
       "      <th>Ausfahrt jederzeit möglich</th>\n",
       "      <td>1</td>\n",
       "    </tr>\n",
       "    <tr>\n",
       "      <th>BOStrab-Signal</th>\n",
       "      <td>3</td>\n",
       "    </tr>\n",
       "    <tr>\n",
       "      <th>Bereich der Ortsdurchfahrt</th>\n",
       "      <td>1</td>\n",
       "    </tr>\n",
       "    <tr>\n",
       "      <th>BingSat hier stellenweise nicht mehr aktuell</th>\n",
       "      <td>1</td>\n",
       "    </tr>\n",
       "    <tr>\n",
       "      <th>Bü 7,2</th>\n",
       "      <td>1</td>\n",
       "    </tr>\n",
       "    <tr>\n",
       "      <th>Der Verein dient in erster Linie der Förderung und der Erforschung regionaler Geschichte auf breitester Grundlage durch eigene Veröffentlichungen, Durchführung von Veranstaltungen und Vorträgen.</th>\n",
       "      <td>1</td>\n",
       "    </tr>\n",
       "    <tr>\n",
       "      <th>F0,F1 und zwei weitere unbelannte oben drüber</th>\n",
       "      <td>1</td>\n",
       "    </tr>\n",
       "    <tr>\n",
       "      <th>FIXME nur grober Verlauf, bitte korrigieren!</th>\n",
       "      <td>1</td>\n",
       "    </tr>\n",
       "    <tr>\n",
       "      <th>Flurstückname</th>\n",
       "      <td>1</td>\n",
       "    </tr>\n",
       "    <tr>\n",
       "      <th>G163 nach W124 möglich</th>\n",
       "      <td>1</td>\n",
       "    </tr>\n",
       "    <tr>\n",
       "      <th>Gehweg ohne Schild für Fahrradfreigabe</th>\n",
       "      <td>2</td>\n",
       "    </tr>\n",
       "    <tr>\n",
       "      <th>Gehweg ohne Schild für Radfahrerlaubnis</th>\n",
       "      <td>1</td>\n",
       "    </tr>\n",
       "    <tr>\n",
       "      <th>Geschwindigkeit nach Anzeige des Signals, evtl. auch höher</th>\n",
       "      <td>2</td>\n",
       "    </tr>\n",
       "    <tr>\n",
       "      <th>Geschwindigkeit nach Ausfahrsignal hp2 von Gleis 9, evtl. auch höher</th>\n",
       "      <td>1</td>\n",
       "    </tr>\n",
       "    <tr>\n",
       "      <th>Gewann</th>\n",
       "      <td>1</td>\n",
       "    </tr>\n",
       "    <tr>\n",
       "      <th>Gleis 9</th>\n",
       "      <td>1</td>\n",
       "    </tr>\n",
       "    <tr>\n",
       "      <th>Gleislücke laut EBA, tatsächlich länger :-)</th>\n",
       "      <td>1</td>\n",
       "    </tr>\n",
       "    <tr>\n",
       "      <th>Hektometertafel nur im Gleis Richtung Mannheim</th>\n",
       "      <td>1</td>\n",
       "    </tr>\n",
       "    <tr>\n",
       "      <th>Im Bereich der Kreuzungen und Ampelanlage ist die Straße keine trunk road nach OSM-Konventionen</th>\n",
       "      <td>1</td>\n",
       "    </tr>\n",
       "    <tr>\n",
       "      <th>La Carrozza (Die Kutsche) seit 2015-06</th>\n",
       "      <td>1</td>\n",
       "    </tr>\n",
       "    <tr>\n",
       "      <th>Linie 50 Ri Neckarau West</th>\n",
       "      <td>1</td>\n",
       "    </tr>\n",
       "    <tr>\n",
       "      <th>Linie 628,44</th>\n",
       "      <td>1</td>\n",
       "    </tr>\n",
       "    <tr>\n",
       "      <th>Nachtverkehr und SEV</th>\n",
       "      <td>1</td>\n",
       "    </tr>\n",
       "    <tr>\n",
       "      <th>Name auf Straßenschilder einmal mit, einmal ohne Bindestrich</th>\n",
       "      <td>1</td>\n",
       "    </tr>\n",
       "    <tr>\n",
       "      <th>Name laut Infoschild an der Baustelle</th>\n",
       "      <td>1</td>\n",
       "    </tr>\n",
       "    <tr>\n",
       "      <th>Rampe</th>\n",
       "      <td>1</td>\n",
       "    </tr>\n",
       "    <tr>\n",
       "      <th>Rufbus-Linie 6913</th>\n",
       "      <td>1</td>\n",
       "    </tr>\n",
       "    <tr>\n",
       "      <th>Stützenraster = 8,75 m</th>\n",
       "      <td>1</td>\n",
       "    </tr>\n",
       "    <tr>\n",
       "      <th>Säule</th>\n",
       "      <td>1</td>\n",
       "    </tr>\n",
       "    <tr>\n",
       "      <th>Universitätsstadt Mannheim Stadtteil Scharhof</th>\n",
       "      <td>1</td>\n",
       "    </tr>\n",
       "    <tr>\n",
       "      <th>Zeigt \"Fahrt\" für gerade Ausfahrt (beobachtet für S-Bahn Richtung Mannheim)</th>\n",
       "      <td>1</td>\n",
       "    </tr>\n",
       "    <tr>\n",
       "      <th>am Haltestellenschild</th>\n",
       "      <td>1</td>\n",
       "    </tr>\n",
       "    <tr>\n",
       "      <th>aufgrund von Straßenschäden</th>\n",
       "      <td>1</td>\n",
       "    </tr>\n",
       "    <tr>\n",
       "      <th>demolished</th>\n",
       "      <td>1</td>\n",
       "    </tr>\n",
       "    <tr>\n",
       "      <th>demolished 03/2017</th>\n",
       "      <td>1</td>\n",
       "    </tr>\n",
       "    <tr>\n",
       "      <th>ehemaliger Central-Film-Palast</th>\n",
       "      <td>1</td>\n",
       "    </tr>\n",
       "    <tr>\n",
       "      <th>frei gezeichnet</th>\n",
       "      <td>15</td>\n",
       "    </tr>\n",
       "    <tr>\n",
       "      <th>fuß und radweg</th>\n",
       "      <td>1</td>\n",
       "    </tr>\n",
       "    <tr>\n",
       "      <th>height estimated</th>\n",
       "      <td>1</td>\n",
       "    </tr>\n",
       "    <tr>\n",
       "      <th>im Wetterschutz</th>\n",
       "      <td>1</td>\n",
       "    </tr>\n",
       "    <tr>\n",
       "      <th>kein Routing durch Parkhaus erwünscht</th>\n",
       "      <td>2</td>\n",
       "    </tr>\n",
       "    <tr>\n",
       "      <th>nach zs3 an Ausfahrsignal von Gleis 1 Richtung Ludwigshafen</th>\n",
       "      <td>1</td>\n",
       "    </tr>\n",
       "    <tr>\n",
       "      <th>name changed 2016-06-12</th>\n",
       "      <td>1</td>\n",
       "    </tr>\n",
       "    <tr>\n",
       "      <th>new asphalt 2014-05-21</th>\n",
       "      <td>1</td>\n",
       "    </tr>\n",
       "    <tr>\n",
       "      <th>normalerweise oneway = yes, aber wegen Baustelle in Waldpforte für einige Monate zur Umleitung aufgehoben</th>\n",
       "      <td>1</td>\n",
       "    </tr>\n",
       "    <tr>\n",
       "      <th>nördliche Weiche 93</th>\n",
       "      <td>1</td>\n",
       "    </tr>\n",
       "    <tr>\n",
       "      <th>razed 07/2016</th>\n",
       "      <td>1</td>\n",
       "    </tr>\n",
       "    <tr>\n",
       "      <th>steht so mit den Schreibfehlern auf dem Schild…</th>\n",
       "      <td>1</td>\n",
       "    </tr>\n",
       "    <tr>\n",
       "      <th>unterhalb der Brücke</th>\n",
       "      <td>1</td>\n",
       "    </tr>\n",
       "    <tr>\n",
       "      <th>yes</th>\n",
       "      <td>4</td>\n",
       "    </tr>\n",
       "    <tr>\n",
       "      <th>zum Rangierbezirk Nord</th>\n",
       "      <td>1</td>\n",
       "    </tr>\n",
       "  </tbody>\n",
       "</table>\n",
       "</div>"
      ],
      "text/plain": [
       "                                                    Note\n",
       "\"A\",\"–\"(F0),\"·\"(F4),\"\\\"(F3)                            1\n",
       "\"Privatweg. Zufahrt nur für Berechtigte\"               1\n",
       "(ehemaliges?) Munitionslagerhaus                       2\n",
       "1969-09-16 offizielle Eröffnung                        1\n",
       "2015-11-04: 100 -> 70                                  2\n",
       "2015-11-04: 50 -> 30                                   1\n",
       "2015-11-04: 70 -> 50                                   1\n",
       "Adresse ehemals Thüringer Straße 118                   1\n",
       "Anzeige der Linienkennung                              1\n",
       "Ausfahrt jederzeit möglich                             1\n",
       "BOStrab-Signal                                         3\n",
       "Bereich der Ortsdurchfahrt                             1\n",
       "BingSat hier stellenweise nicht mehr aktuell           1\n",
       "Bü 7,2                                                 1\n",
       "Der Verein dient in erster Linie der Förderung ...     1\n",
       "F0,F1 und zwei weitere unbelannte oben drüber          1\n",
       "FIXME nur grober Verlauf, bitte korrigieren!           1\n",
       "Flurstückname                                          1\n",
       "G163 nach W124 möglich                                 1\n",
       "Gehweg ohne Schild für Fahrradfreigabe                 2\n",
       "Gehweg ohne Schild für Radfahrerlaubnis                1\n",
       "Geschwindigkeit nach Anzeige des Signals, evtl....     2\n",
       "Geschwindigkeit nach Ausfahrsignal hp2 von Glei...     1\n",
       "Gewann                                                 1\n",
       "Gleis 9                                                1\n",
       "Gleislücke laut EBA, tatsächlich länger :-)            1\n",
       "Hektometertafel nur im Gleis Richtung Mannheim         1\n",
       "Im Bereich der Kreuzungen und Ampelanlage ist d...     1\n",
       "La Carrozza (Die Kutsche) seit 2015-06                 1\n",
       "Linie 50 Ri Neckarau West                              1\n",
       "Linie 628,44                                           1\n",
       "Nachtverkehr und SEV                                   1\n",
       "Name auf Straßenschilder einmal mit, einmal ohn...     1\n",
       "Name laut Infoschild an der Baustelle                  1\n",
       "Rampe                                                  1\n",
       "Rufbus-Linie 6913                                      1\n",
       "Stützenraster = 8,75 m                                 1\n",
       "Säule                                                  1\n",
       "Universitätsstadt Mannheim Stadtteil Scharhof          1\n",
       "Zeigt \"Fahrt\" für gerade Ausfahrt (beobachtet f...     1\n",
       "am Haltestellenschild                                  1\n",
       "aufgrund von Straßenschäden                            1\n",
       "demolished                                             1\n",
       "demolished 03/2017                                     1\n",
       "ehemaliger Central-Film-Palast                         1\n",
       "frei gezeichnet                                       15\n",
       "fuß und radweg                                         1\n",
       "height estimated                                       1\n",
       "im Wetterschutz                                        1\n",
       "kein Routing durch Parkhaus erwünscht                  2\n",
       "nach zs3 an Ausfahrsignal von Gleis 1 Richtung ...     1\n",
       "name changed 2016-06-12                                1\n",
       "new asphalt 2014-05-21                                 1\n",
       "normalerweise oneway = yes, aber wegen Baustell...     1\n",
       "nördliche Weiche 93                                    1\n",
       "razed 07/2016                                          1\n",
       "steht so mit den Schreibfehlern auf dem Schild…        1\n",
       "unterhalb der Brücke                                   1\n",
       "yes                                                    4\n",
       "zum Rangierbezirk Nord                                 1"
      ]
     },
     "execution_count": 12,
     "metadata": {},
     "output_type": "execute_result"
    }
   ],
   "source": [
    "# list of notes in the data set\n",
    "df = prj.count_unique_items(SAMPLE_FILE, \n",
    "                            lambda t: 'note' in t.attrib['k'].lower(), \n",
    "                            df_name = 'Note')\n",
    "df"
   ]
  },
  {
   "cell_type": "markdown",
   "metadata": {
    "deletable": true,
    "editable": true
   },
   "source": [
    "### **Problem 4**: Non-numeric max speed representation\n",
    "\n",
    "The attribute 'maxspeed' in 'way' tags defines the max speed on streets and should only contain numeric values such as 5 or 120. \n",
    "\n",
    "* Example non-numeric max speeds:\n",
    "    * 'none'\n",
    "    * 'walk'\n",
    "    \n",
    "* Possible solutions:\n",
    "    * replace 'walk' with the official walking speed definition in Germany which is 5km/h\n",
    "    * replce 'none' with 200km/h since the default speed limit on German motorways is 120km/h\n",
    "    * rename to 'maxspeed:note' or add as 'todo' tag"
   ]
  },
  {
   "cell_type": "code",
   "execution_count": 13,
   "metadata": {
    "collapsed": false,
    "deletable": true,
    "editable": true
   },
   "outputs": [
    {
     "data": {
      "text/html": [
       "<div>\n",
       "<table border=\"1\" class=\"dataframe\">\n",
       "  <thead>\n",
       "    <tr style=\"text-align: right;\">\n",
       "      <th></th>\n",
       "      <th>MaxSpeed</th>\n",
       "    </tr>\n",
       "  </thead>\n",
       "  <tbody>\n",
       "    <tr>\n",
       "      <th>10</th>\n",
       "      <td>17</td>\n",
       "    </tr>\n",
       "    <tr>\n",
       "      <th>100</th>\n",
       "      <td>10</td>\n",
       "    </tr>\n",
       "    <tr>\n",
       "      <th>110</th>\n",
       "      <td>2</td>\n",
       "    </tr>\n",
       "    <tr>\n",
       "      <th>120</th>\n",
       "      <td>8</td>\n",
       "    </tr>\n",
       "    <tr>\n",
       "      <th>130</th>\n",
       "      <td>1</td>\n",
       "    </tr>\n",
       "    <tr>\n",
       "      <th>15</th>\n",
       "      <td>1</td>\n",
       "    </tr>\n",
       "    <tr>\n",
       "      <th>160</th>\n",
       "      <td>5</td>\n",
       "    </tr>\n",
       "    <tr>\n",
       "      <th>20</th>\n",
       "      <td>10</td>\n",
       "    </tr>\n",
       "    <tr>\n",
       "      <th>25</th>\n",
       "      <td>1</td>\n",
       "    </tr>\n",
       "    <tr>\n",
       "      <th>30</th>\n",
       "      <td>182</td>\n",
       "    </tr>\n",
       "    <tr>\n",
       "      <th>32</th>\n",
       "      <td>1</td>\n",
       "    </tr>\n",
       "    <tr>\n",
       "      <th>40</th>\n",
       "      <td>4</td>\n",
       "    </tr>\n",
       "    <tr>\n",
       "      <th>5</th>\n",
       "      <td>1</td>\n",
       "    </tr>\n",
       "    <tr>\n",
       "      <th>50</th>\n",
       "      <td>188</td>\n",
       "    </tr>\n",
       "    <tr>\n",
       "      <th>60</th>\n",
       "      <td>9</td>\n",
       "    </tr>\n",
       "    <tr>\n",
       "      <th>70</th>\n",
       "      <td>29</td>\n",
       "    </tr>\n",
       "    <tr>\n",
       "      <th>8</th>\n",
       "      <td>1</td>\n",
       "    </tr>\n",
       "    <tr>\n",
       "      <th>80</th>\n",
       "      <td>4</td>\n",
       "    </tr>\n",
       "    <tr>\n",
       "      <th>90</th>\n",
       "      <td>2</td>\n",
       "    </tr>\n",
       "    <tr>\n",
       "      <th>none</th>\n",
       "      <td>4</td>\n",
       "    </tr>\n",
       "    <tr>\n",
       "      <th>walk</th>\n",
       "      <td>1</td>\n",
       "    </tr>\n",
       "  </tbody>\n",
       "</table>\n",
       "</div>"
      ],
      "text/plain": [
       "      MaxSpeed\n",
       "10          17\n",
       "100         10\n",
       "110          2\n",
       "120          8\n",
       "130          1\n",
       "15           1\n",
       "160          5\n",
       "20          10\n",
       "25           1\n",
       "30         182\n",
       "32           1\n",
       "40           4\n",
       "5            1\n",
       "50         188\n",
       "60           9\n",
       "70          29\n",
       "8            1\n",
       "80           4\n",
       "90           2\n",
       "none         4\n",
       "walk         1"
      ]
     },
     "execution_count": 13,
     "metadata": {},
     "output_type": "execute_result"
    }
   ],
   "source": [
    "# list of max speeds in the data set\n",
    "df = prj.count_unique_items(SAMPLE_FILE, \n",
    "                            lambda t: 'maxspeed' == t.attrib['k'], \n",
    "                            df_name = 'MaxSpeed')\n",
    "df"
   ]
  },
  {
   "cell_type": "markdown",
   "metadata": {
    "deletable": true,
    "editable": true
   },
   "source": [
    "### **Problem 5**: Street names without using the German 'ß'\n",
    "\n",
    "In German we have umlauts (ä, ö, ü) and sharp s (ß) additionally to the roman letters. The German translation for street is for example 'Straße'. In times when typing the umlauts is not possible, we sometimes use their replacements:\n",
    "    * 'ä' -> 'ae'\n",
    "    * 'ö' -> 'oe'\n",
    "    * 'ü' -> 'ue'\n",
    "    * 'ß' -> 'ss'\n",
    "\n",
    "* In the sample data there are places where the replacement 'ss' is used for 'ß' in street names:\n",
    "    * 'Gross-Gerauer Strasse' instead of 'Gross-Gerauer Straße'\n",
    "    \n",
    "* Possible solutions:\n",
    "    * replace 'Strasse' with 'Straße'"
   ]
  },
  {
   "cell_type": "code",
   "execution_count": 14,
   "metadata": {
    "collapsed": false,
    "deletable": true,
    "editable": true
   },
   "outputs": [
    {
     "data": {
      "text/html": [
       "<div>\n",
       "<table border=\"1\" class=\"dataframe\">\n",
       "  <thead>\n",
       "    <tr style=\"text-align: right;\">\n",
       "      <th></th>\n",
       "      <th>IncorrectStreetName</th>\n",
       "    </tr>\n",
       "  </thead>\n",
       "  <tbody>\n",
       "    <tr>\n",
       "      <th>Rheinau Antwerpener Strasse</th>\n",
       "      <td>1</td>\n",
       "    </tr>\n",
       "    <tr>\n",
       "      <th>Rheinau Pigagestrasse</th>\n",
       "      <td>1</td>\n",
       "    </tr>\n",
       "  </tbody>\n",
       "</table>\n",
       "</div>"
      ],
      "text/plain": [
       "                             IncorrectStreetName\n",
       "Rheinau Antwerpener Strasse                    1\n",
       "Rheinau Pigagestrasse                          1"
      ]
     },
     "execution_count": 14,
     "metadata": {},
     "output_type": "execute_result"
    }
   ],
   "source": [
    "# list street names without using the German 'ß' in the data set\n",
    "df = prj.count_unique_items(SAMPLE_FILE, \n",
    "                            lambda t: 'strasse' in t.attrib['v'].lower(), \n",
    "                            df_name = 'IncorrectStreetName',\n",
    "                            tags = ['way', 'relation']\n",
    "                           )\n",
    "df"
   ]
  },
  {
   "cell_type": "markdown",
   "metadata": {
    "deletable": true,
    "editable": true
   },
   "source": [
    "## Data Overview\n",
    "\n",
    "In this section we'll import the OSM data into the MongoDB database and use simple queries to gather basic statistics and some interesting facts.\n",
    "\n",
    "**File Size**\n",
    "\n",
    "|             | OSM File | XML File Size | JSON File Size\n",
    "|-------------|------|------|\n",
    "| Map Data | raw_xml_mannheim_germany.osm | 217MiB | 252MiB |\n",
    "| Sample Data | sample.osm | 7.3MiB | 8.4MiB |"
   ]
  },
  {
   "cell_type": "code",
   "execution_count": 15,
   "metadata": {
    "collapsed": false,
    "deletable": true,
    "editable": true
   },
   "outputs": [
    {
     "name": "stdout",
     "output_type": "stream",
     "text": [
      "Map File:\n",
      "- xml=216.9MiB,\n",
      "- json=252.3MiB\n",
      "- path=C:\\Users\\ke\\Documents\\p3_osm_mannheim\\data\\raw_xml_mannheim_germany.osm\n",
      "\n",
      "Sample File:\n",
      "- xml=7.3MiB,\n",
      "- json=8.4MiB\n",
      "- path=C:\\Users\\ke\\Documents\\p3_osm_mannheim\\data\\sample.osm\n",
      "\n"
     ]
    }
   ],
   "source": [
    "# print osm file sizes\n",
    "print(\"Map File:\\n- xml={0},\\n- json={1}\\n- path={2}\\n\".format(\n",
    "    prj.format_size(prj.get_file_size(MAP_FILE)),\n",
    "    prj.format_size(prj.get_file_size(MAP_FILE + '.json')),\n",
    "    MAP_FILE\n",
    "))\n",
    "print(\"Sample File:\\n- xml={0},\\n- json={1}\\n- path={2}\\n\".format(\n",
    "    prj.format_size(prj.get_file_size(SAMPLE_FILE)),\n",
    "    prj.format_size(prj.get_file_size(SAMPLE_FILE + '.json')),\n",
    "    SAMPLE_FILE\n",
    "))"
   ]
  },
  {
   "cell_type": "markdown",
   "metadata": {
    "collapsed": true,
    "deletable": true,
    "editable": true
   },
   "source": [
    "### Import\n",
    "\n",
    "Here are the steps how we prepared the data import into MongoDB by converting the OSM XML file to json format using 'data.py' script and then import the data with the help of the 'mongoimport' tool.\n",
    "\n",
    "* Import Steps:\n",
    "    * Convert XML to JSON: \n",
    "        * Test and improve 'data.py' script using sample OSM file to audit and convert the data to JSON format\n",
    "> data.py -i sample.osm\n",
    "        * Convert the original map OSM file to JSON format using 'data.py' script\n",
    "> data.py -i raw_xml_mannheim_germany.osm\n",
    "    * Import JSON into MongoDB:\n",
    "        * Import Sample JSON data as the 'mannheim_sample' collection to check data format and for quick sample queries\n",
    "> mongoimport --db osm --collection mannheim_sample --file sample.osm.json\n",
    "        * Import map JSON data as the 'mannheim' collection\n",
    "> mongoimport --db osm --collection mannheim --file raw_xml_mannheim_germany.osm.json"
   ]
  },
  {
   "cell_type": "code",
   "execution_count": 16,
   "metadata": {
    "collapsed": false,
    "deletable": true,
    "editable": true
   },
   "outputs": [
    {
     "name": "stdout",
     "output_type": "stream",
     "text": [
      "1 loop, best of 1: 1.43 s per loop\n"
     ]
    }
   ],
   "source": [
    "%%timeit -n1 -r1\n",
    "\n",
    "# converts sample.osm to sample.osm.json\n",
    "%run ./data.py -i {SAMPLE_FILE}"
   ]
  },
  {
   "cell_type": "code",
   "execution_count": 17,
   "metadata": {
    "collapsed": false,
    "deletable": true,
    "editable": true
   },
   "outputs": [
    {
     "name": "stdout",
     "output_type": "stream",
     "text": [
      "mongoimport --db osm --collection mannheim_sample --file C:\\Users\\ke\\Documents\\p3_osm_mannheim\\data\\sample.osm.json\n"
     ]
    }
   ],
   "source": [
    "# import json file into mongodb\n",
    "\n",
    "cmd = 'mongoimport --db {0} --collection {1} --file {2}.json'.format(\n",
    "    OSM_DB,\n",
    "    SAMPLE_COLLECTION,\n",
    "    SAMPLE_FILE\n",
    ")\n",
    "print(cmd)\n",
    "# !cmd"
   ]
  },
  {
   "cell_type": "markdown",
   "metadata": {
    "collapsed": true,
    "deletable": true,
    "editable": true
   },
   "source": [
    "### Exploration\n",
    "\n",
    "After the map JSON file of Mannheim is successfully imported into MongoDB now. Let's begin to explore our data.\n",
    "\n",
    "* Some interesting results in the imported Mannheim collection:\n",
    "\n",
    "|         | count |\n",
    "|---------|-------|\n",
    "| documents | 1056066 |\n",
    "| nodes | 870680 |\n",
    "| ways | 185267 |\n",
    "| users | 1204 |\n",
    "| trees | 4521 |\n",
    "| tram stops | 194 |\n",
    "| car sharing stations | 75 |\n",
    "| fire stations | 33 |\n",
    "| fountains | 73 |\n",
    "| kindergartens | 190 |\n",
    "| schools | 208 |\n",
    "| universities and colleges | 61 |"
   ]
  },
  {
   "cell_type": "code",
   "execution_count": 18,
   "metadata": {
    "collapsed": false,
    "deletable": true,
    "editable": true
   },
   "outputs": [
    {
     "data": {
      "text/plain": [
       "Collection(Database(MongoClient(host=['localhost:27017'], document_class=dict, tz_aware=False, connect=True), u'osm'), u'mannheim')"
      ]
     },
     "execution_count": 18,
     "metadata": {},
     "output_type": "execute_result"
    }
   ],
   "source": [
    "# create mongodb connection to our osm database\n",
    "mannheim = prj.connect_to_mongodb(OSM_DB, MAP_COLLECTION)\n",
    "mannheim"
   ]
  },
  {
   "cell_type": "code",
   "execution_count": 19,
   "metadata": {
    "collapsed": false,
    "deletable": true,
    "editable": true
   },
   "outputs": [
    {
     "name": "stdout",
     "output_type": "stream",
     "text": [
      "number of documents: 1056066\n"
     ]
    }
   ],
   "source": [
    "# total number of documents\n",
    "print('number of documents: {}'.format(\n",
    "    mannheim.find().count()\n",
    "))"
   ]
  },
  {
   "cell_type": "code",
   "execution_count": 20,
   "metadata": {
    "collapsed": false,
    "deletable": true,
    "editable": true
   },
   "outputs": [
    {
     "name": "stdout",
     "output_type": "stream",
     "text": [
      "number of nodes: 870680\n"
     ]
    }
   ],
   "source": [
    "# total number of nodes\n",
    "print('number of nodes: {}'.format(\n",
    "    mannheim.find({'type': 'node'}).count()\n",
    "))"
   ]
  },
  {
   "cell_type": "code",
   "execution_count": 21,
   "metadata": {
    "collapsed": false,
    "deletable": true,
    "editable": true
   },
   "outputs": [
    {
     "name": "stdout",
     "output_type": "stream",
     "text": [
      "number of ways: 185267\n"
     ]
    }
   ],
   "source": [
    "# total number of ways\n",
    "print('number of ways: {}'.format(\n",
    "    mannheim.find({'type': 'way'}).count()\n",
    "))"
   ]
  },
  {
   "cell_type": "code",
   "execution_count": 22,
   "metadata": {
    "collapsed": false,
    "deletable": true,
    "editable": true
   },
   "outputs": [
    {
     "name": "stdout",
     "output_type": "stream",
     "text": [
      "number of contributing users: 1204\n"
     ]
    }
   ],
   "source": [
    "# total number of distinct contributing users\n",
    "print('number of contributing users: {}'.format(\n",
    "    len(mannheim.distinct('created.user'))\n",
    "))"
   ]
  },
  {
   "cell_type": "code",
   "execution_count": 23,
   "metadata": {
    "collapsed": false,
    "deletable": true,
    "editable": true
   },
   "outputs": [
    {
     "name": "stdout",
     "output_type": "stream",
     "text": [
      "number of trees: 4521\n"
     ]
    }
   ],
   "source": [
    "# total number of registered trees\n",
    "print('number of trees: {}'.format(\n",
    "    mannheim.find({'natural': 'tree'}).count()\n",
    "))"
   ]
  },
  {
   "cell_type": "code",
   "execution_count": 24,
   "metadata": {
    "collapsed": false,
    "deletable": true,
    "editable": true
   },
   "outputs": [
    {
     "name": "stdout",
     "output_type": "stream",
     "text": [
      "number of tram stops: 194\n"
     ]
    }
   ],
   "source": [
    "# total number of tram stops\n",
    "print('number of tram stops: {}'.format(\n",
    "    mannheim.find({'railway': 'tram_stop'}).count()\n",
    "))"
   ]
  },
  {
   "cell_type": "code",
   "execution_count": 25,
   "metadata": {
    "collapsed": false,
    "deletable": true,
    "editable": true
   },
   "outputs": [
    {
     "name": "stdout",
     "output_type": "stream",
     "text": [
      "number of car sharing stations:                   0\n",
      "122           water\n",
      "123     water_point\n",
      "124  watering_place\n",
      "125     weighbridge\n",
      "126    youth_centre\n"
     ]
    }
   ],
   "source": [
    "# list of amenities\n",
    "print('number of car sharing stations: {}'.format(\n",
    "    pd.DataFrame(sorted(list(mannheim.distinct('amenity')))).tail()\n",
    "))"
   ]
  },
  {
   "cell_type": "code",
   "execution_count": 26,
   "metadata": {
    "collapsed": false,
    "deletable": true,
    "editable": true
   },
   "outputs": [
    {
     "name": "stdout",
     "output_type": "stream",
     "text": [
      "number of car sharing stations: 75\n"
     ]
    }
   ],
   "source": [
    "# total number of car sharing stations\n",
    "print('number of car sharing stations: {}'.format(\n",
    "    mannheim.find({'amenity': 'car_sharing'}).count()\n",
    "))"
   ]
  },
  {
   "cell_type": "code",
   "execution_count": 27,
   "metadata": {
    "collapsed": false,
    "deletable": true,
    "editable": true
   },
   "outputs": [
    {
     "name": "stdout",
     "output_type": "stream",
     "text": [
      "number of fire stations: 33\n"
     ]
    }
   ],
   "source": [
    "# total number of fire stations\n",
    "print('number of fire stations: {}'.format(\n",
    "    mannheim.find({'amenity': 'fire_station'}).count()\n",
    "))"
   ]
  },
  {
   "cell_type": "code",
   "execution_count": 28,
   "metadata": {
    "collapsed": false,
    "deletable": true,
    "editable": true
   },
   "outputs": [
    {
     "name": "stdout",
     "output_type": "stream",
     "text": [
      "number of fountains: 73\n"
     ]
    }
   ],
   "source": [
    "# total number of fountains\n",
    "print('number of fountains: {}'.format(\n",
    "    mannheim.find({'amenity': 'fountain'}).count()\n",
    "))"
   ]
  },
  {
   "cell_type": "code",
   "execution_count": 29,
   "metadata": {
    "collapsed": false,
    "deletable": true,
    "editable": true
   },
   "outputs": [
    {
     "name": "stdout",
     "output_type": "stream",
     "text": [
      "number of kindergartens: 190\n"
     ]
    }
   ],
   "source": [
    "# total number of kindergartens\n",
    "print('number of kindergartens: {}'.format(\n",
    "    len(mannheim.find({'amenity': 'kindergarten'}).distinct('name'))\n",
    "))"
   ]
  },
  {
   "cell_type": "code",
   "execution_count": 30,
   "metadata": {
    "collapsed": false,
    "deletable": true,
    "editable": true
   },
   "outputs": [
    {
     "name": "stdout",
     "output_type": "stream",
     "text": [
      "number of schools: 208\n"
     ]
    }
   ],
   "source": [
    "# total number of schools\n",
    "print('number of schools: {}'.format(\n",
    "    len(mannheim.find({'amenity': 'school'}).distinct('name'))\n",
    "))"
   ]
  },
  {
   "cell_type": "code",
   "execution_count": 32,
   "metadata": {
    "collapsed": false,
    "deletable": true,
    "editable": true
   },
   "outputs": [
    {
     "name": "stdout",
     "output_type": "stream",
     "text": [
      "number of universities and colleges: 61\n"
     ]
    }
   ],
   "source": [
    "# total number of universities and colleges\n",
    "print('number of universities and colleges: {}'.format(\n",
    "    len(mannheim.find({'amenity': {'$in': ['university', 'college']}}).distinct('name'))\n",
    "))"
   ]
  },
  {
   "cell_type": "markdown",
   "metadata": {
    "deletable": true,
    "editable": true
   },
   "source": [
    "\n",
    "## Additional Ideas\n",
    "\n",
    "* List of additional ideas:\n",
    "    * [**Idea 1**: Top cuisines](#Idea-1:-Top-cuisines)\n",
    "    * [**Idea 2**: Popular fast food](#Idea-2:-Popular-fast-food)\n",
    "    * [**Idea 3**: Recently opened restaurants](#Idea-3:-Recently-opened-restaurants)\n",
    "    * [**Idea 4**: Postcode areas without kindergartens](#Idea-4:-Postcodes-without-kindergartens)\n",
    "    * [**Idea 5**: User activities over years](#Idea-5:-User-activities-over-years)"
   ]
  },
  {
   "cell_type": "markdown",
   "metadata": {
    "deletable": true,
    "editable": true
   },
   "source": [
    "### **Idea 1**: Top cuisines\n",
    "\n",
    "The top 3 of cuisines in Mannheim are: \n",
    "* 'Italian'\n",
    "* 'Greek' and \n",
    "* 'Pizza'"
   ]
  },
  {
   "cell_type": "code",
   "execution_count": 33,
   "metadata": {
    "collapsed": false,
    "deletable": true,
    "editable": true
   },
   "outputs": [
    {
     "name": "stdout",
     "output_type": "stream",
     "text": [
      "Top 10 restaurant cuisines in Mannheim:\n",
      "        _id  count\n",
      "0   italian    101\n",
      "1     greek     68\n",
      "2     pizza     32\n",
      "3    german     29\n",
      "4   turkish     14\n",
      "5     asian     10\n",
      "6   chinese      9\n",
      "7  regional      8\n",
      "8      thai      8\n",
      "9    indian      7\n"
     ]
    }
   ],
   "source": [
    "print('Top 10 restaurant cuisines in Mannheim:\\n{0}'.format(\n",
    "    pd.DataFrame(list(mannheim.aggregate([\n",
    "        {'$match': {'cuisine': {'$exists': 1}, 'amenity': 'restaurant'}}, \n",
    "        {'$group': {'_id': '$cuisine', 'count': {'$sum': 1}}},\n",
    "        {'$sort': {'count': -1}}, \n",
    "        {'$limit': 10}\n",
    "    ])))\n",
    "))"
   ]
  },
  {
   "cell_type": "markdown",
   "metadata": {
    "deletable": true,
    "editable": true
   },
   "source": [
    "### **Idea 2**: Popular fast food\n",
    "\n",
    "The most popular fast food in Mannheim are: \n",
    "* 'Kebab'\n",
    "* 'Pizza' and\n",
    "* 'Burger'"
   ]
  },
  {
   "cell_type": "code",
   "execution_count": 34,
   "metadata": {
    "collapsed": false,
    "deletable": true,
    "editable": true
   },
   "outputs": [
    {
     "name": "stdout",
     "output_type": "stream",
     "text": [
      "Top 10 fast food in Mannheim:\n",
      "        _id  count\n",
      "0     kebab     74\n",
      "1     pizza     49\n",
      "2    burger     23\n",
      "3     asian     13\n",
      "4   chinese     10\n",
      "5   chicken      8\n",
      "6  sandwich      8\n",
      "7   turkish      7\n",
      "8   italian      6\n",
      "9      thai      4\n"
     ]
    }
   ],
   "source": [
    "print('Top 10 fast food in Mannheim:\\n{0}'.format(\n",
    "    pd.DataFrame(list(mannheim.aggregate([\n",
    "        {'$match': {'cuisine': {'$exists': 1}, 'amenity': 'fast_food'}}, \n",
    "        {'$group': {'_id': '$cuisine', 'count': {'$sum': 1}}},\n",
    "        {'$sort': {'count': -1}}, \n",
    "        {'$limit': 10}\n",
    "    ])))\n",
    "))"
   ]
  },
  {
   "cell_type": "markdown",
   "metadata": {
    "deletable": true,
    "editable": true
   },
   "source": [
    "### **Idea 3**: Recently opened restaurants\n",
    "\n",
    "The most recently created (newly opened) restuarants are: \n",
    "* 'Aroma'\n",
    "* 'Il Carpaccio' and \n",
    "* 'Maffenbeier'"
   ]
  },
  {
   "cell_type": "code",
   "execution_count": 35,
   "metadata": {
    "collapsed": false,
    "deletable": true,
    "editable": true,
    "scrolled": true
   },
   "outputs": [
    {
     "name": "stdout",
     "output_type": "stream",
     "text": [
      "latest created of restaurant entries:\n",
      "                created                          name\n",
      "0  2017-03-29T11:15:46Z                         Aroma\n",
      "1  2017-03-29T11:15:45Z        Il Carpaccio (CLOSED!)\n",
      "2  2017-03-24T14:15:31Z                   Maffenbeier\n",
      "3  2017-03-19T13:33:59Z                    Agra Mahal\n",
      "4  2017-03-11T08:57:56Z                       Frenk's\n",
      "5  2017-03-10T11:45:19Z             Pizzeria S. Anile\n",
      "6  2017-03-09T04:26:36Z              Restaurant DEHUS\n",
      "7  2017-03-09T04:26:35Z              Cantina mexicana\n",
      "8  2017-03-08T09:44:42Z                      Heller's\n",
      "9  2017-03-08T09:33:27Z  Bolu Lezzet Fisch Restaurant\n"
     ]
    }
   ],
   "source": [
    "# recently created entries of restaurants\n",
    "print('latest created of restaurant entries:\\n{0}'.format(\n",
    "    pd.DataFrame(list(mannheim.aggregate([\n",
    "        {'$match': {'amenity': 'restaurant', 'name': {'$exists': 1}}},\n",
    "        {'$sort': {'created.timestamp': -1}},\n",
    "        {'$limit': 10},\n",
    "        {'$project': {'_id': 0, 'name': 1, 'created': '$created.timestamp'}}\n",
    "    ])))\n",
    "))"
   ]
  },
  {
   "cell_type": "markdown",
   "metadata": {
    "deletable": true,
    "editable": true
   },
   "source": [
    "### **Idea 4**: Postcodes without kindergartens\n",
    "\n",
    "Interesting for young parents is maybe which areas have kindergartens and which are not.\n",
    "\n",
    "* Postcode areas without kindergartens in Mannheim:\n",
    "    * 67071\n",
    "    * 67117\n",
    "    * 67165\n",
    "    * 67227\n",
    "    * 68161\n",
    "    * 68229\n",
    "    * 68623\n",
    "    * 68782\n",
    "    * 69123\n",
    "    * 69469"
   ]
  },
  {
   "cell_type": "code",
   "execution_count": 36,
   "metadata": {
    "collapsed": false,
    "deletable": true,
    "editable": true
   },
   "outputs": [
    {
     "name": "stdout",
     "output_type": "stream",
     "text": [
      "postcode areas without kindergartens:\n",
      "10    67071\n",
      "1     67117\n",
      "2     67165\n",
      "4     67227\n",
      "6     68161\n",
      "3     68229\n",
      "8     68623\n",
      "5     68782\n",
      "0     69123\n",
      "9     69214\n",
      "7     69469\n",
      "dtype: object\n"
     ]
    }
   ],
   "source": [
    "# postcode areas without kindergartens\n",
    "postcodes = mannheim.distinct('address.postcode')\n",
    "postcodes_with_kindergarten = mannheim.find({'amenity': 'kindergarten'}).distinct('address.postcode')\n",
    "print('postcode areas without kindergartens:\\n{}'.format(\n",
    "    pd.Series(list(set(postcodes) - set(postcodes_with_kindergarten))).sort_values()\n",
    "))"
   ]
  },
  {
   "cell_type": "markdown",
   "metadata": {
    "deletable": true,
    "editable": true
   },
   "source": [
    "### **Idea 5**: User activities over years\n",
    "\n",
    "In the visualization below we can recognize that there was a significant increase in user activities (identified by number of entries created) since 2012. The number has decreased since 2015, but that could be caused by our analyzed indicator. When the map data are relatively complete, the number of entries created by year tends to show new buildings, ways etc.\n",
    "\n",
    "* Number of entries created since 2009:\n",
    "    * 2009:   11488\n",
    "    * 2010:   16436\n",
    "    * 2011:   63027\n",
    "    * 2012:  191325\n",
    "    * 2013:  201457\n",
    "    * 2014:  221244\n",
    "    * 2015:  174173\n",
    "    * 2016:  152375"
   ]
  },
  {
   "cell_type": "code",
   "execution_count": 37,
   "metadata": {
    "collapsed": false,
    "deletable": true,
    "editable": true
   },
   "outputs": [
    {
     "name": "stdout",
     "output_type": "stream",
     "text": [
      "number of entries created by years:\n",
      "       count\n",
      "year        \n",
      "2007      61\n",
      "2008    2180\n",
      "2009   11488\n",
      "2010   16436\n",
      "2011   63027\n",
      "2012  191325\n",
      "2013  201457\n",
      "2014  221244\n",
      "2015  174173\n",
      "2016  152375\n",
      "2017   22300\n"
     ]
    },
    {
     "data": {
      "text/plain": [
       "<matplotlib.axes._subplots.AxesSubplot at 0x129fc310>"
      ]
     },
     "execution_count": 37,
     "metadata": {},
     "output_type": "execute_result"
    },
    {
     "data": {
      "image/png": "[encoded data removed]",
      "text/plain": [
       "<matplotlib.figure.Figure at 0x129dba90>"
      ]
     },
     "metadata": {},
     "output_type": "display_data"
    }
   ],
   "source": [
    "# number of entries created by years\n",
    "df = pd.DataFrame(list(mannheim.aggregate([\n",
    "    {'$project': {'year': {'$substr': ['$created.timestamp', 0, 4]}}},\n",
    "    {'$group': {'_id': '$year', 'count': {'$sum': 1}}},\n",
    "    {'$sort': {'_id': 1}},\n",
    "    {'$project': {'_id': 0, 'year': '$_id', 'count': 1}}\n",
    "])))\n",
    "df.set_index(['year'], inplace=True)\n",
    "\n",
    "print('number of entries created by years:\\n{0}'.format(df))\n",
    "df['count'].plot.bar()"
   ]
  },
  {
   "cell_type": "markdown",
   "metadata": {
    "deletable": true,
    "editable": true
   },
   "source": [
    "## Conclusion\n",
    "\n",
    "With the combination of OpenStreetMap map data and MongoDB it was surprisingly easy to dig into the data and to find out some really interesting facts. Compared to the MongoDB case study exmaple in the online course the data from Mannheim looks relatively clean and are 'mostly' consistent.\n",
    "\n",
    "It seems that there was a great increase in active users (or bots) starting from 2012 and have updated the map of Mannheim more actively since then. \n",
    "\n",
    "There are some open questions left, which should be analyzed in future work:\n",
    "* In the additional ideas section I experienced that the imported data is lacking information about the relationships between the different nodes and ways which are actually included in the original map data.  This element contains additional information about the relations between the other elements such as nodes and ways. \n",
    "    * A practical example for a relation is hiking route which combines many ways and nodes to a hiking map: \n",
    "```xml\n",
    "<relation>\n",
    "    <member ref=\"610900921\" role=\"hikingmap\" type=\"node\" />\n",
    "    <member ref=\"29372528\" role=\"\" type=\"way\" />\n",
    "    <!-- ... other nodes and ways ... -->\n",
    "    <tag k=\"name\" v=\"Rundweg 5, Waldschulweg\" />\n",
    "    <tag k=\"route\" v=\"hiking\" />\n",
    "    <tag k=\"operator\" v=\"Odenwaldklub\" />\n",
    "    <tag k=\"distance\" v=\"5.7\" />\n",
    "</relation>\n",
    "```\n",
    "    * The implementation to include the 'relation' elements using MongoDB is relatively easy. Since MongoDB has a flexible schema, we can use a separate relation collection to store these many-to-many relationship. The relation document can use references to describe relationships between connected data and use nested element structure for faster query performance. (see [MongoDB Data Models Relationships](https://docs.mongodb.com/manual/applications/data-models-relationships/))\n",
    "* In Germany the government has started to publish [open data](https://mannheim.opendatasoft.com/explore) containing information about the demographical distribution, the public services etc. in the cities. We could enrich the database using these metadata.\n",
    "    * The extra information about the districts and cities can be implemented using ['multipolygon' relations](http://wiki.openstreetmap.org/wiki/Relation:multipolygon). To display them we can utilize additional layers on top of the map.\n",
    "* When checking for bars and restaurants manually we realized that not all opening times were consistent with the numbers on google maps, tripadvisor or yelp. Moreover, some entries have missing address information or phone numbers. Maybe we could expand or audit the POIs using some external services publicly available.\n",
    "    * A way to do that is employ an automatic bot system which checks for updates on external services e.g. google maps periodically and updates or synchronizes the POI data in the database.\n",
    "    * The difficulties may be beyond the implementation scope. Above all, since OpenStreetMaps is an open source project, there could be issues with data licensing or copyright.\n",
    "    "
   ]
  },
  {
   "cell_type": "markdown",
   "metadata": {
    "collapsed": true,
    "deletable": true,
    "editable": true
   },
   "source": [
    "## References\n",
    "\n",
    "* [Udacity Website](udacity.com)\n",
    "* [Pandas Documentation](http://pandas.pydata.org/pandas-docs/stable/)\n",
    "* [OpenStreetMap XML Structure](https://wiki.openstreetmap.org/wiki/OSM_XML](https://wiki.openstreetmap.org/wiki/OSM_XML)\n",
    "* [OpenStreetMap Map Elements](https://wiki.openstreetmap.org/wiki/Elements](https://wiki.openstreetmap.org/wiki/Elements)\n",
    "* [MongoDB Manual](https://docs.mongodb.com/manual/)\n",
    "* [PyMongo Documentation](https://api.mongodb.com/python/current/)"
   ]
  },
  {
   "cell_type": "markdown",
   "metadata": {
    "deletable": true,
    "editable": true
   },
   "source": [
    "## Reproduction Environment"
   ]
  },
  {
   "cell_type": "code",
   "execution_count": 38,
   "metadata": {
    "collapsed": false,
    "deletable": true,
    "editable": true
   },
   "outputs": [
    {
     "name": "stdout",
     "output_type": "stream",
     "text": [
      "{'commit_hash': u'5c9c918',\n",
      " 'commit_source': 'installation',\n",
      " 'default_encoding': 'cp936',\n",
      " 'ipython_path': 'C:\\\\dev\\\\anaconda\\\\lib\\\\site-packages\\\\IPython',\n",
      " 'ipython_version': '5.1.0',\n",
      " 'os_name': 'nt',\n",
      " 'platform': 'Windows-7-6.1.7601-SP1',\n",
      " 'sys_executable': 'C:\\\\dev\\\\anaconda\\\\python.exe',\n",
      " 'sys_platform': 'win32',\n",
      " 'sys_version': '2.7.13 |Anaconda custom (32-bit)| (default, Dec 19 2016, 13:36:02) [MSC v.1500 32 bit (Intel)]'}\n"
     ]
    }
   ],
   "source": [
    "import IPython\n",
    "print IPython.sys_info()"
   ]
  },
  {
   "cell_type": "code",
   "execution_count": 39,
   "metadata": {
    "collapsed": false,
    "deletable": true,
    "editable": true
   },
   "outputs": [
    {
     "name": "stdout",
     "output_type": "stream",
     "text": [
      "alabaster==0.7.9\n",
      "anaconda-client==1.6.0\n",
      "anaconda-navigator==1.4.3\n",
      "argcomplete==1.0.0\n",
      "astroid==1.4.9\n",
      "astropy==1.3\n",
      "Babel==2.3.4\n",
      "backports-abc==0.5\n",
      "backports.shutil-get-terminal-size==1.0.0\n",
      "backports.ssl-match-hostname==3.4.0.2\n",
      "beautifulsoup4==4.5.3\n",
      "bitarray==0.8.1\n",
      "blaze==0.10.1\n",
      "bokeh==0.12.4\n",
      "boto==2.45.0\n",
      "Bottleneck==1.2.0\n",
      "cdecimal==2.3\n",
      "cffi==1.9.1\n",
      "chardet==2.3.0\n",
      "chest==0.2.3\n",
      "click==6.7\n",
      "cloudpickle==0.2.2\n",
      "clyent==1.2.2\n",
      "colorama==0.3.7\n",
      "comtypes==1.1.2\n",
      "conda==4.3.15\n",
      "configobj==5.0.6\n",
      "configparser==3.5.0\n",
      "contextlib2==0.5.4\n",
      "cryptography==1.7.1\n",
      "cycler==0.10.0\n",
      "Cython==0.25.2\n",
      "cytoolz==0.8.2\n",
      "dask==0.13.0\n",
      "datashape==0.5.4\n",
      "decorator==4.0.11\n",
      "dill==0.2.5\n",
      "docutils==0.13.1\n",
      "enum34==1.1.6\n",
      "et-xmlfile==1.0.1\n",
      "fastcache==1.0.2\n",
      "Flask==0.12\n",
      "Flask-Cors==3.0.2\n",
      "funcsigs==1.0.2\n",
      "functools32==3.2.3.post2\n",
      "futures==3.0.5\n",
      "gevent==1.2.1\n",
      "glueviz==0.9.1\n",
      "greenlet==0.4.11\n",
      "grin==1.2.1\n",
      "h5py==2.6.0\n",
      "HeapDict==1.0.0\n",
      "idna==2.2\n",
      "imagesize==0.7.1\n",
      "ipaddress==1.0.18\n",
      "ipykernel==4.5.2\n",
      "ipython==5.1.0\n",
      "ipython-genutils==0.1.0\n",
      "ipywidgets==5.2.2\n",
      "isort==4.2.5\n",
      "itsdangerous==0.24\n",
      "jdcal==1.3\n",
      "jedi==0.9.0\n",
      "Jinja2==2.9.4\n",
      "jsonschema==2.5.1\n",
      "jupyter==1.0.0\n",
      "jupyter-client==4.4.0\n",
      "jupyter-console==5.0.0\n",
      "jupyter-core==4.2.1\n",
      "lazy-object-proxy==1.2.2\n",
      "llvmlite==0.15.0\n",
      "locket==0.2.0\n",
      "lxml==3.7.2\n",
      "MarkupSafe==0.23\n",
      "matplotlib==2.0.0\n",
      "menuinst==1.4.4\n",
      "mistune==0.7.3\n",
      "mpmath==0.19\n",
      "multipledispatch==0.4.9\n",
      "nbconvert==4.2.0\n",
      "nbformat==4.2.0\n",
      "networkx==1.11\n",
      "nltk==3.2.2\n",
      "nose==1.3.7\n",
      "notebook==4.4.1\n",
      "numba==0.30.1+0.g8c1033f.dirty\n",
      "numexpr==2.6.1\n",
      "numpy==1.11.3\n",
      "numpydoc==0.6.0\n",
      "odo==0.5.0\n",
      "openpyxl==2.4.1\n",
      "pandas==0.19.2\n",
      "partd==0.3.7\n",
      "path.py==0.0.0\n",
      "pathlib2==2.2.0\n",
      "patsy==0.4.1\n",
      "pep8==1.7.0\n",
      "pickleshare==0.7.4\n",
      "Pillow==4.0.0\n",
      "ply==3.9\n",
      "prompt-toolkit==1.0.9\n",
      "psutil==5.0.1\n",
      "py==1.4.32\n",
      "pyasn1==0.1.9\n",
      "pycosat==0.6.1\n",
      "pycparser==2.17\n",
      "pycrypto==2.6.1\n",
      "pycurl==7.43.0\n",
      "pyflakes==1.5.0\n",
      "Pygments==2.1.3\n",
      "pylint==1.6.4\n",
      "pymongo==3.3.0\n",
      "pyOpenSSL==16.2.0\n",
      "pyparsing==2.1.4\n",
      "pytest==3.0.5\n",
      "python-dateutil==2.6.0\n",
      "pytz==2016.10\n",
      "pywin32==220\n",
      "PyYAML==3.12\n",
      "pyzmq==16.0.2\n",
      "QtAwesome==0.4.3\n",
      "qtconsole==4.2.1\n",
      "QtPy==1.2.1\n",
      "requests==2.12.4\n",
      "rope==0.9.4\n",
      "scandir==1.4\n",
      "scikit-image==0.12.3\n",
      "scikit-learn==0.18.1\n",
      "scipy==0.18.1\n",
      "seaborn==0.7.1\n",
      "simplegeneric==0.8.1\n",
      "singledispatch==3.4.0.3\n",
      "six==1.10.0\n",
      "snowballstemmer==1.2.1\n",
      "sockjs-tornado==1.0.3\n",
      "sphinx==1.5.1\n",
      "spyder==3.1.2\n",
      "SQLAlchemy==1.1.5\n",
      "statsmodels==0.6.1\n",
      "subprocess32==3.2.7\n",
      "sympy==1.0\n",
      "tables==3.2.2\n",
      "toolz==0.8.2\n",
      "tornado==4.4.2\n",
      "traitlets==4.3.1\n",
      "unicodecsv==0.14.1\n",
      "wcwidth==0.1.7\n",
      "Werkzeug==0.11.15\n",
      "widgetsnbextension==1.2.6\n",
      "win-unicode-console==0.5\n",
      "wrapt==1.10.8\n",
      "xlrd==1.0.0\n",
      "XlsxWriter==0.9.6\n",
      "xlwings==0.10.2\n",
      "xlwt==1.2.0\n"
     ]
    }
   ],
   "source": [
    "!pip freeze"
   ]
  },
  {
   "cell_type": "code",
   "execution_count": null,
   "metadata": {
    "collapsed": true,
    "deletable": true,
    "editable": true
   },
   "outputs": [],
   "source": []
  }
 ],
 "metadata": {
  "anaconda-cloud": {},
  "kernelspec": {
   "display_name": "Python 2",
   "language": "python",
   "name": "python2"
  },
  "language_info": {
   "codemirror_mode": {
    "name": "ipython",
    "version": 2
   },
   "file_extension": ".py",
   "mimetype": "text/x-python",
   "name": "python",
   "nbconvert_exporter": "python",
   "pygments_lexer": "ipython2",
   "version": "2.7.13"
  }
 },
 "nbformat": 4,
 "nbformat_minor": 0
}
